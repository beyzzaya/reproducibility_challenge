{
  "cells": [
    {
      "cell_type": "markdown",
      "metadata": {
        "id": "view-in-github",
        "colab_type": "text"
      },
      "source": [
        "<a href=\"https://colab.research.google.com/github/beyzzaya/reproducibility_challenge/blob/main/Untitled34.ipynb\" target=\"_parent\"><img src=\"https://colab.research.google.com/assets/colab-badge.svg\" alt=\"Open In Colab\"/></a>"
      ]
    },
    {
      "cell_type": "code",
      "execution_count": null,
      "metadata": {
        "id": "0Gf8vuxShbeB"
      },
      "outputs": [],
      "source": [
        "import sys\n",
        "sys.path.append('/content/PIQ2023/src/models/archs')\n",
        "\n",
        "# Now you can import your modules without import errors\n",
        "from sem_hyperiqa_util import HyperNet, RescaleNet, TargetNet, SceneClassNet\n",
        "from arch_util import load_file_from_url"
      ]
    },
    {
      "cell_type": "code",
      "source": [
        "import pandas as pd\n",
        "import numpy as np"
      ],
      "metadata": {
        "id": "MfOYvDf2hL_o"
      },
      "execution_count": null,
      "outputs": []
    },
    {
      "cell_type": "code",
      "execution_count": null,
      "metadata": {
        "colab": {
          "base_uri": "https://localhost:8080/"
        },
        "id": "xeTWGgfDtH_j",
        "outputId": "8301fe09-160b-4911-b559-ab7c2457dbaf"
      },
      "outputs": [
        {
          "output_type": "stream",
          "name": "stdout",
          "text": [
            "Cloning into 'PIQ2023'...\n",
            "remote: Enumerating objects: 321, done.\u001b[K\n",
            "remote: Counting objects: 100% (43/43), done.\u001b[K\n",
            "remote: Compressing objects: 100% (19/19), done.\u001b[K\n",
            "remote: Total 321 (delta 18), reused 36 (delta 13), pack-reused 278\u001b[K\n",
            "Receiving objects: 100% (321/321), 21.34 MiB | 22.76 MiB/s, done.\n",
            "Resolving deltas: 100% (121/121), done.\n"
          ]
        }
      ],
      "source": [
        "!git clone https://github.com/DXOMARK-Research/PIQ2023"
      ]
    },
    {
      "cell_type": "code",
      "execution_count": null,
      "metadata": {
        "colab": {
          "base_uri": "https://localhost:8080/"
        },
        "id": "_1251pktti9s",
        "outputId": "d91964ce-3de3-4c49-c245-1beaf0d4705f"
      },
      "outputs": [
        {
          "output_type": "stream",
          "name": "stdout",
          "text": [
            "Mounted at /content/drive\n"
          ]
        }
      ],
      "source": [
        "from google.colab import drive\n",
        "drive.mount('/content/drive')"
      ]
    },
    {
      "cell_type": "code",
      "execution_count": null,
      "metadata": {
        "id": "W6FuL0aay9sM"
      },
      "outputs": [],
      "source": [
        "!python /content/PIQ2023/src/models/archs/arch_util.py"
      ]
    },
    {
      "cell_type": "code",
      "execution_count": null,
      "metadata": {
        "id": "CFCdi2s70X3C"
      },
      "outputs": [],
      "source": [
        "!python PIQ2023/src/models/archs/sem_hyperiqa_util.py"
      ]
    },
    {
      "cell_type": "code",
      "execution_count": null,
      "metadata": {
        "id": "fQEt8Yek3Gpp"
      },
      "outputs": [],
      "source": [
        "!python /content/PIQ2023/src/models/archs/sem_hyperiqa_arch.py"
      ]
    },
    {
      "cell_type": "code",
      "execution_count": null,
      "metadata": {
        "id": "7oLkTalR8Mhs"
      },
      "outputs": [],
      "source": [
        "import math\n",
        "import collections.abc\n",
        "import numpy as np\n",
        "import torch\n",
        "import os\n",
        "from typing import Tuple\n",
        "from urllib.parse import urlparse\n",
        "from itertools import repeat\n",
        "from torch import nn as nn\n",
        "from torch.nn import functional as F\n",
        "from torch.nn import init as init\n",
        "from torch.nn.modules.batchnorm import _BatchNorm\n",
        "from torch.hub import download_url_to_file, get_dir\n",
        "\n",
        "\n",
        "# --------------------------------------------\n",
        "# IQA utils\n",
        "    # Code taken from: https://github.com/chaofengc/IQA-PyTorch\n",
        "# --------------------------------------------\n",
        "\n",
        "def load_file_from_url(url, model_dir=None, progress=True, file_name=None):\n",
        "    \"\"\"Load file form http url, will download models if necessary.\n",
        "\n",
        "    Ref: https://github.com/1adrianb/face-alignment/blob/master/face_alignment/utils.py\n",
        "\n",
        "    Args:\n",
        "        url (str): URL to be downloaded.\n",
        "        model_dir (str): The path to save the downloaded model. Should be a full path. If None, use pytorch hub_dir.\n",
        "            Default: None.\n",
        "        progress (bool): Whether to show the download progress. Default: True.\n",
        "        file_name (str): The downloaded file name. If None, use the file name in the url. Default: None.\n",
        "\n",
        "    Returns:\n",
        "        str: The path to the downloaded file.\n",
        "    \"\"\"\n",
        "    if model_dir is None:  # use the pytorch hub_dir\n",
        "        hub_dir = get_dir()\n",
        "        model_dir = os.path.join(hub_dir, 'checkpoints')\n",
        "\n",
        "    os.makedirs(model_dir, exist_ok=True)\n",
        "\n",
        "    parts = urlparse(url)\n",
        "    filename = os.path.basename(parts.path)\n",
        "    if file_name is not None:\n",
        "        filename = file_name\n",
        "    cached_file = os.path.abspath(os.path.join(model_dir, filename))\n",
        "    if not os.path.exists(cached_file):\n",
        "        print(f'Downloading: \"{url}\" to {cached_file}\\n')\n",
        "        download_url_to_file(url, cached_file, hash_prefix=None, progress=progress)\n",
        "    return cached_file\n",
        "\n",
        "def dist_to_mos(dist_score: torch.Tensor) -> torch.Tensor:\n",
        "    \"\"\"Convert distribution prediction to mos score.\n",
        "    For datasets with detailed score labels, such as AVA\n",
        "\n",
        "    Args:\n",
        "        dist_score (tensor): (*, C), C is the class number\n",
        "\n",
        "    Output:\n",
        "        mos_score (tensor): (*, 1)\n",
        "    \"\"\"\n",
        "    num_classes = dist_score.shape[-1]\n",
        "    mos_score = dist_score * torch.arange(1, num_classes + 1).to(dist_score)\n",
        "    mos_score = mos_score.sum(dim=-1, keepdim=True)\n",
        "    return mos_score\n",
        "\n",
        "\n",
        "# --------------------------------------------\n",
        "# Common utils\n",
        "# --------------------------------------------\n",
        "\n",
        "\n",
        "def load_pretrained_network(net, model_path, strict=True, weight_keys=None):\n",
        "    if model_path.startswith('https://') or model_path.startswith('http://'):\n",
        "        model_path = load_file_from_url(model_path)\n",
        "    print(f'Loading pretrained model {net.__class__.__name__} from {model_path}')\n",
        "    state_dict = torch.load(model_path, map_location=torch.device('cpu'))\n",
        "    if weight_keys:\n",
        "        state_dict = state_dict[weight_keys]\n",
        "    net.load_state_dict(state_dict, strict=strict)\n",
        "\n",
        "\n",
        "def _ntuple(n):\n",
        "\n",
        "    def parse(x):\n",
        "        if isinstance(x, collections.abc.Iterable):\n",
        "            return x\n",
        "        return tuple(repeat(x, n))\n",
        "\n",
        "    return parse\n",
        "\n",
        "\n",
        "to_1tuple = _ntuple(1)\n",
        "to_2tuple = _ntuple(2)\n",
        "to_3tuple = _ntuple(3)\n",
        "to_4tuple = _ntuple(4)\n",
        "to_ntuple = _ntuple\n",
        "\n",
        "\n",
        "@torch.no_grad()\n",
        "def default_init_weights(module_list, scale=1, bias_fill=0, **kwargs):\n",
        "    r\"\"\"Initialize network weights.\n",
        "\n",
        "    Args:\n",
        "        module_list (list[nn.Module] | nn.Module): Modules to be initialized.\n",
        "        scale (float): Scale initialized weights, especially for residual\n",
        "            blocks. Default: 1.\n",
        "        bias_fill (float): The value to fill bias. Default: 0.\n",
        "        kwargs (dict): Other arguments for initialization function.\n",
        "\n",
        "    \"\"\"\n",
        "    if not isinstance(module_list, list):\n",
        "        module_list = [module_list]\n",
        "    for module in module_list:\n",
        "        for m in module.modules():\n",
        "            if isinstance(m, nn.Conv2d):\n",
        "                init.kaiming_normal_(m.weight, **kwargs)\n",
        "                m.weight.data *= scale\n",
        "                if m.bias is not None:\n",
        "                    m.bias.data.fill_(bias_fill)\n",
        "            elif isinstance(m, nn.Linear):\n",
        "                init.kaiming_normal_(m.weight, **kwargs)\n",
        "                m.weight.data *= scale\n",
        "                if m.bias is not None:\n",
        "                    m.bias.data.fill_(bias_fill)\n",
        "            elif isinstance(m, _BatchNorm):\n",
        "                init.constant_(m.weight, 1)\n",
        "                if m.bias is not None:\n",
        "                    m.bias.data.fill_(bias_fill)\n",
        "\n",
        "\n",
        "def symm_pad(im: torch.Tensor, padding: Tuple[int, int, int, int]):\n",
        "    \"\"\"Symmetric padding same as tensorflow.\n",
        "    Ref: https://discuss.pytorch.org/t/symmetric-padding/19866/3\n",
        "    \"\"\"\n",
        "    h, w = im.shape[-2:]\n",
        "    left, right, top, bottom = padding\n",
        "\n",
        "    x_idx = np.arange(-left, w+right)\n",
        "    y_idx = np.arange(-top, h+bottom)\n",
        "\n",
        "    def reflect(x, minx, maxx):\n",
        "        \"\"\" Reflects an array around two points making a triangular waveform that ramps up\n",
        "        and down,  allowing for pad lengths greater than the input length \"\"\"\n",
        "        rng = maxx - minx\n",
        "        double_rng = 2*rng\n",
        "        mod = np.fmod(x - minx, double_rng)\n",
        "        normed_mod = np.where(mod < 0, mod+double_rng, mod)\n",
        "        out = np.where(normed_mod >= rng, double_rng - normed_mod, normed_mod) + minx\n",
        "        return np.array(out, dtype=x.dtype)\n",
        "\n",
        "    x_pad = reflect(x_idx, -0.5, w-0.5)\n",
        "    y_pad = reflect(y_idx, -0.5, h-0.5)\n",
        "    xx, yy = np.meshgrid(x_pad, y_pad)\n",
        "    return im[..., yy, xx]\n",
        "\n",
        "\n",
        "def exact_padding_2d(x, kernel, stride=1, dilation=1, mode='same'):\n",
        "    assert len(x.shape) == 4, f'Only support 4D tensor input, but got {x.shape}'\n",
        "    kernel = to_2tuple(kernel)\n",
        "    stride = to_2tuple(stride)\n",
        "    dilation = to_2tuple(dilation)\n",
        "    b, c, h, w = x.shape\n",
        "    h2 = math.ceil(h / stride[0])\n",
        "    w2 = math.ceil(w / stride[1])\n",
        "    pad_row = (h2 - 1) * stride[0] + (kernel[0] - 1) * dilation[0] + 1 - h\n",
        "    pad_col = (w2 - 1) * stride[1] + (kernel[1] - 1) * dilation[1] + 1 - w\n",
        "    pad_l, pad_r, pad_t, pad_b = (pad_col // 2, pad_col - pad_col // 2, pad_row // 2, pad_row - pad_row // 2)\n",
        "\n",
        "    mode = mode if mode != 'same' else 'constant'\n",
        "    if mode != 'symmetric':\n",
        "        x = F.pad(x, (pad_l, pad_r, pad_t, pad_b), mode=mode)\n",
        "    elif mode == 'symmetric':\n",
        "        x = symm_pad(x, (pad_l, pad_r, pad_t, pad_b))\n",
        "\n",
        "    return x\n",
        "\n",
        "\n",
        "class ExactPadding2d(nn.Module):\n",
        "    r\"\"\"This function calculate exact padding values for 4D tensor inputs,\n",
        "    and support the same padding mode as tensorflow.\n",
        "\n",
        "    Args:\n",
        "        kernel (int or tuple): kernel size.\n",
        "        stride (int or tuple): stride size.\n",
        "        dilation (int or tuple): dilation size, default with 1.\n",
        "        mode (srt): padding mode can be ('same', 'symmetric', 'replicate', 'circular')\n",
        "\n",
        "    \"\"\"\n",
        "\n",
        "    def __init__(self, kernel, stride=1, dilation=1, mode='same'):\n",
        "        super().__init__()\n",
        "        self.kernel = to_2tuple(kernel)\n",
        "        self.stride = to_2tuple(stride)\n",
        "        self.dilation = to_2tuple(dilation)\n",
        "        self.mode = mode\n",
        "\n",
        "    def forward(self, x):\n",
        "        return exact_padding_2d(x, self.kernel, self.stride, self.dilation, self.mode)\n"
      ]
    },
    {
      "cell_type": "code",
      "execution_count": null,
      "metadata": {
        "id": "oHiUGf1tsvvs"
      },
      "outputs": [],
      "source": [
        "import torch as torch\n",
        "import torch.nn as nn\n",
        "from torch.nn import functional as F\n",
        "from torch.nn import init\n",
        "import math\n",
        "\n",
        "\n",
        "model_urls = {\n",
        "    'resnet18': 'https://download.pytorch.org/models/resnet18-5c106cde.pth',\n",
        "    'resnet34': 'https://download.pytorch.org/models/resnet34-333f7ec4.pth',\n",
        "    'resnet50': 'https://download.pytorch.org/models/resnet50-19c8e357.pth',\n",
        "    'resnet101': 'https://download.pytorch.org/models/resnet101-5d3b4d8f.pth',\n",
        "    'resnet152': 'https://download.pytorch.org/models/resnet152-b121ed2d.pth',\n",
        "}\n",
        "\n",
        "\n",
        "class HyperNet(nn.Module):\n",
        "    \"\"\"\n",
        "    Hyper network for learning perceptual rules.\n",
        "    # Code adapted from: https://github.com/SSL92/hyperIQA\n",
        "\n",
        "    Args:\n",
        "        lda_out_channels: local distortion aware module output size.\n",
        "        hyper_in_channels: input feature channels for hyper network.\n",
        "        target_in_size: input vector size for target network.\n",
        "        target_fc(i)_size: fully connection layer size of target network.\n",
        "        feature_size: input feature map width/height for hyper network.\n",
        "\n",
        "    Note:\n",
        "        For size match, input args must satisfy: 'target_fc(i)_size * target_fc(i+1)_size' is divisible by 'feature_size ^ 2'.\n",
        "    \"\"\"\n",
        "\n",
        "    def __init__(self, lda_out_channels, hyper_in_channels, target_in_size, target_fc1_size, target_fc2_size, target_fc3_size, target_fc4_size, feature_size, patch_rate, **kwargs):\n",
        "        super(HyperNet, self).__init__()\n",
        "        self.hyperInChn = hyper_in_channels\n",
        "        self.target_in_size = target_in_size\n",
        "        self.f1 = target_fc1_size\n",
        "        self.f2 = target_fc2_size\n",
        "        self.f3 = target_fc3_size\n",
        "        self.f4 = target_fc4_size\n",
        "        self.feature_size = feature_size\n",
        "        self.patch_rate = patch_rate\n",
        "\n",
        "        self.res = resnet50_backbone(lda_out_channels, target_in_size, patch_rate=self.patch_rate, pretrained=True)\n",
        "\n",
        "        self.pool = nn.AdaptiveAvgPool2d((1, 1))\n",
        "        self.poolClass = None\n",
        "        if kwargs.get('classFeaturesOut', None) is not None:\n",
        "            self.poolClass = nn.AdaptiveAvgPool2d((1, kwargs.get('classFeaturesOut')))\n",
        "\n",
        "        # Conv layers for resnet output features\n",
        "        self.conv1 = nn.Sequential(\n",
        "            nn.Conv2d(2048, 1024, 1, padding=(0, 0)),\n",
        "            nn.ReLU(inplace=True),\n",
        "            nn.Conv2d(1024, 512, 1, padding=(0, 0)),\n",
        "            nn.ReLU(inplace=True),\n",
        "            nn.Conv2d(512, self.hyperInChn, 1, padding=(0, 0)),\n",
        "            nn.ReLU(inplace=True)\n",
        "        )\n",
        "\n",
        "        # Hyper network part, conv for generating target fc weights, fc for generating target fc biases\n",
        "        self.fc1w_conv = nn.Conv2d(self.hyperInChn, int(self.target_in_size * self.f1 / feature_size ** 2), 3,  padding=(1, 1))\n",
        "        self.fc1b_fc = nn.Linear(self.hyperInChn, self.f1)\n",
        "\n",
        "        self.fc2w_conv = nn.Conv2d(self.hyperInChn, int(self.f1 * self.f2 / feature_size ** 2), 3, padding=(1, 1))\n",
        "        self.fc2b_fc = nn.Linear(self.hyperInChn, self.f2)\n",
        "\n",
        "        self.fc3w_conv = nn.Conv2d(self.hyperInChn, int(self.f2 * self.f3 / feature_size ** 2), 3, padding=(1, 1))\n",
        "        self.fc3b_fc = nn.Linear(self.hyperInChn, self.f3)\n",
        "\n",
        "        self.fc4w_conv = nn.Conv2d(self.hyperInChn, int(self.f3 * self.f4 / feature_size ** 2), 3, padding=(1, 1))\n",
        "        self.fc4b_fc = nn.Linear(self.hyperInChn, self.f4)\n",
        "\n",
        "        self.fc5w_fc = nn.Linear(self.hyperInChn, self.f4)\n",
        "        self.fc5b_fc = nn.Linear(self.hyperInChn, 1)\n",
        "\n",
        "        # initialize\n",
        "        for i, m_name in enumerate(self._modules):\n",
        "            if i > 3:\n",
        "                nn.init.kaiming_normal_(self._modules[m_name].weight.data)\n",
        "\n",
        "    def _forward(self, imgTensorIn):\n",
        "        feature_size = self.feature_size\n",
        "        res_out = self.res(imgTensorIn)\n",
        "\n",
        "        # input vector for target net\n",
        "        target_in_vec = res_out['target_in_vec'].view(-1, self.target_in_size, 1, 1)\n",
        "\n",
        "        # input features for hyper net\n",
        "        hyper_in_feat = self.conv1(res_out['hyper_in_feat']).view(-1, self.hyperInChn, feature_size, feature_size)\n",
        "\n",
        "        # generating target net weights & biases\n",
        "        target_fc1w = self.fc1w_conv(hyper_in_feat).view(-1, self.f1, self.target_in_size, 1, 1)\n",
        "        target_fc1b = self.fc1b_fc(self.pool(hyper_in_feat).squeeze()).view(-1, self.f1)\n",
        "\n",
        "        target_fc2w = self.fc2w_conv(hyper_in_feat).view(-1, self.f2, self.f1, 1, 1)\n",
        "        target_fc2b = self.fc2b_fc(self.pool(hyper_in_feat).squeeze()).view(-1, self.f2)\n",
        "\n",
        "        target_fc3w = self.fc3w_conv(hyper_in_feat).view(-1, self.f3, self.f2, 1, 1)\n",
        "        target_fc3b = self.fc3b_fc(self.pool(hyper_in_feat).squeeze()).view(-1, self.f3)\n",
        "\n",
        "        target_fc4w = self.fc4w_conv(hyper_in_feat).view(-1, self.f4, self.f3, 1, 1)\n",
        "        target_fc4b = self.fc4b_fc(self.pool(hyper_in_feat).squeeze()).view(-1, self.f4)\n",
        "\n",
        "        target_fc5w = self.fc5w_fc(self.pool(hyper_in_feat).squeeze()).view(-1, 1, self.f4, 1, 1)\n",
        "        target_fc5b = self.fc5b_fc(self.pool(hyper_in_feat).squeeze()).view(-1, 1)\n",
        "\n",
        "        out = {}\n",
        "        out['target_in_vec'] = target_in_vec\n",
        "        out['target_fc1w'] = target_fc1w\n",
        "        out['target_fc1b'] = target_fc1b\n",
        "        out['target_fc2w'] = target_fc2w\n",
        "        out['target_fc2b'] = target_fc2b\n",
        "        out['target_fc3w'] = target_fc3w\n",
        "        out['target_fc3b'] = target_fc3b\n",
        "        out['target_fc4w'] = target_fc4w\n",
        "        out['target_fc4b'] = target_fc4b\n",
        "        out['target_fc5w'] = target_fc5w\n",
        "        out['target_fc5b'] = target_fc5b\n",
        "\n",
        "        if self.poolClass:\n",
        "            return out, torch.flatten(self.poolClass(hyper_in_feat), 1)\n",
        "        return out\n",
        "\n",
        "\n",
        "    def forward(self, input):\n",
        "\n",
        "        if isinstance(input, list):\n",
        "            # Ideally this should not be used, since the input should be a tensor of concatenated inputs not a list of inputs.\n",
        "            out_all = []\n",
        "            hyper_in_all = []\n",
        "            for elt in input:\n",
        "                # this elt in img is considering img to be a list of patches so a list of [torch.Size([batch_size, 3, patch_size, patch_size])]\n",
        "                out = self._forward(elt)\n",
        "                if self.poolClass:\n",
        "                    out_all.append(out[0])\n",
        "                    hyper_in_all.append(out[1])\n",
        "                else:\n",
        "                    out_all.append(out)\n",
        "            if self.poolClass:\n",
        "                return out_all, hyper_in_all\n",
        "            return out_all\n",
        "\n",
        "        return self._forward(input)\n",
        "\n",
        "\n",
        "\n",
        "class TargetNet(nn.Module):\n",
        "    \"\"\"\n",
        "    Target network for quality prediction.\n",
        "    \"\"\"\n",
        "    def __init__(self, paras):\n",
        "        super(TargetNet, self).__init__()\n",
        "        self.l1 = nn.Sequential(\n",
        "            TargetFC(paras['target_fc1w'], paras['target_fc1b']),\n",
        "            nn.Sigmoid(),\n",
        "        )\n",
        "        self.l2 = nn.Sequential(\n",
        "            TargetFC(paras['target_fc2w'], paras['target_fc2b']),\n",
        "            nn.Sigmoid(),\n",
        "        )\n",
        "\n",
        "        self.l3 = nn.Sequential(\n",
        "            TargetFC(paras['target_fc3w'], paras['target_fc3b']),\n",
        "            nn.Sigmoid(),\n",
        "        )\n",
        "\n",
        "        self.l4 = nn.Sequential(\n",
        "            TargetFC(paras['target_fc4w'], paras['target_fc4b']),\n",
        "            nn.Sigmoid(),\n",
        "            TargetFC(paras['target_fc5w'], paras['target_fc5b']),\n",
        "        )\n",
        "\n",
        "    def forward(self, x):\n",
        "        q = self.l1(x)\n",
        "\n",
        "        q = self.l2(q)\n",
        "        q = self.l3(q)\n",
        "        q = self.l4(q).squeeze()\n",
        "\n",
        "        return q\n",
        "\n",
        "\n",
        "class TargetFC(nn.Module):\n",
        "    \"\"\"\n",
        "    Fully connection operations for target net\n",
        "    \"\"\"\n",
        "    def __init__(self, weight, bias):\n",
        "        super(TargetFC, self).__init__()\n",
        "        self.weight = weight\n",
        "        self.bias = bias\n",
        "\n",
        "    def forward(self, input_):\n",
        "        input_re = input_.view(-1, input_.shape[0] * input_.shape[1], input_.shape[2], input_.shape[3])\n",
        "        weight_re = self.weight.view(self.weight.shape[0] * self.weight.shape[1], self.weight.shape[2], self.weight.shape[3], self.weight.shape[4])\n",
        "        bias_re = self.bias.view(self.bias.shape[0] * self.bias.shape[1])\n",
        "\n",
        "        out = F.conv2d(input=input_re, weight=weight_re, bias=bias_re, groups=self.weight.shape[0])\n",
        "\n",
        "        return out.view(input_.shape[0], self.weight.shape[1], input_.shape[2], input_.shape[3])\n",
        "\n",
        "\n",
        "class Bottleneck(nn.Module):\n",
        "    expansion = 4\n",
        "\n",
        "    def __init__(self, inplanes, planes, stride=1, downsample=None):\n",
        "        super(Bottleneck, self).__init__()\n",
        "        self.conv1 = nn.Conv2d(inplanes, planes, kernel_size=1, bias=False)\n",
        "        self.bn1 = nn.BatchNorm2d(planes)\n",
        "        self.conv2 = nn.Conv2d(planes, planes, kernel_size=3, stride=stride,\n",
        "                               padding=1, bias=False)\n",
        "        self.bn2 = nn.BatchNorm2d(planes)\n",
        "        self.conv3 = nn.Conv2d(planes, planes * 4, kernel_size=1, bias=False)\n",
        "        self.bn3 = nn.BatchNorm2d(planes * 4)\n",
        "        self.relu = nn.ReLU(inplace=True)\n",
        "        self.downsample = downsample\n",
        "        self.stride = stride\n",
        "\n",
        "    def forward(self, x):\n",
        "        residual = x\n",
        "\n",
        "        out = self.conv1(x)\n",
        "        out = self.bn1(out)\n",
        "        out = self.relu(out)\n",
        "\n",
        "        out = self.conv2(out)\n",
        "        out = self.bn2(out)\n",
        "        out = self.relu(out)\n",
        "\n",
        "        out = self.conv3(out)\n",
        "        out = self.bn3(out)\n",
        "\n",
        "        if self.downsample is not None:\n",
        "            residual = self.downsample(x)\n",
        "\n",
        "        out += residual\n",
        "        out = self.relu(out)\n",
        "\n",
        "        return out\n",
        "\n",
        "\n",
        "class ResNetBackbone(nn.Module):\n",
        "    \"\"\"\n",
        "    ResNet50 backbone model for feature extraction\n",
        "    Outputs:\n",
        "        out : dictionnary containing the input features of the hypernetwork and target features for FC-quality\n",
        "    \"\"\"\n",
        "\n",
        "    def __init__(self, lda_out_channels, in_chn, block, layers, patch_rate, num_classes=1000):\n",
        "        super(ResNetBackbone, self).__init__()\n",
        "        self.inplanes = 64\n",
        "        self.conv1 = nn.Conv2d(3, 64, kernel_size=7, stride=2, padding=3, bias=False)\n",
        "        self.bn1 = nn.BatchNorm2d(64)\n",
        "        self.relu = nn.ReLU(inplace=True)\n",
        "        self.maxpool = nn.MaxPool2d(kernel_size=3, stride=2, padding=1)\n",
        "        self.layer1 = self._make_layer(block, 64, layers[0])\n",
        "        self.layer2 = self._make_layer(block, 128, layers[1], stride=2)\n",
        "        self.layer3 = self._make_layer(block, 256, layers[2], stride=2)\n",
        "        self.layer4 = self._make_layer(block, 512, layers[3], stride=2)\n",
        "\n",
        "        # local distortion aware module\n",
        "        self.lda1_pool = nn.Sequential(\n",
        "            nn.Conv2d(256, 16, kernel_size=1, stride=1, padding=0, bias=False),\n",
        "            nn.AvgPool2d(7, stride=7),\n",
        "\n",
        "        )\n",
        "        self.lda1_fc = nn.Linear(16 * 64 * patch_rate * patch_rate , lda_out_channels)\n",
        "\n",
        "        self.lda2_pool = nn.Sequential(\n",
        "            nn.Conv2d(512, 32, kernel_size=1, stride=1, padding=0, bias=False),\n",
        "            nn.AvgPool2d(7, stride=7),\n",
        "        )\n",
        "        self.lda2_fc = nn.Linear(32 * 16 * patch_rate * patch_rate, lda_out_channels)\n",
        "\n",
        "        self.lda3_pool = nn.Sequential(\n",
        "            nn.Conv2d(1024, 64, kernel_size=1, stride=1, padding=0, bias=False),\n",
        "            nn.AvgPool2d(7, stride=7),\n",
        "        )\n",
        "        self.lda3_fc = nn.Linear(64 * 4 * patch_rate * patch_rate, lda_out_channels)\n",
        "\n",
        "        self.lda4_pool = nn.AvgPool2d(7, stride=7)\n",
        "        self.lda4_fc = nn.Linear(2048 * patch_rate * patch_rate, in_chn - lda_out_channels * 3)\n",
        "\n",
        "        for m in self.modules():\n",
        "            if isinstance(m, nn.Conv2d):\n",
        "                n = m.kernel_size[0] * m.kernel_size[1] * m.out_channels\n",
        "                m.weight.data.normal_(0, math.sqrt(2. / n))\n",
        "            elif isinstance(m, nn.BatchNorm2d):\n",
        "                m.weight.data.fill_(1)\n",
        "                m.bias.data.zero_()\n",
        "\n",
        "        # initialize\n",
        "        nn.init.kaiming_normal_(self.lda1_pool._modules['0'].weight.data)\n",
        "        nn.init.kaiming_normal_(self.lda2_pool._modules['0'].weight.data)\n",
        "        nn.init.kaiming_normal_(self.lda3_pool._modules['0'].weight.data)\n",
        "        nn.init.kaiming_normal_(self.lda1_fc.weight.data)\n",
        "        nn.init.kaiming_normal_(self.lda2_fc.weight.data)\n",
        "        nn.init.kaiming_normal_(self.lda3_fc.weight.data)\n",
        "        nn.init.kaiming_normal_(self.lda4_fc.weight.data)\n",
        "\n",
        "    def _make_layer(self, block, planes, blocks, stride=1):\n",
        "        downsample = None\n",
        "        if stride != 1 or self.inplanes != planes * block.expansion:\n",
        "            downsample = nn.Sequential(\n",
        "                nn.Conv2d(self.inplanes, planes * block.expansion,\n",
        "                          kernel_size=1, stride=stride, bias=False),\n",
        "                nn.BatchNorm2d(planes * block.expansion),\n",
        "            )\n",
        "\n",
        "        layers = []\n",
        "        layers.append(block(self.inplanes, planes, stride, downsample))\n",
        "        self.inplanes = planes * block.expansion\n",
        "        for i in range(1, blocks):\n",
        "            layers.append(block(self.inplanes, planes))\n",
        "\n",
        "        return nn.Sequential(*layers)\n",
        "\n",
        "    def forward(self, x):\n",
        "        x = self.conv1(x)\n",
        "        x = self.bn1(x)\n",
        "        x = self.relu(x)\n",
        "        x = self.maxpool(x)\n",
        "        x = self.layer1(x)\n",
        "\n",
        "        # the same effect as lda operation in the paper, but save much more memory\n",
        "        lda_1 = self.lda1_fc(self.lda1_pool(x).view(x.size(0), -1))\n",
        "        x = self.layer2(x)\n",
        "        lda_2 = self.lda2_fc(self.lda2_pool(x).view(x.size(0), -1))\n",
        "        x = self.layer3(x)\n",
        "        lda_3 = self.lda3_fc(self.lda3_pool(x).view(x.size(0), -1))\n",
        "        x = self.layer4(x)\n",
        "        lda_4 = self.lda4_fc(self.lda4_pool(x).view(x.size(0), -1))\n",
        "\n",
        "        vec = torch.cat((lda_1, lda_2, lda_3, lda_4), 1)\n",
        "\n",
        "        out = {}\n",
        "        out['hyper_in_feat'] = x\n",
        "        out['target_in_vec'] = vec\n",
        "\n",
        "        return out\n",
        "\n",
        "\n",
        "def resnet50_backbone(lda_out_channels, in_chn, patch_rate, pretrained=False, **kwargs):\n",
        "    \"\"\"Constructs a ResNet-50 model_hyper.\n",
        "\n",
        "    Args:\n",
        "        pretrained (bool): If True, returns a model_hyper pre-trained on ImageNet\n",
        "    \"\"\"\n",
        "    model = ResNetBackbone(lda_out_channels, in_chn, Bottleneck, [3, 4, 6, 3], patch_rate, **kwargs)\n",
        "    if pretrained:\n",
        "        save_model = torch.load(load_file_from_url(model_urls['resnet50']))\n",
        "        model_dict = model.state_dict()\n",
        "        state_dict = {k: v for k, v in save_model.items() if k in model_dict.keys()}\n",
        "        model_dict.update(state_dict)\n",
        "        model.load_state_dict(model_dict)\n",
        "    else:\n",
        "        model.apply(weights_init_xavier)\n",
        "\n",
        "    return model\n",
        "\n",
        "def weights_init_xavier(m):\n",
        "    classname = m.__class__.__name__\n",
        "    if classname.find('Conv') != -1:\n",
        "        init.kaiming_normal_(m.weight.data)\n",
        "        init.constant_(m.bias.data, 0.0)\n",
        "    elif classname.find('Linear') != -1:\n",
        "        init.kaiming_normal_(m.weight.data)\n",
        "        init.constant_(m.bias.data, 0.0)\n",
        "    elif classname.find('BatchNorm2d') != -1:\n",
        "        init.uniform_(m.weight.data, 1.0, 0.02)\n",
        "        init.constant_(m.bias.data, 0.0)\n",
        "\n",
        "\n",
        "### FULLY-CONNECTED PART FOR SCENE CLASSIFICATION ###\n",
        "class SceneClassNet(nn.Module):\n",
        "    \"\"\"\n",
        "    Fully-connected network for scene type classification.\n",
        "    Input :\n",
        "        hyperInFeat (feature vector outputed by Hypernetwork). size=torch.Size([batchSize, patchSize // 2, 7, 7])\n",
        "    Output :\n",
        "        scene type vector. type=torch.tensor([batchSize, numClasses])\n",
        "    \"\"\"\n",
        "    def __init__(self, featureInSize, numClasses, numLayers=3, numIntermediateNodes=500, **kwargs):\n",
        "        super(SceneClassNet, self).__init__()\n",
        "\n",
        "        self.layers = nn.ModuleList()\n",
        "\n",
        "        # Input layer\n",
        "        self.layers.append(nn.Linear(featureInSize, numIntermediateNodes))\n",
        "        self.layers.append(nn.ReLU())\n",
        "\n",
        "        # Intermediate layers\n",
        "        for _ in range(numLayers - 2):  # subtract 2 because we already have the input layer and will add the output layer\n",
        "            self.layers.append(nn.Linear(numIntermediateNodes, numIntermediateNodes))\n",
        "            self.layers.append(nn.ReLU())\n",
        "\n",
        "        # Output layer\n",
        "        self.layers.append(nn.Linear(numIntermediateNodes, numClasses))\n",
        "\n",
        "        # Apply custom weights initialization\n",
        "        self.apply(weights_init_xavier)\n",
        "\n",
        "    def forward(self, x):\n",
        "        for layer in self.layers:\n",
        "            x = layer(x)\n",
        "        return x\n",
        "\n",
        "\n",
        "### FULLY-CONNECTED PART FOR SCENE CLASSIFICATION ###\n",
        "#class SceneClassNet(nn.Module):\n",
        "class RescaleNet(nn.Module):\n",
        "    \"\"\"\n",
        "    Target network for scene type classification.\n",
        "    Input : hyperInFeat (feature vector outputted by Hypernetwork). size=torch.Size([batchSize, patchSize // 2, 7, 7])\n",
        "    Output : scene type vector. type=torch.tensor([batchSize, 20])\n",
        "    \"\"\"\n",
        "    def __init__(self, featureInSize, numLayers=3, numIntermediateNodes=100, polyDegree=2, **kwargs):\n",
        "        super(RescaleNet, self).__init__()\n",
        "        self.numLayers = numLayers\n",
        "        self.numIntermediateNodes = numIntermediateNodes\n",
        "        self.polyDegree = polyDegree\n",
        "        self.layers = nn.ModuleList()\n",
        "\n",
        "        # Input layer\n",
        "        self.layers.append(nn.Linear(featureInSize, self.numIntermediateNodes))\n",
        "        self.layers.append(nn.ReLU())\n",
        "\n",
        "        # Intermediate layers\n",
        "        for _ in range(self.numLayers - 1):\n",
        "            self.layers.append(nn.Linear(self.numIntermediateNodes, self.numIntermediateNodes))\n",
        "            self.layers.append(nn.ReLU())\n",
        "\n",
        "        # Output layer\n",
        "        self.layers.append(nn.Linear(self.numIntermediateNodes, self.polyDegree))\n",
        "\n",
        "        # Apply custom weights initialization\n",
        "        self.apply(weights_init_xavier)\n",
        "\n",
        "    def forward(self, x):\n",
        "        for layer in self.layers:\n",
        "            x = layer(x)\n",
        "        return x\n"
      ]
    },
    {
      "cell_type": "code",
      "execution_count": null,
      "metadata": {
        "id": "9DMcciSjtBlH"
      },
      "outputs": [],
      "source": [
        "import torch\n",
        "import torch.nn as nn\n",
        "from torch.nn.functional import one_hot\n",
        "\n",
        "\n",
        "defaultHyperNetWeights = {\n",
        "    # Only for original hyperIQA model with input size 224x224\n",
        "    'koniq': None #link: https://drive.google.com/file/d/1OOUmnbvpGea0LIGpIWEbOyxfWx6UCiiE/view\n",
        "}\n",
        "\n",
        "defaultWeights = {}\n",
        "\n",
        "\n",
        "class SemHyperIQA(nn.Module):\n",
        "    def __init__(self, patchSize,\n",
        "                 hyperNetPretrained=None,\n",
        "                 pretrained=None,\n",
        "                 classify=None,\n",
        "                 rescale=None,\n",
        "                  **kwargs):\n",
        "\n",
        "        super().__init__()\n",
        "        patchRate = patchSize // 224\n",
        "        self.classify = classify\n",
        "        self.rescale = rescale\n",
        "        self.classFeaturesOut = None\n",
        "        self.nbPatchesIn = None\n",
        "        self.classKey = kwargs.get('classKey', 'class')\n",
        "        self.qualityKey = kwargs.get('qualityKey', 'quality')\n",
        "        self.preQualityKey = kwargs.get('preQualityKey', 'preQuality')\n",
        "        if self.classify is not None:\n",
        "            self.classFeaturesOut = self.classify.get('numClasses', None)\n",
        "            self.nbPatchesIn = self.classify.get('nbPatchesIn', 1) # Assume one patch if we do not want to concatenate patches\n",
        "        self.hyperNet = HyperNet(16,\n",
        "                                 112 * patchRate,\n",
        "                                 224 * patchRate,\n",
        "                                 112 * patchRate,\n",
        "                                 56 * patchRate,\n",
        "                                 28 * patchRate,\n",
        "                                 14 * patchRate,\n",
        "                                 7 * patchRate,\n",
        "                                 patchRate,\n",
        "                                 classFeaturesOut=self.classFeaturesOut)#.cuda()\n",
        "\n",
        "        if hyperNetPretrained is not None:\n",
        "            load_pretrained_network(self.hyperNet, defaultHyperNetWeights.get(hyperNetPretrained, hyperNetPretrained))\n",
        "        if pretrained is not None:\n",
        "            load_pretrained_network(self, defaultWeights.get(pretrained, pretrained))\n",
        "\n",
        "        if self.classify is not None:\n",
        "            self.sceneClassNet = SceneClassNet(featureInSize=self.nbPatchesIn * 112 * patchRate * self.classFeaturesOut,\n",
        "                                               **self.classify)\n",
        "            self.sceneclassnet_params = self.sceneClassNet.parameters()\n",
        "        if self.rescale is not None:\n",
        "            if 'featureInSize' in self.rescale:\n",
        "                self.classFeedback = False\n",
        "            else:\n",
        "                self.classFeedback = True\n",
        "                self.rescale.update({'featureInSize': self.classify.get('numClasses')}) # intentionally throw error if rescale is defined with infeatures and no classification parameter\n",
        "\n",
        "            self.rescaleNet = RescaleNet(**self.rescale)\n",
        "            self.rescalenet_params = self.rescaleNet.parameters()\n",
        "\n",
        "        backbone_params = list(map(id, self.hyperNet.res.parameters()))\n",
        "        self.hypernet_params = filter(lambda p: id(p) not in backbone_params, self.hyperNet.parameters())\n",
        "        self.resnet_params = filter(lambda p: id(p) in backbone_params, self.hyperNet.parameters())\n",
        "\n",
        "    def forward(self, x, index=None, *args):\n",
        "        # Generate weights for target network\n",
        "        output = self.hyperNet(x)\n",
        "\n",
        "        # Check if hyperNet returns hnFeatures\n",
        "        if isinstance(output, tuple):\n",
        "            paras, hnFeatures = output\n",
        "            hnFeatures = self._consolidate_patches(hnFeatures, self.nbPatchesIn)\n",
        "        else:\n",
        "            paras = output\n",
        "\n",
        "        if isinstance(paras, list):\n",
        "            paras = self._stack_dicts(paras)\n",
        "\n",
        "        # Building target network\n",
        "        modelTarget = TargetNet(paras)\n",
        "        for param in modelTarget.parameters():\n",
        "            param.requires_grad = False\n",
        "\n",
        "        # Quality score prediction\n",
        "        inputTargetNet = paras['target_in_vec']\n",
        "        predictionsQuality = modelTarget(inputTargetNet)\n",
        "\n",
        "        predScene = None\n",
        "        outputDict = {}\n",
        "\n",
        "        if hasattr(self, 'sceneClassNet') and isinstance(output, tuple):\n",
        "            predScene = self.sceneClassNet(hnFeatures)\n",
        "            predictionsQuality = predictionsQuality.reshape(self.nbPatchesIn, -1).mean(dim=0)\n",
        "\n",
        "        outputDict[self.qualityKey] = predictionsQuality\n",
        "\n",
        "        if hasattr(self, 'rescaleNet') and hasattr(self, 'classFeedback'):\n",
        "            outputDict[self.preQualityKey] = predictionsQuality\n",
        "\n",
        "            if not self.classFeedback and index is not None:\n",
        "                index_ = one_hot(index, num_classes=self.rescale['featureInSize']).to(torch.float32)\n",
        "                scoreWeights = self.rescaleNet(index_)\n",
        "\n",
        "            elif hasattr(self, 'sceneClassNet') and isinstance(output, tuple):\n",
        "                scoreWeights = self.rescaleNet(predScene.softmax(dim=1))\n",
        "\n",
        "            else:\n",
        "                raise ValueError(\"Class feedback needs class prediction, which is not defined in this configuration\")\n",
        "\n",
        "            # FIXME: Fit with any polynomial degree instead of only manual linear fit.\n",
        "            # Re-scale the score prediction with alpha/beta\n",
        "            outputDict[self.qualityKey] = scoreWeights[:,0] * predictionsQuality + scoreWeights[:,1]\n",
        "\n",
        "        if predScene is not None:\n",
        "            return {self.classKey: predScene,\n",
        "                    **{keyOut: valueOut.unsqueeze(1) for keyOut, valueOut in outputDict.items()}}\n",
        "\n",
        "        return outputDict\n",
        "\n",
        "    @staticmethod\n",
        "    def _consolidate_patches(hnFeatures, patches_per_image):\n",
        "        # Check if hnFeatures is a list\n",
        "        if isinstance(hnFeatures, list):\n",
        "            # If first element of the list is a tensor and is 2D, stack along 1st dimension\n",
        "            if hnFeatures[0].dim() >= 2:\n",
        "                hnFeatures = torch.cat(hnFeatures, dim=0)\n",
        "            # If first element of the list is a tensor and is 1D, convert to 2D and stack along 1st dimension\n",
        "            elif hnFeatures[0].dim() == 1:\n",
        "                hnFeatures = torch.stack(hnFeatures, dim=0)\n",
        "\n",
        "        # Ensure that the total number of features is a multiple of patches_per_image\n",
        "        if hnFeatures.shape[0] % patches_per_image != 0:\n",
        "            raise ValueError(\"Total number of features is not a multiple of patches_per_image\")\n",
        "\n",
        "        # Reshape the tensor\n",
        "        consolidated_features = hnFeatures.reshape(-1, hnFeatures.shape[1] * patches_per_image)\n",
        "\n",
        "        return consolidated_features\n",
        "\n",
        "    @staticmethod\n",
        "    def _stack_dicts(dict_list):\n",
        "        # Ensure dict_list is not empty\n",
        "        if not dict_list:\n",
        "            return {}\n",
        "\n",
        "        # Create a new dictionary where each key is a stack of the corresponding values from the dictionaries in dict_list\n",
        "        stacked_dict = {key: torch.stack([d[key] for d in dict_list], dim=0) for key in dict_list[0].keys()}\n",
        "\n",
        "        return stacked_dict\n",
        "\n",
        "class FullHyperIQA(SemHyperIQA):\n",
        "    def __init__(self, patchSize, hyperNetPretrained=None, pretrained=None, classify=None, rescale=None, **kwargs):\n",
        "        super().__init__(patchSize, hyperNetPretrained, pretrained, classify, rescale, **kwargs)\n",
        "        self.weightQualityByClass = kwargs.get('weightQualityByClass', 0)\n",
        "\n",
        "    def forward(self, x, index=None, *args):\n",
        "        if self.weightQualityByClass <= 0:\n",
        "            return super().forward(x, index, *args)\n",
        "\n",
        "        # Generate weights for target network\n",
        "        output = self.hyperNet(x)\n",
        "\n",
        "        # Check if hyperNet returns hnFeatures\n",
        "        if isinstance(output, tuple):\n",
        "            paras, hnFeatures = output\n",
        "            hnFeatures = self._consolidate_patches(hnFeatures, self.nbPatchesIn)\n",
        "        else:\n",
        "            paras = output\n",
        "\n",
        "        if isinstance(paras, list):\n",
        "            paras = self._stack_dicts(paras)\n",
        "\n",
        "        # Building target network\n",
        "        modelTarget = TargetNet(paras)\n",
        "        for param in modelTarget.parameters():\n",
        "            param.requires_grad = False\n",
        "\n",
        "        # Quality score prediction\n",
        "        inputTargetNet = paras['target_in_vec']\n",
        "        predictionsQuality = modelTarget(inputTargetNet)\n",
        "\n",
        "        predScene = None\n",
        "        outputDict = {}\n",
        "\n",
        "        if hasattr(self, 'sceneClassNet') and isinstance(output, tuple):\n",
        "            predScene = self.sceneClassNet(hnFeatures)\n",
        "            predictionsQuality = predictionsQuality.reshape(self.nbPatchesIn, -1).mean(dim=0)\n",
        "\n",
        "        outputDict[self.qualityKey] = predictionsQuality\n",
        "\n",
        "        if hasattr(self, 'rescaleNet') and hasattr(self, 'classFeedback'):\n",
        "\n",
        "            outputDict[self.preQualityKey] = predictionsQuality\n",
        "\n",
        "            if not self.classFeedback and index is not None:\n",
        "                index_ = one_hot(index, num_classes=self.rescale['featureInSize']).to(torch.float32)\n",
        "                scoreWeights = self.rescaleNet(index_)\n",
        "                # FIXME: Fit with any polynomial degree instead of only manual linear fit.\n",
        "                # Re-scale the score prediction with alpha/beta\n",
        "                outputDict[self.qualityKey] = scoreWeights[:,0] * predictionsQuality + scoreWeights[:,1]\n",
        "\n",
        "            elif hasattr(self, 'sceneClassNet') and isinstance(output, tuple):\n",
        "                # Extracting top-k class probabilities and indices\n",
        "                topk_probs, topk_indices = torch.topk(predScene.softmax(dim=1), self.weightQualityByClass, dim=1)\n",
        "\n",
        "                # Normalizing the top-k probabilities\n",
        "                topk_probs /= topk_probs.sum(dim=1, keepdim=True)\n",
        "\n",
        "                # Rescale quality prediction for each of the top-k classes separately\n",
        "                weighted_rescaled_qualities = []\n",
        "                for k in range(self.weightQualityByClass):\n",
        "                    one_hot_class = one_hot(topk_indices[:, k], num_classes=self.rescale['featureInSize']).to(torch.float32)\n",
        "                    scoreWeights_for_class = self.rescaleNet(one_hot_class)\n",
        "                    rescaled_quality = scoreWeights_for_class[:, 0] * predictionsQuality + scoreWeights_for_class[:, 1]\n",
        "                    weighted_rescaled_qualities.append(rescaled_quality)\n",
        "\n",
        "                # Weighted aggregation of the rescaled qualities\n",
        "                weighted_rescaled_qualities = torch.stack(weighted_rescaled_qualities, dim=1)\n",
        "                outputDict[self.qualityKey] = (weighted_rescaled_qualities * topk_probs).sum(dim=-1)\n",
        "\n",
        "            else:\n",
        "                # This should never be raised since\n",
        "                raise ValueError(\"Class feedback needs class prediction, which is not defined in this configuration\")\n",
        "\n",
        "        if predScene is not None:\n",
        "            return {self.classKey: predScene,\n",
        "                    **{keyOut: valueOut.unsqueeze(1) for keyOut, valueOut in outputDict.items()}}\n",
        "\n",
        "        return outputDict"
      ]
    },
    {
      "cell_type": "markdown",
      "source": [
        "**Model SEM_HyperIQA_SO**"
      ],
      "metadata": {
        "id": "U2rghq15LldN"
      }
    },
    {
      "cell_type": "code",
      "source": [
        "import torch\n",
        "import torch.nn as nn\n",
        "\n",
        "import sys\n",
        "sys.path.append('/content/PIQ2023/src/models/archs')\n",
        "\n",
        "# Now you can import your modules without import errors\n",
        "from sem_hyperiqa_util import HyperNet, RescaleNet, TargetNet, SceneClassNet\n",
        "from arch_util import load_file_from_url\n",
        "\n",
        "\n",
        "\n",
        "class SEM_HyperIQA_SO(nn.Module):\n",
        "    def __init__(self, patch_size, hyper_net_pretrained=None, pretrained=None, classify=None, **kwargs):\n",
        "        super().__init__()\n",
        "        patch_rate = patch_size // 224\n",
        "        self.classify = classify\n",
        "        self.class_features_out = None\n",
        "        self.nb_patches_in = None\n",
        "        self.quality_key = kwargs.get('quality_key', 'quality')\n",
        "\n",
        "        self.hyper_net = HyperNet(16, 112 * patch_rate, 224 * patch_rate, 112 * patch_rate, 56 * patch_rate, 28 * patch_rate, 14 * patch_rate, 7 * patch_rate, patch_rate)\n",
        "\n",
        "        if hyper_net_pretrained is not None:\n",
        "            load_pretrained_network(self.hyper_net, hyper_net_pretrained)\n",
        "        if pretrained is not None:\n",
        "            load_pretrained_network(self, pretrained)\n",
        "\n",
        "        backbone_params = list(map(id, self.hyper_net.res.parameters()))\n",
        "        self.hypernet_params = filter(lambda p: id(p) not in backbone_params, self.hyper_net.parameters())\n",
        "        self.resnet_params = filter(lambda p: id(p) in backbone_params, self.hyper_net.parameters())\n",
        "\n",
        "    def forward(self, x):\n",
        "        output = self.hyper_net(x)\n",
        "\n",
        "        if isinstance(output, tuple):\n",
        "            paras, _ = output\n",
        "        else:\n",
        "            paras = output\n",
        "\n",
        "        if isinstance(paras, list):\n",
        "            paras = self._stack_dicts(paras)\n",
        "\n",
        "        model_target = TargetNet(paras)\n",
        "        for param in model_target.parameters():\n",
        "            param.requires_grad = False\n",
        "\n",
        "        input_target_net = paras['target_in_vec']\n",
        "        predictions_quality = model_target(input_target_net)\n",
        "\n",
        "        output_dict = {self.quality_key: predictions_quality}\n",
        "\n",
        "        return output_dict\n",
        "\n",
        "    @staticmethod\n",
        "    def _stack_dicts(dict_list):\n",
        "        if not dict_list:\n",
        "            return {}\n",
        "\n",
        "        stacked_dict = {key: torch.stack([d[key] for d in dict_list], dim=0) for key in dict_list[0].keys()}\n",
        "\n",
        "        return stacked_dict\n"
      ],
      "metadata": {
        "id": "Cm7AwaU5LdKI"
      },
      "execution_count": null,
      "outputs": []
    },
    {
      "cell_type": "markdown",
      "source": [
        "**Model SEM_HyperIQA_CO**"
      ],
      "metadata": {
        "id": "rTDCDpDhLycK"
      }
    },
    {
      "cell_type": "markdown",
      "source": [
        "Costumizing the Data"
      ],
      "metadata": {
        "id": "eODCtfAbFaQL"
      }
    },
    {
      "cell_type": "code",
      "source": [
        "import pandas as pd\n",
        "import torch\n",
        "from torch.utils.data import DataLoader, Dataset\n",
        "from torchvision.transforms import Compose, Resize, ToTensor, Normalize\n",
        "from PIL import Image\n",
        "\n",
        "\n",
        "class CustomDataset(Dataset):\n",
        "    def __init__(self, dataframe, transform=None):\n",
        "        self.dataframe = dataframe\n",
        "        self.transform = transform\n",
        "\n",
        "    def __len__(self):\n",
        "        return len(self.dataframe)\n",
        "\n",
        "    def __getitem__(self, idx):\n",
        "        img_path = self.dataframe.iloc[idx]['IMAGE PATH']\n",
        "        image = Image.open(img_path).convert('RGB')\n",
        "        label = torch.tensor(self.dataframe.iloc[idx]['JOD'], dtype=torch.float32)\n",
        "\n",
        "        if self.transform:\n",
        "            image = self.transform(image)\n",
        "\n",
        "        return image, label\n",
        "\n",
        "transform = Compose([\n",
        "    Resize((224, 224)),\n",
        "    ToTensor(),\n",
        "    Normalize(mean=[0.485, 0.456, 0.406], std=[0.229, 0.224, 0.225]),\n",
        "])\n",
        "\n",
        "\n"
      ],
      "metadata": {
        "id": "nprgeDZaHwGY"
      },
      "execution_count": null,
      "outputs": []
    },
    {
      "cell_type": "code",
      "source": [
        "# Score exposure scene split\n",
        "trainPath = \"/content/drive/MyDrive/Dataset/Scene_Split_train.csv\"\n",
        "train_SE_S = pd.read_csv(trainPath)\n",
        "\n",
        "testPath = \"/content/drive/MyDrive/Dataset/Scene_Split_test.csv\"\n",
        "test_SE_S = pd.read_csv(testPath)\n",
        "\n",
        "#Score exposure device split\n",
        "traindf_path = \"/content/drive/MyDrive/Dataset/device_split_train.csv\"\n",
        "train_SE_D = pd.read_csv(traindf_path)\n",
        "\n",
        "testdf_path = \"/content/drive/MyDrive/Dataset/device_split_test.csv\"\n",
        "test_SE_D = pd.read_csv(testdf_path)\n",
        "\n",
        "# SCORE DETAIL SCENE SPLİT\n",
        "train_SD_S_path = \"/content/drive/MyDrive/Dataset/Scene_Split_trai_SD_S.csv\"\n",
        "train_SD_S = pd.read_csv(train_SD_S_path)\n",
        "\n",
        "test_SD_S_path = \"/content/drive/MyDrive/Dataset/Scene_Split_test_SD_S.csv\"\n",
        "test_SD_S = pd.read_csv(test_SD_S_path)\n",
        "\n",
        "# SCORE DETAIL DEVICE SPLİT\n",
        "train_SD_D_path = \"/content/drive/MyDrive/Dataset/device_split_train_SD_D.csv\"\n",
        "train_SD_D = pd.read_csv(train_SD_D_path)\n",
        "\n",
        "test_SD_D_path = \"/content/drive/MyDrive/Dataset/device_split_testDf_SD_D.csv\"\n",
        "test_SD_D = pd.read_csv(test_SD_D_path)\n",
        "\n",
        "#SCORE OVERALL SCENE SPLIT\n",
        "train_SO_path = \"/content/drive/MyDrive/Dataset/Scene_Split_train_SO.csv\"\n",
        "train_SO_S = pd.read_csv(train_SO_path)\n",
        "\n",
        "test_SO_path = \"/content/drive/MyDrive/Dataset/Scene_Split_test_SO.csv\"\n",
        "test_SO_S = pd.read_csv(test_SO_path)\n",
        "\n",
        "#SCORE OVERALL DEVICE SPLIT\n",
        "train_SO_D_path = \"/content/drive/MyDrive/Dataset/device_split_train_SO.csv\"\n",
        "train_SO_D = pd.read_csv(train_SO_D_path)\n",
        "\n",
        "test_SO_D_path = \"/content/drive/MyDrive/Dataset/device_split_test_SO.csv\"\n",
        "test_SO_D = pd.read_csv(test_SO_D_path)\n"
      ],
      "metadata": {
        "id": "PUrhOYTzBnUD"
      },
      "execution_count": null,
      "outputs": []
    },
    {
      "cell_type": "markdown",
      "source": [
        "[bağlantı metni](https://)**SCORE EXPOSURE SCENE SPLIT**\n",
        "\n",
        "\n"
      ],
      "metadata": {
        "id": "TCu1x0khCY4O"
      }
    },
    {
      "cell_type": "code",
      "source": [
        "train_dataset = CustomDataset(train_SE_S, transform=transform)\n",
        "test_dataset = CustomDataset(test_SE_S, transform=transform)\n",
        "\n",
        "train_loader = DataLoader(train_dataset, batch_size=32, shuffle=True)\n",
        "test_loader = DataLoader(test_dataset, batch_size=32, shuffle=False)"
      ],
      "metadata": {
        "id": "FMoSfoW7CZEj"
      },
      "execution_count": null,
      "outputs": []
    },
    {
      "cell_type": "markdown",
      "source": [
        "**SCORE EXPOSURE DEVICE SPLIT**\n"
      ],
      "metadata": {
        "id": "TGErRG3uCuhE"
      }
    },
    {
      "cell_type": "code",
      "source": [
        "train_dataset = CustomDataset(train_SE_D, transform=transform)\n",
        "test_dataset = CustomDataset(test_SE_D, transform=transform)\n",
        "\n",
        "train_loader = DataLoader(train_dataset, batch_size=32, shuffle=True)\n",
        "test_loader = DataLoader(test_dataset, batch_size=32, shuffle=False)"
      ],
      "metadata": {
        "id": "4pRXeb8QCusJ"
      },
      "execution_count": null,
      "outputs": []
    },
    {
      "cell_type": "markdown",
      "source": [
        "**italik metin*SCORE DETAIL SCENE SPLIT**\n",
        "\n",
        "\n"
      ],
      "metadata": {
        "id": "gmLX9zxtDLv3"
      }
    },
    {
      "cell_type": "code",
      "source": [
        "train_dataset = CustomDataset(train_SD_S, transform=transform)\n",
        "test_dataset = CustomDataset(test_SD_S, transform=transform)\n",
        "\n",
        "train_loader = DataLoader(train_dataset, batch_size=32, shuffle=True)\n",
        "test_loader = DataLoader(test_dataset, batch_size=32, shuffle=False)"
      ],
      "metadata": {
        "id": "-w5LvwX1DL77"
      },
      "execution_count": null,
      "outputs": []
    },
    {
      "cell_type": "markdown",
      "source": [
        "**SCORE DETAIL DEVICE SPLIT**\n"
      ],
      "metadata": {
        "id": "uehDxWnqDj6E"
      }
    },
    {
      "cell_type": "code",
      "source": [
        "train_dataset = CustomDataset(train_SD_D, transform=transform)\n",
        "test_dataset = CustomDataset(test_SD_D, transform=transform)\n",
        "\n",
        "train_loader = DataLoader(train_dataset, batch_size=32, shuffle=True)\n",
        "test_loader = DataLoader(test_dataset, batch_size=32, shuffle=False)"
      ],
      "metadata": {
        "id": "KB5wf2JhDkEi"
      },
      "execution_count": null,
      "outputs": []
    },
    {
      "cell_type": "markdown",
      "source": [
        "**SCORE OVERALL SCENE SPLIT**\n"
      ],
      "metadata": {
        "id": "DdKpKci3Ds4b"
      }
    },
    {
      "cell_type": "code",
      "source": [
        "train_dataset = CustomDataset(train_SO_S, transform=transform)\n",
        "test_dataset = CustomDataset(test_SO_S, transform=transform)\n",
        "\n",
        "train_loader = DataLoader(train_dataset, batch_size=32, shuffle=True)\n",
        "test_loader = DataLoader(test_dataset, batch_size=32, shuffle=False)"
      ],
      "metadata": {
        "id": "mZ0JoI7IDtAc"
      },
      "execution_count": null,
      "outputs": []
    },
    {
      "cell_type": "markdown",
      "source": [
        "**SCORE OVERALL DEVICE SPLIT**\n"
      ],
      "metadata": {
        "id": "LZHTPspsD4RG"
      }
    },
    {
      "cell_type": "code",
      "source": [
        "train_dataset = CustomDataset(train_SO_D, transform=transform)\n",
        "test_dataset = CustomDataset(test_SO_D, transform=transform)\n",
        "\n",
        "train_loader = DataLoader(train_dataset, batch_size=32, shuffle=True)\n",
        "test_loader = DataLoader(test_dataset, batch_size=32, shuffle=False)"
      ],
      "metadata": {
        "id": "BI9DuGhmD4X8"
      },
      "execution_count": null,
      "outputs": []
    },
    {
      "cell_type": "markdown",
      "source": [
        "Training The Model"
      ],
      "metadata": {
        "id": "SRBbUk-8FWLc"
      }
    },
    {
      "cell_type": "code",
      "source": [
        "import torch.optim as optim\n",
        "import torch.nn as nn\n",
        "\n",
        "def train_model(model, criterion, optimizer, train_loader, num_epochs=25):\n",
        "    model.train()\n",
        "    for epoch in range(num_epochs):\n",
        "        running_loss = 0.0\n",
        "        for images, labels in train_loader:\n",
        "            images, labels = images, labels\n",
        "\n",
        "            optimizer.zero_grad()\n",
        "\n",
        "            outputs = model(images)\n",
        "            loss = criterion(outputs['quality'], labels)\n",
        "            loss.backward()\n",
        "            optimizer.step()\n",
        "\n",
        "            running_loss += loss.item() * images.size(0)\n",
        "\n",
        "        epoch_loss = running_loss / len(train_loader.dataset)\n",
        "        print(f'Epoch {epoch+1}/{num_epochs}, Loss: {epoch_loss:.4f}')\n",
        "\n",
        "    print('Eğitim tamamlandı')\n",
        "    return model"
      ],
      "metadata": {
        "id": "TTBGKWxX_Hfz"
      },
      "execution_count": null,
      "outputs": []
    },
    {
      "cell_type": "code",
      "source": [
        "def test_model(model, test_loader):\n",
        "    model.eval()\n",
        "    total_loss = 0.0\n",
        "    with torch.no_grad():\n",
        "        for images, labels in test_loader:\n",
        "            images, labels = images, labels\n",
        "            outputs = model(images)\n",
        "            loss = criterion(outputs['quality'], labels)\n",
        "            total_loss += loss.item() * images.size(0)\n",
        "\n",
        "    average_loss = total_loss / len(test_loader.dataset)\n",
        "    print(f'Test Loss: {average_loss:.4f}')\n",
        "\n",
        "# Modeli test etme\n"
      ],
      "metadata": {
        "id": "7_UuvNZ6_v6Y"
      },
      "execution_count": null,
      "outputs": []
    },
    {
      "cell_type": "code",
      "source": [
        "def save_model(model, model_name):\n",
        "    model_save_path = f'/content/drive/MyDrive/{model_name}.pth'\n",
        "    torch.save(model.state_dict(), model_save_path)\n",
        "    print(f'Model kaydedildi: {model_save_path}')"
      ],
      "metadata": {
        "id": "W9t9UfvbJB8b"
      },
      "execution_count": null,
      "outputs": []
    },
    {
      "cell_type": "code",
      "source": [
        "def call_the_savedmodel(model_name):\n",
        "    model_load_path = f'/content/drive/MyDrive/{model_name}.pth'\n",
        "    model_name.load_state_dict(torch.load(model_load_path))\n",
        "    model_name.eval()\n",
        "    print(f'Model yüklendi: {model_load_path}')"
      ],
      "metadata": {
        "id": "GGyTdmr6KFnU"
      },
      "execution_count": null,
      "outputs": []
    },
    {
      "cell_type": "code",
      "source": [
        "def making_csv(model, model_name, test_loader, test_df):\n",
        "    model.eval()\n",
        "    results = []\n",
        "\n",
        "    with torch.no_grad():\n",
        "        for images, labels in test_loader:\n",
        "            outputs = model(images)\n",
        "            quality_scores = outputs['quality'].cpu().numpy()\n",
        "            true_jods = labels.cpu().numpy()\n",
        "            for quality_score, true_jod in zip(quality_scores, true_jods):\n",
        "                results.append((quality_score, true_jod))\n",
        "\n",
        "    results_df = pd.DataFrame(results, columns=['Predicted_Quality_Score', 'True_JOD'])\n",
        "\n",
        "    model_df = pd.concat([test_df.reset_index(drop=True), results_df], axis=1)\n",
        "\n",
        "    globals()[model_name] = model_df\n",
        "\n",
        "    output_path = f'/content/drive/MyDrive/{model_name}.csv'\n",
        "    model_df.to_csv(output_path, index=False)\n",
        "    print(f'Sonuçlar kaydedildi: {output_path}')\n",
        "    print(f'{model_name}.head():')"
      ],
      "metadata": {
        "id": "0K9p-ErLKFvV"
      },
      "execution_count": null,
      "outputs": []
    },
    {
      "cell_type": "markdown",
      "source": [
        "SCORE DETAIL SCENE SPLIT ON ALL THE MODEL"
      ],
      "metadata": {
        "id": "rSmmcxBfMu0a"
      }
    },
    {
      "cell_type": "code",
      "source": [
        "model = SemHyperIQA(patchSize=224, hyperNetPretrained=None)\n",
        "criterion = nn.MSELoss()\n",
        "optimizer = optim.Adam(model.parameters(), lr=1e-4)\n",
        "\n",
        "SemHyperIQA_SD_S = train_model(model, criterion, optimizer, train_loader, num_epochs=5)"
      ],
      "metadata": {
        "colab": {
          "base_uri": "https://localhost:8080/"
        },
        "id": "qu3NJBONJECq",
        "outputId": "d80881dd-838b-48b0-a2d7-ff84d7459c4c"
      },
      "execution_count": null,
      "outputs": [
        {
          "output_type": "stream",
          "name": "stdout",
          "text": [
            "Epoch 1/5, Loss: 1.2464\n",
            "Epoch 2/5, Loss: 0.6702\n",
            "Epoch 3/5, Loss: 0.3791\n",
            "Epoch 4/5, Loss: 0.2537\n",
            "Epoch 5/5, Loss: 0.2292\n",
            "Eğitim tamamlandı\n"
          ]
        }
      ]
    },
    {
      "cell_type": "code",
      "source": [
        "save_model(SemHyperIQA_SD_S, \"SemHyperIQA_SD_S\")"
      ],
      "metadata": {
        "colab": {
          "base_uri": "https://localhost:8080/"
        },
        "id": "6aMBNmQfKMTy",
        "outputId": "3cf08199-bcc8-4017-d855-88b8dc4a3b0a"
      },
      "execution_count": null,
      "outputs": [
        {
          "output_type": "stream",
          "name": "stdout",
          "text": [
            "Model kaydedildi: /content/drive/MyDrive/SemHyperIQA_SD_S.pth\n"
          ]
        }
      ]
    },
    {
      "cell_type": "code",
      "source": [
        "test_model(SemHyperIQA_SD_S, test_loader)"
      ],
      "metadata": {
        "colab": {
          "base_uri": "https://localhost:8080/"
        },
        "id": "U9a0NLkVKb4R",
        "outputId": "4e7d0b3e-763a-40c3-9b9f-2a53cda9626f"
      },
      "execution_count": null,
      "outputs": [
        {
          "output_type": "stream",
          "name": "stdout",
          "text": [
            "Test Loss: 0.3448\n"
          ]
        }
      ]
    },
    {
      "cell_type": "code",
      "source": [
        "model = FullHyperIQA(patchSize=224, hyperNetPretrained=None)\n",
        "criterion = nn.MSELoss()\n",
        "optimizer = optim.Adam(model.parameters(), lr=1e-4)\n",
        "\n",
        "FullHyperIQA_SD_S = train_model(model, criterion, optimizer, train_loader, num_epochs=5)"
      ],
      "metadata": {
        "colab": {
          "base_uri": "https://localhost:8080/"
        },
        "id": "dNhXDnooKxl_",
        "outputId": "5473db8e-07a4-435d-863f-eb3767491fbf"
      },
      "execution_count": null,
      "outputs": [
        {
          "output_type": "stream",
          "name": "stdout",
          "text": [
            "Epoch 1/5, Loss: 1.2683\n",
            "Epoch 2/5, Loss: 0.6297\n",
            "Epoch 3/5, Loss: 0.3870\n",
            "Epoch 4/5, Loss: 0.2405\n",
            "Epoch 5/5, Loss: 0.2226\n",
            "Eğitim tamamlandı\n"
          ]
        }
      ]
    },
    {
      "cell_type": "code",
      "source": [
        "save_model(FullHyperIQA_SD_S, \"FullHyperIQA_SD_S\")"
      ],
      "metadata": {
        "id": "VyRK3e-iMGVr",
        "colab": {
          "base_uri": "https://localhost:8080/"
        },
        "outputId": "9cf6c425-aac1-4d21-8439-4001f3cbbdef"
      },
      "execution_count": null,
      "outputs": [
        {
          "output_type": "stream",
          "name": "stdout",
          "text": [
            "Model kaydedildi: /content/drive/MyDrive/FullHyperIQA_SD_S.pth\n"
          ]
        }
      ]
    },
    {
      "cell_type": "code",
      "source": [
        "test_model(FullHyperIQA_SD_S, test_loader)"
      ],
      "metadata": {
        "id": "Mj1NfmUNMI0N",
        "colab": {
          "base_uri": "https://localhost:8080/"
        },
        "outputId": "bf772417-854c-4bc9-80b2-291e77a15ce9"
      },
      "execution_count": null,
      "outputs": [
        {
          "output_type": "stream",
          "name": "stdout",
          "text": [
            "Test Loss: 0.3491\n"
          ]
        }
      ]
    },
    {
      "cell_type": "markdown",
      "source": [],
      "metadata": {
        "id": "QKmMsA7ez6pb"
      }
    },
    {
      "cell_type": "code",
      "source": [
        "model = SEM_HyperIQA_SO(patch_size=224, hyper_Net_Pretrained=None)\n",
        "criterion = nn.MSELoss()\n",
        "optimizer = optim.Adam(model.parameters(), lr=1e-4)\n",
        "\n",
        "SemHyperIQA_SO_SD_S = train_model(model, criterion, optimizer, train_loader, num_epochs=5)"
      ],
      "metadata": {
        "id": "LMEjz-JaK6ma",
        "colab": {
          "base_uri": "https://localhost:8080/",
          "height": 321
        },
        "collapsed": true,
        "outputId": "40738f31-bc90-43e0-c091-871286569097"
      },
      "execution_count": null,
      "outputs": [
        {
          "output_type": "error",
          "ename": "KeyboardInterrupt",
          "evalue": "",
          "traceback": [
            "\u001b[0;31m---------------------------------------------------------------------------\u001b[0m",
            "\u001b[0;31mKeyboardInterrupt\u001b[0m                         Traceback (most recent call last)",
            "\u001b[0;32m<ipython-input-34-aef575289196>\u001b[0m in \u001b[0;36m<cell line: 5>\u001b[0;34m()\u001b[0m\n\u001b[1;32m      3\u001b[0m \u001b[0moptimizer\u001b[0m \u001b[0;34m=\u001b[0m \u001b[0moptim\u001b[0m\u001b[0;34m.\u001b[0m\u001b[0mAdam\u001b[0m\u001b[0;34m(\u001b[0m\u001b[0mmodel\u001b[0m\u001b[0;34m.\u001b[0m\u001b[0mparameters\u001b[0m\u001b[0;34m(\u001b[0m\u001b[0;34m)\u001b[0m\u001b[0;34m,\u001b[0m \u001b[0mlr\u001b[0m\u001b[0;34m=\u001b[0m\u001b[0;36m1e-4\u001b[0m\u001b[0;34m)\u001b[0m\u001b[0;34m\u001b[0m\u001b[0;34m\u001b[0m\u001b[0m\n\u001b[1;32m      4\u001b[0m \u001b[0;34m\u001b[0m\u001b[0m\n\u001b[0;32m----> 5\u001b[0;31m \u001b[0mSemHyperIQA_SO_SD_S\u001b[0m \u001b[0;34m=\u001b[0m \u001b[0mtrain_model\u001b[0m\u001b[0;34m(\u001b[0m\u001b[0mmodel\u001b[0m\u001b[0;34m,\u001b[0m \u001b[0mcriterion\u001b[0m\u001b[0;34m,\u001b[0m \u001b[0moptimizer\u001b[0m\u001b[0;34m,\u001b[0m \u001b[0mtrain_loader\u001b[0m\u001b[0;34m,\u001b[0m \u001b[0mnum_epochs\u001b[0m\u001b[0;34m=\u001b[0m\u001b[0;36m5\u001b[0m\u001b[0;34m)\u001b[0m\u001b[0;34m\u001b[0m\u001b[0;34m\u001b[0m\u001b[0m\n\u001b[0m",
            "\u001b[0;32m<ipython-input-21-ef1b25927f03>\u001b[0m in \u001b[0;36mtrain_model\u001b[0;34m(model, criterion, optimizer, train_loader, num_epochs)\u001b[0m\n\u001b[1;32m     11\u001b[0m             \u001b[0moptimizer\u001b[0m\u001b[0;34m.\u001b[0m\u001b[0mzero_grad\u001b[0m\u001b[0;34m(\u001b[0m\u001b[0;34m)\u001b[0m\u001b[0;34m\u001b[0m\u001b[0;34m\u001b[0m\u001b[0m\n\u001b[1;32m     12\u001b[0m \u001b[0;34m\u001b[0m\u001b[0m\n\u001b[0;32m---> 13\u001b[0;31m             \u001b[0moutputs\u001b[0m \u001b[0;34m=\u001b[0m \u001b[0mmodel\u001b[0m\u001b[0;34m(\u001b[0m\u001b[0mimages\u001b[0m\u001b[0;34m)\u001b[0m\u001b[0;34m\u001b[0m\u001b[0;34m\u001b[0m\u001b[0m\n\u001b[0m\u001b[1;32m     14\u001b[0m             \u001b[0mloss\u001b[0m \u001b[0;34m=\u001b[0m \u001b[0mcriterion\u001b[0m\u001b[0;34m(\u001b[0m\u001b[0moutputs\u001b[0m\u001b[0;34m[\u001b[0m\u001b[0;34m'quality'\u001b[0m\u001b[0;34m]\u001b[0m\u001b[0;34m,\u001b[0m \u001b[0mlabels\u001b[0m\u001b[0;34m)\u001b[0m\u001b[0;34m\u001b[0m\u001b[0;34m\u001b[0m\u001b[0m\n\u001b[1;32m     15\u001b[0m             \u001b[0mloss\u001b[0m\u001b[0;34m.\u001b[0m\u001b[0mbackward\u001b[0m\u001b[0;34m(\u001b[0m\u001b[0;34m)\u001b[0m\u001b[0;34m\u001b[0m\u001b[0;34m\u001b[0m\u001b[0m\n",
            "\u001b[0;32m/usr/local/lib/python3.10/dist-packages/torch/nn/modules/module.py\u001b[0m in \u001b[0;36m_wrapped_call_impl\u001b[0;34m(self, *args, **kwargs)\u001b[0m\n\u001b[1;32m   1530\u001b[0m             \u001b[0;32mreturn\u001b[0m \u001b[0mself\u001b[0m\u001b[0;34m.\u001b[0m\u001b[0m_compiled_call_impl\u001b[0m\u001b[0;34m(\u001b[0m\u001b[0;34m*\u001b[0m\u001b[0margs\u001b[0m\u001b[0;34m,\u001b[0m \u001b[0;34m**\u001b[0m\u001b[0mkwargs\u001b[0m\u001b[0;34m)\u001b[0m  \u001b[0;31m# type: ignore[misc]\u001b[0m\u001b[0;34m\u001b[0m\u001b[0;34m\u001b[0m\u001b[0m\n\u001b[1;32m   1531\u001b[0m         \u001b[0;32melse\u001b[0m\u001b[0;34m:\u001b[0m\u001b[0;34m\u001b[0m\u001b[0;34m\u001b[0m\u001b[0m\n\u001b[0;32m-> 1532\u001b[0;31m             \u001b[0;32mreturn\u001b[0m \u001b[0mself\u001b[0m\u001b[0;34m.\u001b[0m\u001b[0m_call_impl\u001b[0m\u001b[0;34m(\u001b[0m\u001b[0;34m*\u001b[0m\u001b[0margs\u001b[0m\u001b[0;34m,\u001b[0m \u001b[0;34m**\u001b[0m\u001b[0mkwargs\u001b[0m\u001b[0;34m)\u001b[0m\u001b[0;34m\u001b[0m\u001b[0;34m\u001b[0m\u001b[0m\n\u001b[0m\u001b[1;32m   1533\u001b[0m \u001b[0;34m\u001b[0m\u001b[0m\n\u001b[1;32m   1534\u001b[0m     \u001b[0;32mdef\u001b[0m \u001b[0m_call_impl\u001b[0m\u001b[0;34m(\u001b[0m\u001b[0mself\u001b[0m\u001b[0;34m,\u001b[0m \u001b[0;34m*\u001b[0m\u001b[0margs\u001b[0m\u001b[0;34m,\u001b[0m \u001b[0;34m**\u001b[0m\u001b[0mkwargs\u001b[0m\u001b[0;34m)\u001b[0m\u001b[0;34m:\u001b[0m\u001b[0;34m\u001b[0m\u001b[0;34m\u001b[0m\u001b[0m\n",
            "\u001b[0;32m/usr/local/lib/python3.10/dist-packages/torch/nn/modules/module.py\u001b[0m in \u001b[0;36m_call_impl\u001b[0;34m(self, *args, **kwargs)\u001b[0m\n\u001b[1;32m   1539\u001b[0m                 \u001b[0;32mor\u001b[0m \u001b[0m_global_backward_pre_hooks\u001b[0m \u001b[0;32mor\u001b[0m \u001b[0m_global_backward_hooks\u001b[0m\u001b[0;34m\u001b[0m\u001b[0;34m\u001b[0m\u001b[0m\n\u001b[1;32m   1540\u001b[0m                 or _global_forward_hooks or _global_forward_pre_hooks):\n\u001b[0;32m-> 1541\u001b[0;31m             \u001b[0;32mreturn\u001b[0m \u001b[0mforward_call\u001b[0m\u001b[0;34m(\u001b[0m\u001b[0;34m*\u001b[0m\u001b[0margs\u001b[0m\u001b[0;34m,\u001b[0m \u001b[0;34m**\u001b[0m\u001b[0mkwargs\u001b[0m\u001b[0;34m)\u001b[0m\u001b[0;34m\u001b[0m\u001b[0;34m\u001b[0m\u001b[0m\n\u001b[0m\u001b[1;32m   1542\u001b[0m \u001b[0;34m\u001b[0m\u001b[0m\n\u001b[1;32m   1543\u001b[0m         \u001b[0;32mtry\u001b[0m\u001b[0;34m:\u001b[0m\u001b[0;34m\u001b[0m\u001b[0;34m\u001b[0m\u001b[0m\n",
            "\u001b[0;32m<ipython-input-17-f0f4b0070ab1>\u001b[0m in \u001b[0;36mforward\u001b[0;34m(self, x)\u001b[0m\n\u001b[1;32m     32\u001b[0m \u001b[0;34m\u001b[0m\u001b[0m\n\u001b[1;32m     33\u001b[0m     \u001b[0;32mdef\u001b[0m \u001b[0mforward\u001b[0m\u001b[0;34m(\u001b[0m\u001b[0mself\u001b[0m\u001b[0;34m,\u001b[0m \u001b[0mx\u001b[0m\u001b[0;34m)\u001b[0m\u001b[0;34m:\u001b[0m\u001b[0;34m\u001b[0m\u001b[0;34m\u001b[0m\u001b[0m\n\u001b[0;32m---> 34\u001b[0;31m         \u001b[0moutput\u001b[0m \u001b[0;34m=\u001b[0m \u001b[0mself\u001b[0m\u001b[0;34m.\u001b[0m\u001b[0mhyper_net\u001b[0m\u001b[0;34m(\u001b[0m\u001b[0mx\u001b[0m\u001b[0;34m)\u001b[0m\u001b[0;34m\u001b[0m\u001b[0;34m\u001b[0m\u001b[0m\n\u001b[0m\u001b[1;32m     35\u001b[0m \u001b[0;34m\u001b[0m\u001b[0m\n\u001b[1;32m     36\u001b[0m         \u001b[0;32mif\u001b[0m \u001b[0misinstance\u001b[0m\u001b[0;34m(\u001b[0m\u001b[0moutput\u001b[0m\u001b[0;34m,\u001b[0m \u001b[0mtuple\u001b[0m\u001b[0;34m)\u001b[0m\u001b[0;34m:\u001b[0m\u001b[0;34m\u001b[0m\u001b[0;34m\u001b[0m\u001b[0m\n",
            "\u001b[0;32m/usr/local/lib/python3.10/dist-packages/torch/nn/modules/module.py\u001b[0m in \u001b[0;36m_wrapped_call_impl\u001b[0;34m(self, *args, **kwargs)\u001b[0m\n\u001b[1;32m   1530\u001b[0m             \u001b[0;32mreturn\u001b[0m \u001b[0mself\u001b[0m\u001b[0;34m.\u001b[0m\u001b[0m_compiled_call_impl\u001b[0m\u001b[0;34m(\u001b[0m\u001b[0;34m*\u001b[0m\u001b[0margs\u001b[0m\u001b[0;34m,\u001b[0m \u001b[0;34m**\u001b[0m\u001b[0mkwargs\u001b[0m\u001b[0;34m)\u001b[0m  \u001b[0;31m# type: ignore[misc]\u001b[0m\u001b[0;34m\u001b[0m\u001b[0;34m\u001b[0m\u001b[0m\n\u001b[1;32m   1531\u001b[0m         \u001b[0;32melse\u001b[0m\u001b[0;34m:\u001b[0m\u001b[0;34m\u001b[0m\u001b[0;34m\u001b[0m\u001b[0m\n\u001b[0;32m-> 1532\u001b[0;31m             \u001b[0;32mreturn\u001b[0m \u001b[0mself\u001b[0m\u001b[0;34m.\u001b[0m\u001b[0m_call_impl\u001b[0m\u001b[0;34m(\u001b[0m\u001b[0;34m*\u001b[0m\u001b[0margs\u001b[0m\u001b[0;34m,\u001b[0m \u001b[0;34m**\u001b[0m\u001b[0mkwargs\u001b[0m\u001b[0;34m)\u001b[0m\u001b[0;34m\u001b[0m\u001b[0;34m\u001b[0m\u001b[0m\n\u001b[0m\u001b[1;32m   1533\u001b[0m \u001b[0;34m\u001b[0m\u001b[0m\n\u001b[1;32m   1534\u001b[0m     \u001b[0;32mdef\u001b[0m \u001b[0m_call_impl\u001b[0m\u001b[0;34m(\u001b[0m\u001b[0mself\u001b[0m\u001b[0;34m,\u001b[0m \u001b[0;34m*\u001b[0m\u001b[0margs\u001b[0m\u001b[0;34m,\u001b[0m \u001b[0;34m**\u001b[0m\u001b[0mkwargs\u001b[0m\u001b[0;34m)\u001b[0m\u001b[0;34m:\u001b[0m\u001b[0;34m\u001b[0m\u001b[0;34m\u001b[0m\u001b[0m\n",
            "\u001b[0;32m/usr/local/lib/python3.10/dist-packages/torch/nn/modules/module.py\u001b[0m in \u001b[0;36m_call_impl\u001b[0;34m(self, *args, **kwargs)\u001b[0m\n\u001b[1;32m   1539\u001b[0m                 \u001b[0;32mor\u001b[0m \u001b[0m_global_backward_pre_hooks\u001b[0m \u001b[0;32mor\u001b[0m \u001b[0m_global_backward_hooks\u001b[0m\u001b[0;34m\u001b[0m\u001b[0;34m\u001b[0m\u001b[0m\n\u001b[1;32m   1540\u001b[0m                 or _global_forward_hooks or _global_forward_pre_hooks):\n\u001b[0;32m-> 1541\u001b[0;31m             \u001b[0;32mreturn\u001b[0m \u001b[0mforward_call\u001b[0m\u001b[0;34m(\u001b[0m\u001b[0;34m*\u001b[0m\u001b[0margs\u001b[0m\u001b[0;34m,\u001b[0m \u001b[0;34m**\u001b[0m\u001b[0mkwargs\u001b[0m\u001b[0;34m)\u001b[0m\u001b[0;34m\u001b[0m\u001b[0;34m\u001b[0m\u001b[0m\n\u001b[0m\u001b[1;32m   1542\u001b[0m \u001b[0;34m\u001b[0m\u001b[0m\n\u001b[1;32m   1543\u001b[0m         \u001b[0;32mtry\u001b[0m\u001b[0;34m:\u001b[0m\u001b[0;34m\u001b[0m\u001b[0;34m\u001b[0m\u001b[0m\n",
            "\u001b[0;32m/content/PIQ2023/src/models/archs/sem_hyperiqa_util.py\u001b[0m in \u001b[0;36mforward\u001b[0;34m(self, input)\u001b[0m\n\u001b[1;32m    147\u001b[0m             \u001b[0;32mreturn\u001b[0m \u001b[0mout_all\u001b[0m\u001b[0;34m\u001b[0m\u001b[0;34m\u001b[0m\u001b[0m\n\u001b[1;32m    148\u001b[0m \u001b[0;34m\u001b[0m\u001b[0m\n\u001b[0;32m--> 149\u001b[0;31m         \u001b[0;32mreturn\u001b[0m \u001b[0mself\u001b[0m\u001b[0;34m.\u001b[0m\u001b[0m_forward\u001b[0m\u001b[0;34m(\u001b[0m\u001b[0minput\u001b[0m\u001b[0;34m)\u001b[0m\u001b[0;34m\u001b[0m\u001b[0;34m\u001b[0m\u001b[0m\n\u001b[0m\u001b[1;32m    150\u001b[0m \u001b[0;34m\u001b[0m\u001b[0m\n\u001b[1;32m    151\u001b[0m \u001b[0;34m\u001b[0m\u001b[0m\n",
            "\u001b[0;32m/content/PIQ2023/src/models/archs/sem_hyperiqa_util.py\u001b[0m in \u001b[0;36m_forward\u001b[0;34m(self, imgTensorIn)\u001b[0m\n\u001b[1;32m     87\u001b[0m     \u001b[0;32mdef\u001b[0m \u001b[0m_forward\u001b[0m\u001b[0;34m(\u001b[0m\u001b[0mself\u001b[0m\u001b[0;34m,\u001b[0m \u001b[0mimgTensorIn\u001b[0m\u001b[0;34m)\u001b[0m\u001b[0;34m:\u001b[0m\u001b[0;34m\u001b[0m\u001b[0;34m\u001b[0m\u001b[0m\n\u001b[1;32m     88\u001b[0m         \u001b[0mfeature_size\u001b[0m \u001b[0;34m=\u001b[0m \u001b[0mself\u001b[0m\u001b[0;34m.\u001b[0m\u001b[0mfeature_size\u001b[0m\u001b[0;34m\u001b[0m\u001b[0;34m\u001b[0m\u001b[0m\n\u001b[0;32m---> 89\u001b[0;31m         \u001b[0mres_out\u001b[0m \u001b[0;34m=\u001b[0m \u001b[0mself\u001b[0m\u001b[0;34m.\u001b[0m\u001b[0mres\u001b[0m\u001b[0;34m(\u001b[0m\u001b[0mimgTensorIn\u001b[0m\u001b[0;34m)\u001b[0m\u001b[0;34m\u001b[0m\u001b[0;34m\u001b[0m\u001b[0m\n\u001b[0m\u001b[1;32m     90\u001b[0m \u001b[0;34m\u001b[0m\u001b[0m\n\u001b[1;32m     91\u001b[0m         \u001b[0;31m# input vector for target net\u001b[0m\u001b[0;34m\u001b[0m\u001b[0;34m\u001b[0m\u001b[0m\n",
            "\u001b[0;32m/usr/local/lib/python3.10/dist-packages/torch/nn/modules/module.py\u001b[0m in \u001b[0;36m_wrapped_call_impl\u001b[0;34m(self, *args, **kwargs)\u001b[0m\n\u001b[1;32m   1530\u001b[0m             \u001b[0;32mreturn\u001b[0m \u001b[0mself\u001b[0m\u001b[0;34m.\u001b[0m\u001b[0m_compiled_call_impl\u001b[0m\u001b[0;34m(\u001b[0m\u001b[0;34m*\u001b[0m\u001b[0margs\u001b[0m\u001b[0;34m,\u001b[0m \u001b[0;34m**\u001b[0m\u001b[0mkwargs\u001b[0m\u001b[0;34m)\u001b[0m  \u001b[0;31m# type: ignore[misc]\u001b[0m\u001b[0;34m\u001b[0m\u001b[0;34m\u001b[0m\u001b[0m\n\u001b[1;32m   1531\u001b[0m         \u001b[0;32melse\u001b[0m\u001b[0;34m:\u001b[0m\u001b[0;34m\u001b[0m\u001b[0;34m\u001b[0m\u001b[0m\n\u001b[0;32m-> 1532\u001b[0;31m             \u001b[0;32mreturn\u001b[0m \u001b[0mself\u001b[0m\u001b[0;34m.\u001b[0m\u001b[0m_call_impl\u001b[0m\u001b[0;34m(\u001b[0m\u001b[0;34m*\u001b[0m\u001b[0margs\u001b[0m\u001b[0;34m,\u001b[0m \u001b[0;34m**\u001b[0m\u001b[0mkwargs\u001b[0m\u001b[0;34m)\u001b[0m\u001b[0;34m\u001b[0m\u001b[0;34m\u001b[0m\u001b[0m\n\u001b[0m\u001b[1;32m   1533\u001b[0m \u001b[0;34m\u001b[0m\u001b[0m\n\u001b[1;32m   1534\u001b[0m     \u001b[0;32mdef\u001b[0m \u001b[0m_call_impl\u001b[0m\u001b[0;34m(\u001b[0m\u001b[0mself\u001b[0m\u001b[0;34m,\u001b[0m \u001b[0;34m*\u001b[0m\u001b[0margs\u001b[0m\u001b[0;34m,\u001b[0m \u001b[0;34m**\u001b[0m\u001b[0mkwargs\u001b[0m\u001b[0;34m)\u001b[0m\u001b[0;34m:\u001b[0m\u001b[0;34m\u001b[0m\u001b[0;34m\u001b[0m\u001b[0m\n",
            "\u001b[0;32m/usr/local/lib/python3.10/dist-packages/torch/nn/modules/module.py\u001b[0m in \u001b[0;36m_call_impl\u001b[0;34m(self, *args, **kwargs)\u001b[0m\n\u001b[1;32m   1539\u001b[0m                 \u001b[0;32mor\u001b[0m \u001b[0m_global_backward_pre_hooks\u001b[0m \u001b[0;32mor\u001b[0m \u001b[0m_global_backward_hooks\u001b[0m\u001b[0;34m\u001b[0m\u001b[0;34m\u001b[0m\u001b[0m\n\u001b[1;32m   1540\u001b[0m                 or _global_forward_hooks or _global_forward_pre_hooks):\n\u001b[0;32m-> 1541\u001b[0;31m             \u001b[0;32mreturn\u001b[0m \u001b[0mforward_call\u001b[0m\u001b[0;34m(\u001b[0m\u001b[0;34m*\u001b[0m\u001b[0margs\u001b[0m\u001b[0;34m,\u001b[0m \u001b[0;34m**\u001b[0m\u001b[0mkwargs\u001b[0m\u001b[0;34m)\u001b[0m\u001b[0;34m\u001b[0m\u001b[0;34m\u001b[0m\u001b[0m\n\u001b[0m\u001b[1;32m   1542\u001b[0m \u001b[0;34m\u001b[0m\u001b[0m\n\u001b[1;32m   1543\u001b[0m         \u001b[0;32mtry\u001b[0m\u001b[0;34m:\u001b[0m\u001b[0;34m\u001b[0m\u001b[0;34m\u001b[0m\u001b[0m\n",
            "\u001b[0;32m/content/PIQ2023/src/models/archs/sem_hyperiqa_util.py\u001b[0m in \u001b[0;36mforward\u001b[0;34m(self, x)\u001b[0m\n\u001b[1;32m    334\u001b[0m         \u001b[0mx\u001b[0m \u001b[0;34m=\u001b[0m \u001b[0mself\u001b[0m\u001b[0;34m.\u001b[0m\u001b[0mlayer3\u001b[0m\u001b[0;34m(\u001b[0m\u001b[0mx\u001b[0m\u001b[0;34m)\u001b[0m\u001b[0;34m\u001b[0m\u001b[0;34m\u001b[0m\u001b[0m\n\u001b[1;32m    335\u001b[0m         \u001b[0mlda_3\u001b[0m \u001b[0;34m=\u001b[0m \u001b[0mself\u001b[0m\u001b[0;34m.\u001b[0m\u001b[0mlda3_fc\u001b[0m\u001b[0;34m(\u001b[0m\u001b[0mself\u001b[0m\u001b[0;34m.\u001b[0m\u001b[0mlda3_pool\u001b[0m\u001b[0;34m(\u001b[0m\u001b[0mx\u001b[0m\u001b[0;34m)\u001b[0m\u001b[0;34m.\u001b[0m\u001b[0mview\u001b[0m\u001b[0;34m(\u001b[0m\u001b[0mx\u001b[0m\u001b[0;34m.\u001b[0m\u001b[0msize\u001b[0m\u001b[0;34m(\u001b[0m\u001b[0;36m0\u001b[0m\u001b[0;34m)\u001b[0m\u001b[0;34m,\u001b[0m \u001b[0;34m-\u001b[0m\u001b[0;36m1\u001b[0m\u001b[0;34m)\u001b[0m\u001b[0;34m)\u001b[0m\u001b[0;34m\u001b[0m\u001b[0;34m\u001b[0m\u001b[0m\n\u001b[0;32m--> 336\u001b[0;31m         \u001b[0mx\u001b[0m \u001b[0;34m=\u001b[0m \u001b[0mself\u001b[0m\u001b[0;34m.\u001b[0m\u001b[0mlayer4\u001b[0m\u001b[0;34m(\u001b[0m\u001b[0mx\u001b[0m\u001b[0;34m)\u001b[0m\u001b[0;34m\u001b[0m\u001b[0;34m\u001b[0m\u001b[0m\n\u001b[0m\u001b[1;32m    337\u001b[0m         \u001b[0mlda_4\u001b[0m \u001b[0;34m=\u001b[0m \u001b[0mself\u001b[0m\u001b[0;34m.\u001b[0m\u001b[0mlda4_fc\u001b[0m\u001b[0;34m(\u001b[0m\u001b[0mself\u001b[0m\u001b[0;34m.\u001b[0m\u001b[0mlda4_pool\u001b[0m\u001b[0;34m(\u001b[0m\u001b[0mx\u001b[0m\u001b[0;34m)\u001b[0m\u001b[0;34m.\u001b[0m\u001b[0mview\u001b[0m\u001b[0;34m(\u001b[0m\u001b[0mx\u001b[0m\u001b[0;34m.\u001b[0m\u001b[0msize\u001b[0m\u001b[0;34m(\u001b[0m\u001b[0;36m0\u001b[0m\u001b[0;34m)\u001b[0m\u001b[0;34m,\u001b[0m \u001b[0;34m-\u001b[0m\u001b[0;36m1\u001b[0m\u001b[0;34m)\u001b[0m\u001b[0;34m)\u001b[0m\u001b[0;34m\u001b[0m\u001b[0;34m\u001b[0m\u001b[0m\n\u001b[1;32m    338\u001b[0m \u001b[0;34m\u001b[0m\u001b[0m\n",
            "\u001b[0;32m/usr/local/lib/python3.10/dist-packages/torch/nn/modules/module.py\u001b[0m in \u001b[0;36m_wrapped_call_impl\u001b[0;34m(self, *args, **kwargs)\u001b[0m\n\u001b[1;32m   1530\u001b[0m             \u001b[0;32mreturn\u001b[0m \u001b[0mself\u001b[0m\u001b[0;34m.\u001b[0m\u001b[0m_compiled_call_impl\u001b[0m\u001b[0;34m(\u001b[0m\u001b[0;34m*\u001b[0m\u001b[0margs\u001b[0m\u001b[0;34m,\u001b[0m \u001b[0;34m**\u001b[0m\u001b[0mkwargs\u001b[0m\u001b[0;34m)\u001b[0m  \u001b[0;31m# type: ignore[misc]\u001b[0m\u001b[0;34m\u001b[0m\u001b[0;34m\u001b[0m\u001b[0m\n\u001b[1;32m   1531\u001b[0m         \u001b[0;32melse\u001b[0m\u001b[0;34m:\u001b[0m\u001b[0;34m\u001b[0m\u001b[0;34m\u001b[0m\u001b[0m\n\u001b[0;32m-> 1532\u001b[0;31m             \u001b[0;32mreturn\u001b[0m \u001b[0mself\u001b[0m\u001b[0;34m.\u001b[0m\u001b[0m_call_impl\u001b[0m\u001b[0;34m(\u001b[0m\u001b[0;34m*\u001b[0m\u001b[0margs\u001b[0m\u001b[0;34m,\u001b[0m \u001b[0;34m**\u001b[0m\u001b[0mkwargs\u001b[0m\u001b[0;34m)\u001b[0m\u001b[0;34m\u001b[0m\u001b[0;34m\u001b[0m\u001b[0m\n\u001b[0m\u001b[1;32m   1533\u001b[0m \u001b[0;34m\u001b[0m\u001b[0m\n\u001b[1;32m   1534\u001b[0m     \u001b[0;32mdef\u001b[0m \u001b[0m_call_impl\u001b[0m\u001b[0;34m(\u001b[0m\u001b[0mself\u001b[0m\u001b[0;34m,\u001b[0m \u001b[0;34m*\u001b[0m\u001b[0margs\u001b[0m\u001b[0;34m,\u001b[0m \u001b[0;34m**\u001b[0m\u001b[0mkwargs\u001b[0m\u001b[0;34m)\u001b[0m\u001b[0;34m:\u001b[0m\u001b[0;34m\u001b[0m\u001b[0;34m\u001b[0m\u001b[0m\n",
            "\u001b[0;32m/usr/local/lib/python3.10/dist-packages/torch/nn/modules/module.py\u001b[0m in \u001b[0;36m_call_impl\u001b[0;34m(self, *args, **kwargs)\u001b[0m\n\u001b[1;32m   1539\u001b[0m                 \u001b[0;32mor\u001b[0m \u001b[0m_global_backward_pre_hooks\u001b[0m \u001b[0;32mor\u001b[0m \u001b[0m_global_backward_hooks\u001b[0m\u001b[0;34m\u001b[0m\u001b[0;34m\u001b[0m\u001b[0m\n\u001b[1;32m   1540\u001b[0m                 or _global_forward_hooks or _global_forward_pre_hooks):\n\u001b[0;32m-> 1541\u001b[0;31m             \u001b[0;32mreturn\u001b[0m \u001b[0mforward_call\u001b[0m\u001b[0;34m(\u001b[0m\u001b[0;34m*\u001b[0m\u001b[0margs\u001b[0m\u001b[0;34m,\u001b[0m \u001b[0;34m**\u001b[0m\u001b[0mkwargs\u001b[0m\u001b[0;34m)\u001b[0m\u001b[0;34m\u001b[0m\u001b[0;34m\u001b[0m\u001b[0m\n\u001b[0m\u001b[1;32m   1542\u001b[0m \u001b[0;34m\u001b[0m\u001b[0m\n\u001b[1;32m   1543\u001b[0m         \u001b[0;32mtry\u001b[0m\u001b[0;34m:\u001b[0m\u001b[0;34m\u001b[0m\u001b[0;34m\u001b[0m\u001b[0m\n",
            "\u001b[0;32m/usr/local/lib/python3.10/dist-packages/torch/nn/modules/container.py\u001b[0m in \u001b[0;36mforward\u001b[0;34m(self, input)\u001b[0m\n\u001b[1;32m    215\u001b[0m     \u001b[0;32mdef\u001b[0m \u001b[0mforward\u001b[0m\u001b[0;34m(\u001b[0m\u001b[0mself\u001b[0m\u001b[0;34m,\u001b[0m \u001b[0minput\u001b[0m\u001b[0;34m)\u001b[0m\u001b[0;34m:\u001b[0m\u001b[0;34m\u001b[0m\u001b[0;34m\u001b[0m\u001b[0m\n\u001b[1;32m    216\u001b[0m         \u001b[0;32mfor\u001b[0m \u001b[0mmodule\u001b[0m \u001b[0;32min\u001b[0m \u001b[0mself\u001b[0m\u001b[0;34m:\u001b[0m\u001b[0;34m\u001b[0m\u001b[0;34m\u001b[0m\u001b[0m\n\u001b[0;32m--> 217\u001b[0;31m             \u001b[0minput\u001b[0m \u001b[0;34m=\u001b[0m \u001b[0mmodule\u001b[0m\u001b[0;34m(\u001b[0m\u001b[0minput\u001b[0m\u001b[0;34m)\u001b[0m\u001b[0;34m\u001b[0m\u001b[0;34m\u001b[0m\u001b[0m\n\u001b[0m\u001b[1;32m    218\u001b[0m         \u001b[0;32mreturn\u001b[0m \u001b[0minput\u001b[0m\u001b[0;34m\u001b[0m\u001b[0;34m\u001b[0m\u001b[0m\n\u001b[1;32m    219\u001b[0m \u001b[0;34m\u001b[0m\u001b[0m\n",
            "\u001b[0;32m/usr/local/lib/python3.10/dist-packages/torch/nn/modules/module.py\u001b[0m in \u001b[0;36m_wrapped_call_impl\u001b[0;34m(self, *args, **kwargs)\u001b[0m\n\u001b[1;32m   1530\u001b[0m             \u001b[0;32mreturn\u001b[0m \u001b[0mself\u001b[0m\u001b[0;34m.\u001b[0m\u001b[0m_compiled_call_impl\u001b[0m\u001b[0;34m(\u001b[0m\u001b[0;34m*\u001b[0m\u001b[0margs\u001b[0m\u001b[0;34m,\u001b[0m \u001b[0;34m**\u001b[0m\u001b[0mkwargs\u001b[0m\u001b[0;34m)\u001b[0m  \u001b[0;31m# type: ignore[misc]\u001b[0m\u001b[0;34m\u001b[0m\u001b[0;34m\u001b[0m\u001b[0m\n\u001b[1;32m   1531\u001b[0m         \u001b[0;32melse\u001b[0m\u001b[0;34m:\u001b[0m\u001b[0;34m\u001b[0m\u001b[0;34m\u001b[0m\u001b[0m\n\u001b[0;32m-> 1532\u001b[0;31m             \u001b[0;32mreturn\u001b[0m \u001b[0mself\u001b[0m\u001b[0;34m.\u001b[0m\u001b[0m_call_impl\u001b[0m\u001b[0;34m(\u001b[0m\u001b[0;34m*\u001b[0m\u001b[0margs\u001b[0m\u001b[0;34m,\u001b[0m \u001b[0;34m**\u001b[0m\u001b[0mkwargs\u001b[0m\u001b[0;34m)\u001b[0m\u001b[0;34m\u001b[0m\u001b[0;34m\u001b[0m\u001b[0m\n\u001b[0m\u001b[1;32m   1533\u001b[0m \u001b[0;34m\u001b[0m\u001b[0m\n\u001b[1;32m   1534\u001b[0m     \u001b[0;32mdef\u001b[0m \u001b[0m_call_impl\u001b[0m\u001b[0;34m(\u001b[0m\u001b[0mself\u001b[0m\u001b[0;34m,\u001b[0m \u001b[0;34m*\u001b[0m\u001b[0margs\u001b[0m\u001b[0;34m,\u001b[0m \u001b[0;34m**\u001b[0m\u001b[0mkwargs\u001b[0m\u001b[0;34m)\u001b[0m\u001b[0;34m:\u001b[0m\u001b[0;34m\u001b[0m\u001b[0;34m\u001b[0m\u001b[0m\n",
            "\u001b[0;32m/usr/local/lib/python3.10/dist-packages/torch/nn/modules/module.py\u001b[0m in \u001b[0;36m_call_impl\u001b[0;34m(self, *args, **kwargs)\u001b[0m\n\u001b[1;32m   1539\u001b[0m                 \u001b[0;32mor\u001b[0m \u001b[0m_global_backward_pre_hooks\u001b[0m \u001b[0;32mor\u001b[0m \u001b[0m_global_backward_hooks\u001b[0m\u001b[0;34m\u001b[0m\u001b[0;34m\u001b[0m\u001b[0m\n\u001b[1;32m   1540\u001b[0m                 or _global_forward_hooks or _global_forward_pre_hooks):\n\u001b[0;32m-> 1541\u001b[0;31m             \u001b[0;32mreturn\u001b[0m \u001b[0mforward_call\u001b[0m\u001b[0;34m(\u001b[0m\u001b[0;34m*\u001b[0m\u001b[0margs\u001b[0m\u001b[0;34m,\u001b[0m \u001b[0;34m**\u001b[0m\u001b[0mkwargs\u001b[0m\u001b[0;34m)\u001b[0m\u001b[0;34m\u001b[0m\u001b[0;34m\u001b[0m\u001b[0m\n\u001b[0m\u001b[1;32m   1542\u001b[0m \u001b[0;34m\u001b[0m\u001b[0m\n\u001b[1;32m   1543\u001b[0m         \u001b[0;32mtry\u001b[0m\u001b[0;34m:\u001b[0m\u001b[0;34m\u001b[0m\u001b[0;34m\u001b[0m\u001b[0m\n",
            "\u001b[0;32m/content/PIQ2023/src/models/archs/sem_hyperiqa_util.py\u001b[0m in \u001b[0;36mforward\u001b[0;34m(self, x)\u001b[0m\n\u001b[1;32m    229\u001b[0m         \u001b[0mout\u001b[0m \u001b[0;34m=\u001b[0m \u001b[0mself\u001b[0m\u001b[0;34m.\u001b[0m\u001b[0mrelu\u001b[0m\u001b[0;34m(\u001b[0m\u001b[0mout\u001b[0m\u001b[0;34m)\u001b[0m\u001b[0;34m\u001b[0m\u001b[0;34m\u001b[0m\u001b[0m\n\u001b[1;32m    230\u001b[0m \u001b[0;34m\u001b[0m\u001b[0m\n\u001b[0;32m--> 231\u001b[0;31m         \u001b[0mout\u001b[0m \u001b[0;34m=\u001b[0m \u001b[0mself\u001b[0m\u001b[0;34m.\u001b[0m\u001b[0mconv2\u001b[0m\u001b[0;34m(\u001b[0m\u001b[0mout\u001b[0m\u001b[0;34m)\u001b[0m\u001b[0;34m\u001b[0m\u001b[0;34m\u001b[0m\u001b[0m\n\u001b[0m\u001b[1;32m    232\u001b[0m         \u001b[0mout\u001b[0m \u001b[0;34m=\u001b[0m \u001b[0mself\u001b[0m\u001b[0;34m.\u001b[0m\u001b[0mbn2\u001b[0m\u001b[0;34m(\u001b[0m\u001b[0mout\u001b[0m\u001b[0;34m)\u001b[0m\u001b[0;34m\u001b[0m\u001b[0;34m\u001b[0m\u001b[0m\n\u001b[1;32m    233\u001b[0m         \u001b[0mout\u001b[0m \u001b[0;34m=\u001b[0m \u001b[0mself\u001b[0m\u001b[0;34m.\u001b[0m\u001b[0mrelu\u001b[0m\u001b[0;34m(\u001b[0m\u001b[0mout\u001b[0m\u001b[0;34m)\u001b[0m\u001b[0;34m\u001b[0m\u001b[0;34m\u001b[0m\u001b[0m\n",
            "\u001b[0;32m/usr/local/lib/python3.10/dist-packages/torch/nn/modules/module.py\u001b[0m in \u001b[0;36m_wrapped_call_impl\u001b[0;34m(self, *args, **kwargs)\u001b[0m\n\u001b[1;32m   1530\u001b[0m             \u001b[0;32mreturn\u001b[0m \u001b[0mself\u001b[0m\u001b[0;34m.\u001b[0m\u001b[0m_compiled_call_impl\u001b[0m\u001b[0;34m(\u001b[0m\u001b[0;34m*\u001b[0m\u001b[0margs\u001b[0m\u001b[0;34m,\u001b[0m \u001b[0;34m**\u001b[0m\u001b[0mkwargs\u001b[0m\u001b[0;34m)\u001b[0m  \u001b[0;31m# type: ignore[misc]\u001b[0m\u001b[0;34m\u001b[0m\u001b[0;34m\u001b[0m\u001b[0m\n\u001b[1;32m   1531\u001b[0m         \u001b[0;32melse\u001b[0m\u001b[0;34m:\u001b[0m\u001b[0;34m\u001b[0m\u001b[0;34m\u001b[0m\u001b[0m\n\u001b[0;32m-> 1532\u001b[0;31m             \u001b[0;32mreturn\u001b[0m \u001b[0mself\u001b[0m\u001b[0;34m.\u001b[0m\u001b[0m_call_impl\u001b[0m\u001b[0;34m(\u001b[0m\u001b[0;34m*\u001b[0m\u001b[0margs\u001b[0m\u001b[0;34m,\u001b[0m \u001b[0;34m**\u001b[0m\u001b[0mkwargs\u001b[0m\u001b[0;34m)\u001b[0m\u001b[0;34m\u001b[0m\u001b[0;34m\u001b[0m\u001b[0m\n\u001b[0m\u001b[1;32m   1533\u001b[0m \u001b[0;34m\u001b[0m\u001b[0m\n\u001b[1;32m   1534\u001b[0m     \u001b[0;32mdef\u001b[0m \u001b[0m_call_impl\u001b[0m\u001b[0;34m(\u001b[0m\u001b[0mself\u001b[0m\u001b[0;34m,\u001b[0m \u001b[0;34m*\u001b[0m\u001b[0margs\u001b[0m\u001b[0;34m,\u001b[0m \u001b[0;34m**\u001b[0m\u001b[0mkwargs\u001b[0m\u001b[0;34m)\u001b[0m\u001b[0;34m:\u001b[0m\u001b[0;34m\u001b[0m\u001b[0;34m\u001b[0m\u001b[0m\n",
            "\u001b[0;32m/usr/local/lib/python3.10/dist-packages/torch/nn/modules/module.py\u001b[0m in \u001b[0;36m_call_impl\u001b[0;34m(self, *args, **kwargs)\u001b[0m\n\u001b[1;32m   1539\u001b[0m                 \u001b[0;32mor\u001b[0m \u001b[0m_global_backward_pre_hooks\u001b[0m \u001b[0;32mor\u001b[0m \u001b[0m_global_backward_hooks\u001b[0m\u001b[0;34m\u001b[0m\u001b[0;34m\u001b[0m\u001b[0m\n\u001b[1;32m   1540\u001b[0m                 or _global_forward_hooks or _global_forward_pre_hooks):\n\u001b[0;32m-> 1541\u001b[0;31m             \u001b[0;32mreturn\u001b[0m \u001b[0mforward_call\u001b[0m\u001b[0;34m(\u001b[0m\u001b[0;34m*\u001b[0m\u001b[0margs\u001b[0m\u001b[0;34m,\u001b[0m \u001b[0;34m**\u001b[0m\u001b[0mkwargs\u001b[0m\u001b[0;34m)\u001b[0m\u001b[0;34m\u001b[0m\u001b[0;34m\u001b[0m\u001b[0m\n\u001b[0m\u001b[1;32m   1542\u001b[0m \u001b[0;34m\u001b[0m\u001b[0m\n\u001b[1;32m   1543\u001b[0m         \u001b[0;32mtry\u001b[0m\u001b[0;34m:\u001b[0m\u001b[0;34m\u001b[0m\u001b[0;34m\u001b[0m\u001b[0m\n",
            "\u001b[0;32m/usr/local/lib/python3.10/dist-packages/torch/nn/modules/conv.py\u001b[0m in \u001b[0;36mforward\u001b[0;34m(self, input)\u001b[0m\n\u001b[1;32m    458\u001b[0m \u001b[0;34m\u001b[0m\u001b[0m\n\u001b[1;32m    459\u001b[0m     \u001b[0;32mdef\u001b[0m \u001b[0mforward\u001b[0m\u001b[0;34m(\u001b[0m\u001b[0mself\u001b[0m\u001b[0;34m,\u001b[0m \u001b[0minput\u001b[0m\u001b[0;34m:\u001b[0m \u001b[0mTensor\u001b[0m\u001b[0;34m)\u001b[0m \u001b[0;34m->\u001b[0m \u001b[0mTensor\u001b[0m\u001b[0;34m:\u001b[0m\u001b[0;34m\u001b[0m\u001b[0;34m\u001b[0m\u001b[0m\n\u001b[0;32m--> 460\u001b[0;31m         \u001b[0;32mreturn\u001b[0m \u001b[0mself\u001b[0m\u001b[0;34m.\u001b[0m\u001b[0m_conv_forward\u001b[0m\u001b[0;34m(\u001b[0m\u001b[0minput\u001b[0m\u001b[0;34m,\u001b[0m \u001b[0mself\u001b[0m\u001b[0;34m.\u001b[0m\u001b[0mweight\u001b[0m\u001b[0;34m,\u001b[0m \u001b[0mself\u001b[0m\u001b[0;34m.\u001b[0m\u001b[0mbias\u001b[0m\u001b[0;34m)\u001b[0m\u001b[0;34m\u001b[0m\u001b[0;34m\u001b[0m\u001b[0m\n\u001b[0m\u001b[1;32m    461\u001b[0m \u001b[0;34m\u001b[0m\u001b[0m\n\u001b[1;32m    462\u001b[0m \u001b[0;32mclass\u001b[0m \u001b[0mConv3d\u001b[0m\u001b[0;34m(\u001b[0m\u001b[0m_ConvNd\u001b[0m\u001b[0;34m)\u001b[0m\u001b[0;34m:\u001b[0m\u001b[0;34m\u001b[0m\u001b[0;34m\u001b[0m\u001b[0m\n",
            "\u001b[0;32m/usr/local/lib/python3.10/dist-packages/torch/nn/modules/conv.py\u001b[0m in \u001b[0;36m_conv_forward\u001b[0;34m(self, input, weight, bias)\u001b[0m\n\u001b[1;32m    454\u001b[0m                             \u001b[0mweight\u001b[0m\u001b[0;34m,\u001b[0m \u001b[0mbias\u001b[0m\u001b[0;34m,\u001b[0m \u001b[0mself\u001b[0m\u001b[0;34m.\u001b[0m\u001b[0mstride\u001b[0m\u001b[0;34m,\u001b[0m\u001b[0;34m\u001b[0m\u001b[0;34m\u001b[0m\u001b[0m\n\u001b[1;32m    455\u001b[0m                             _pair(0), self.dilation, self.groups)\n\u001b[0;32m--> 456\u001b[0;31m         return F.conv2d(input, weight, bias, self.stride,\n\u001b[0m\u001b[1;32m    457\u001b[0m                         self.padding, self.dilation, self.groups)\n\u001b[1;32m    458\u001b[0m \u001b[0;34m\u001b[0m\u001b[0m\n",
            "\u001b[0;31mKeyboardInterrupt\u001b[0m: "
          ]
        }
      ]
    },
    {
      "cell_type": "code",
      "source": [
        "save_model(SemHyperIQA_SO_SD_S, \"SemHyperIQA_SO_SD_S\")"
      ],
      "metadata": {
        "id": "QQsQnM3sMKP8"
      },
      "execution_count": null,
      "outputs": []
    },
    {
      "cell_type": "code",
      "source": [
        "test_model(SemHyperIQA_SO_SD_S, test_loader)"
      ],
      "metadata": {
        "id": "FbrxCRsLMKS7"
      },
      "execution_count": null,
      "outputs": []
    },
    {
      "cell_type": "markdown",
      "source": [
        "\n",
        "\n",
        "**SCORE DETAIL DEVICE SPLIT ON ALL THE MODEL**"
      ],
      "metadata": {
        "id": "rujiy6yDNAmO"
      }
    },
    {
      "cell_type": "code",
      "source": [],
      "metadata": {
        "id": "o9E6s_o87XmH"
      },
      "execution_count": null,
      "outputs": []
    },
    {
      "cell_type": "code",
      "source": [
        "test_model(SemHyperIQA_SD_D, test_loader)"
      ],
      "metadata": {
        "id": "cRmvTllCNVBC"
      },
      "execution_count": null,
      "outputs": []
    },
    {
      "cell_type": "code",
      "source": [],
      "metadata": {
        "id": "xeWKjMuQsI4q"
      },
      "execution_count": null,
      "outputs": []
    },
    {
      "cell_type": "code",
      "source": [
        "model = FullHyperIQA(patchSize=224, hyperNetPretrained=None)\n",
        "criterion = nn.MSELoss()\n",
        "optimizer = optim.Adam(model.parameters(), lr=1e-4)\n",
        "\n",
        "FullHyperIQA_SD_D = train_model(model, criterion, optimizer, train_loader, num_epochs=5)"
      ],
      "metadata": {
        "id": "Mn22-DHHNXHU"
      },
      "execution_count": null,
      "outputs": []
    },
    {
      "cell_type": "code",
      "source": [
        "save_model(FullHyperIQA_SD_D, \"FullHyperIQA_SD_D\")"
      ],
      "metadata": {
        "id": "YqJig-fGNXLU"
      },
      "execution_count": null,
      "outputs": []
    },
    {
      "cell_type": "code",
      "source": [
        "test_model(FullHyperIQA_SD_D, test_loader)"
      ],
      "metadata": {
        "id": "q1X-IbEtNXPA"
      },
      "execution_count": null,
      "outputs": []
    },
    {
      "cell_type": "code",
      "source": [
        "model = SEM_HyperIQA_SO(patch_size=224, hyper_Net_Pretrained=None)\n",
        "criterion = nn.MSELoss()\n",
        "optimizer = optim.Adam(model.parameters(), lr=1e-4)\n",
        "\n",
        "\n",
        "SemHyperIQA_SO_SD_D = train_model(model, criterion, optimizer, train_loader, num_epochs=5)"
      ],
      "metadata": {
        "id": "nSe5QwNDNXS_"
      },
      "execution_count": null,
      "outputs": []
    },
    {
      "cell_type": "code",
      "source": [
        "save_model(SemHyperIQA_SO_SD_D, \"SemHyperIQA_SO_SD_D\")"
      ],
      "metadata": {
        "id": "2R3ScrEjNmOW"
      },
      "execution_count": null,
      "outputs": []
    },
    {
      "cell_type": "code",
      "source": [
        "test_model(SemHyperIQA_SO_SD_D, test_loader)"
      ],
      "metadata": {
        "id": "TtgK9DRxNmSj"
      },
      "execution_count": null,
      "outputs": []
    },
    {
      "cell_type": "markdown",
      "source": [
        "**SCORE OVERALL SCENE SPLIT ON ALL THE MODEL**\n",
        "\n",
        "\n",
        "\n"
      ],
      "metadata": {
        "id": "CeU0VRhSO8bP"
      }
    },
    {
      "cell_type": "code",
      "source": [
        "model = SemHyperIQA(patchSize=224, hyperNetPretrained=None)\n",
        "criterion = nn.MSELoss()\n",
        "optimizer = optim.Adam(model.parameters(), lr=1e-4)\n",
        "\n",
        "SemHyperIQA_SO_S = train_model(model, criterion, optimizer, train_loader, num_epochs=5)"
      ],
      "metadata": {
        "id": "rSlcfkxtO8mN"
      },
      "execution_count": null,
      "outputs": []
    },
    {
      "cell_type": "code",
      "source": [
        "save_model(SemHyperIQA_SO_S, \"SemHyperIQA_SO_S\")"
      ],
      "metadata": {
        "id": "JB9ei-p6PoyS"
      },
      "execution_count": null,
      "outputs": []
    },
    {
      "cell_type": "code",
      "source": [
        "test_model(SemHyperIQA_SO_S, test_loader)"
      ],
      "metadata": {
        "id": "qXcmEhFOPqN4"
      },
      "execution_count": null,
      "outputs": []
    },
    {
      "cell_type": "code",
      "source": [
        "model = FullHyperIQA(patchSize=224, hyperNetPretrained=None)\n",
        "criterion = nn.MSELoss()\n",
        "optimizer = optim.Adam(model.parameters(), lr=1e-4)\n",
        "\n",
        "FullHyperIQA_SO_S = train_model(model, criterion, optimizer, train_loader, num_epochs=5)"
      ],
      "metadata": {
        "id": "tpfvbcLIPqUY"
      },
      "execution_count": null,
      "outputs": []
    },
    {
      "cell_type": "code",
      "source": [
        "save_model(FullHyperIQA_SO_S, \"FullHyperIQA_SO_S\")"
      ],
      "metadata": {
        "id": "n-ODYpavPtMu"
      },
      "execution_count": null,
      "outputs": []
    },
    {
      "cell_type": "code",
      "source": [
        "test_model(FullHyperIQA_SO_S, test_loader)"
      ],
      "metadata": {
        "id": "iSZfDgaXPvXh"
      },
      "execution_count": null,
      "outputs": []
    },
    {
      "cell_type": "code",
      "source": [
        "model = SEM_HyperIQA_SO(patch_size=224, hyper_Net_Pretrained=None)\n",
        "criterion = nn.MSELoss()\n",
        "optimizer = optim.Adam(model.parameters(), lr=1e-4)\n",
        "\n",
        "\n",
        "SemHyperIQA_SO_SO_S = train_model(model, criterion, optimizer, train_loader, num_epochs=5)"
      ],
      "metadata": {
        "id": "Be_gx5dAQuPz"
      },
      "execution_count": null,
      "outputs": []
    },
    {
      "cell_type": "code",
      "source": [
        "save_model(SemHyperIQA_SO_SO_S, \"SemHyperIQA_SO_SO_S\")"
      ],
      "metadata": {
        "id": "obvJv2jNQuVH"
      },
      "execution_count": null,
      "outputs": []
    },
    {
      "cell_type": "code",
      "source": [
        "test_model(SemHyperIQA_SO_SO_S, test_loader)"
      ],
      "metadata": {
        "id": "fbhhQGJLQuZx"
      },
      "execution_count": null,
      "outputs": []
    },
    {
      "cell_type": "markdown",
      "source": [
        "**SCORE OVERALL DEVICE SPLIT ON ALL THE MODEL**"
      ],
      "metadata": {
        "id": "9TUSvkmqRS_p"
      }
    },
    {
      "cell_type": "code",
      "source": [
        "model = SemHyperIQA(patchSize=224, hyperNetPretrained=None)\n",
        "criterion = nn.MSELoss()\n",
        "optimizer = optim.Adam(model.parameters(), lr=1e-4)"
      ],
      "metadata": {
        "id": "CdQDdDf4VYTv"
      },
      "execution_count": null,
      "outputs": []
    },
    {
      "cell_type": "code",
      "source": [
        "save_model(SemHyperIQA_SO_D, \"SemHyperIQA_SO_D\")"
      ],
      "metadata": {
        "id": "kVW5iHc0RSV9"
      },
      "execution_count": null,
      "outputs": []
    },
    {
      "cell_type": "code",
      "source": [
        "test_model(SemHyperIQA_SO_D, test_loader)"
      ],
      "metadata": {
        "id": "YzlGfVgORSZy"
      },
      "execution_count": null,
      "outputs": []
    },
    {
      "cell_type": "code",
      "source": [
        "model = FullHyperIQA(patchSize=224, hyperNetPretrained=None)\n",
        "criterion = nn.MSELoss()\n",
        "optimizer = optim.Adam(model.parameters(), lr=1e-4)\n",
        "\n",
        "FullHyperIQA_SO_D = train_model(model, criterion, optimizer, train_loader, num_epochs=5)"
      ],
      "metadata": {
        "id": "L3xHc3TcRSfB"
      },
      "execution_count": null,
      "outputs": []
    },
    {
      "cell_type": "code",
      "source": [
        "save_model(FullHyperIQA_SO_D, \"FullHyperIQA_SO_D\")"
      ],
      "metadata": {
        "id": "Jjcu_Ty2R2h_"
      },
      "execution_count": null,
      "outputs": []
    },
    {
      "cell_type": "code",
      "source": [
        "test_model(FullHyperIQA_SO_D, test_loader)"
      ],
      "metadata": {
        "id": "i8GgQJ-uR2k7"
      },
      "execution_count": null,
      "outputs": []
    },
    {
      "cell_type": "code",
      "source": [
        "SEM_HyperIQA_SO_device = train_model(model, criterion, optimizer, train_loader, num_epochs=8)\n"
      ],
      "metadata": {
        "colab": {
          "base_uri": "https://localhost:8080/"
        },
        "id": "9OCmOb2pvrc9",
        "outputId": "32a646ed-1f2c-47ff-9085-1e9479fdb835"
      },
      "execution_count": null,
      "outputs": [
        {
          "output_type": "stream",
          "name": "stdout",
          "text": [
            "Epoch 1/8, Loss: 0.4896\n",
            "Epoch 2/8, Loss: 0.3200\n",
            "Epoch 3/8, Loss: 0.2277\n",
            "Epoch 4/8, Loss: 0.1625\n",
            "Epoch 5/8, Loss: 0.1351\n",
            "Epoch 6/8, Loss: 0.1032\n",
            "Epoch 7/8, Loss: 0.0978\n",
            "Epoch 8/8, Loss: 0.0929\n",
            "Eğitim tamamlandı\n"
          ]
        }
      ]
    },
    {
      "cell_type": "code",
      "source": [
        "call_the_savedmodel(SEM_HyperIQA_SO)"
      ],
      "metadata": {
        "id": "QYE8hP2kR7g6"
      },
      "execution_count": null,
      "outputs": []
    },
    {
      "cell_type": "code",
      "source": [
        "test_model(SemHyperIQA_SO, test_loader)"
      ],
      "metadata": {
        "id": "zP21pSprR7je"
      },
      "execution_count": null,
      "outputs": []
    },
    {
      "cell_type": "markdown",
      "source": [
        "**Score Exposure SCENE SPLIT on all the data**"
      ],
      "metadata": {
        "id": "OajWgjxxOYFU"
      }
    },
    {
      "cell_type": "code",
      "source": [
        "model = SemHyperIQA(patchSize=224, hyperNetPretrained=None)\n",
        "criterion = nn.MSELoss()\n",
        "optimizer = optim.Adam(model.parameters(), lr=1e-4)\n",
        "\n",
        "trained_model_scene = train_model(model, criterion, optimizer, train_loader, num_epochs=8)\n"
      ],
      "metadata": {
        "colab": {
          "base_uri": "https://localhost:8080/"
        },
        "id": "57m0OXmvStvj",
        "outputId": "f84b1880-dac6-4cf2-b4ae-762b107434d9"
      },
      "execution_count": null,
      "outputs": [
        {
          "output_type": "stream",
          "name": "stdout",
          "text": [
            "Epoch 1/8, Loss: 1.1413\n",
            "Epoch 2/8, Loss: 0.5870\n",
            "Epoch 3/8, Loss: 0.3390\n",
            "Epoch 4/8, Loss: 0.2968\n",
            "Epoch 5/8, Loss: 0.2043\n",
            "Epoch 6/8, Loss: 0.1831\n",
            "Epoch 7/8, Loss: 0.1605\n",
            "Epoch 8/8, Loss: 0.1469\n",
            "Eğitim tamamlandı\n"
          ]
        }
      ]
    },
    {
      "cell_type": "code",
      "source": [
        "test_model(model, test_loader)\n"
      ],
      "metadata": {
        "colab": {
          "base_uri": "https://localhost:8080/"
        },
        "id": "zodwtSorpIZm",
        "outputId": "cd2071cf-e0fb-440e-8eb0-b46f4b9a3c78"
      },
      "execution_count": null,
      "outputs": [
        {
          "output_type": "stream",
          "name": "stdout",
          "text": [
            "Test Loss: 1.7750\n"
          ]
        }
      ]
    },
    {
      "cell_type": "code",
      "source": [
        "model = FullHyperIQA(patchSize=224, hyperNetPretrained=None)\n",
        "criterion = nn.MSELoss()\n",
        "optimizer = optim.Adam(model.parameters(), lr=1e-4)\n",
        "\n",
        "FullHyperIQA_model_scene = train_model(model, criterion, optimizer, train_loader, num_epochs=8)\n"
      ],
      "metadata": {
        "id": "GN-iZTBWt5F0",
        "colab": {
          "base_uri": "https://localhost:8080/"
        },
        "outputId": "128b1112-8abf-4b45-b1a3-8b13b3a9d472"
      },
      "execution_count": null,
      "outputs": [
        {
          "output_type": "stream",
          "name": "stdout",
          "text": [
            "Epoch 1/8, Loss: 0.2955\n",
            "Epoch 2/8, Loss: 0.2996\n",
            "Epoch 3/8, Loss: 0.2925\n",
            "Epoch 4/8, Loss: 0.3022\n",
            "Epoch 5/8, Loss: 0.3000\n",
            "Epoch 6/8, Loss: 0.3060\n",
            "Epoch 7/8, Loss: 0.3166\n",
            "Epoch 8/8, Loss: 0.3068\n",
            "Eğitim tamamlandı\n"
          ]
        }
      ]
    },
    {
      "cell_type": "code",
      "source": [
        "test_model(FullHyperIQA_model_scene, test_loader)\n"
      ],
      "metadata": {
        "id": "JCxm4EEbul5O",
        "colab": {
          "base_uri": "https://localhost:8080/"
        },
        "outputId": "629719cd-dbbf-4ece-af50-29cfc54b4273"
      },
      "execution_count": null,
      "outputs": [
        {
          "output_type": "stream",
          "name": "stdout",
          "text": [
            "Test Loss: 0.2880\n"
          ]
        }
      ]
    },
    {
      "cell_type": "code",
      "source": [
        "model = SEM_HyperIQA_SO(patch_size=224, hyper_Net_Pretrained=None)\n",
        "criterion = nn.MSELoss()\n",
        "optimizer = optim.Adam(model.parameters(), lr=1e-4)\n",
        "\n",
        "SemHyperIQA_SO?SE_S = train_model(model, criterion, optimizer, train_loader, num_epochs=8)"
      ],
      "metadata": {
        "id": "l9RC9kllTpRM"
      },
      "execution_count": null,
      "outputs": []
    },
    {
      "cell_type": "code",
      "source": [
        "save_model(SemHyperIQA_SO_SE_S, \"SemHyperIQA_SO_SE_S\")"
      ],
      "metadata": {
        "id": "dpHlCZMETpaE"
      },
      "execution_count": null,
      "outputs": []
    },
    {
      "cell_type": "code",
      "source": [
        "test_model(SemHyperIQA_SO_SE_S, test_loader)"
      ],
      "metadata": {
        "id": "W9yjvj9jTwnM"
      },
      "execution_count": null,
      "outputs": []
    },
    {
      "cell_type": "markdown",
      "source": [
        "**Score Exposure DEVICE SPLIT on all the data**"
      ],
      "metadata": {
        "id": "znUca4knV0sd"
      }
    },
    {
      "cell_type": "code",
      "source": [
        "model = SemHyperIQA(patch_Size=224, hyper_Net_Pretrained=None)\n",
        "criterion = nn.MSELoss()\n",
        "optimizer = optim.Adam(model.parameters(), lr=1e-4)\n",
        "\n",
        "trained_model2 = train_model(model, criterion, optimizer, train_loader, num_epochs=25)"
      ],
      "metadata": {
        "colab": {
          "base_uri": "https://localhost:8080/"
        },
        "id": "m0Pf87JZH9wD",
        "outputId": "8d655a21-1c37-4b44-d303-8a2db439514e"
      },
      "execution_count": null,
      "outputs": [
        {
          "output_type": "stream",
          "name": "stdout",
          "text": [
            "Epoch 1/25, Loss: 0.7291\n",
            "Epoch 2/25, Loss: 0.3455\n",
            "Epoch 3/25, Loss: 0.2005\n",
            "Epoch 4/25, Loss: 0.1604\n",
            "Epoch 5/25, Loss: 0.1422\n",
            "Epoch 6/25, Loss: 0.1056\n",
            "Epoch 7/25, Loss: 0.0804\n",
            "Epoch 8/25, Loss: 0.0679\n",
            "Epoch 9/25, Loss: 0.0745\n",
            "Epoch 10/25, Loss: 0.0625\n",
            "Epoch 11/25, Loss: 0.0553\n",
            "Epoch 12/25, Loss: 0.0571\n",
            "Epoch 13/25, Loss: 0.0596\n",
            "Epoch 14/25, Loss: 0.0596\n",
            "Epoch 15/25, Loss: 0.0440\n",
            "Epoch 16/25, Loss: 0.0405\n",
            "Epoch 17/25, Loss: 0.0356\n",
            "Epoch 18/25, Loss: 0.0357\n",
            "Epoch 19/25, Loss: 0.0369\n",
            "Epoch 20/25, Loss: 0.0331\n",
            "Epoch 21/25, Loss: 0.0277\n",
            "Epoch 22/25, Loss: 0.0226\n",
            "Epoch 23/25, Loss: 0.0203\n",
            "Epoch 24/25, Loss: 0.0204\n",
            "Epoch 25/25, Loss: 0.0211\n",
            "Eğitim tamamlandı\n"
          ]
        }
      ]
    },
    {
      "cell_type": "code",
      "source": [
        "test_model(trained_model2, test_loader)\n"
      ],
      "metadata": {
        "colab": {
          "base_uri": "https://localhost:8080/"
        },
        "id": "FHMvF1FRrSAy",
        "outputId": "1ec0dcaf-1add-440e-e240-6b4f8f52a402"
      },
      "execution_count": null,
      "outputs": [
        {
          "output_type": "stream",
          "name": "stderr",
          "text": [
            "/usr/local/lib/python3.10/dist-packages/torch/nn/modules/loss.py:535: UserWarning: Using a target size (torch.Size([1])) that is different to the input size (torch.Size([])). This will likely lead to incorrect results due to broadcasting. Please ensure they have the same size.\n",
            "  return F.mse_loss(input, target, reduction=self.reduction)\n"
          ]
        },
        {
          "output_type": "stream",
          "name": "stdout",
          "text": [
            "Test Loss: 0.7198\n"
          ]
        }
      ]
    },
    {
      "cell_type": "code",
      "source": [
        "model = SemHyperIQA(patch_Size=224, hyper_Net_Pretrained=None)\n",
        "criterion = nn.MSELoss()\n",
        "optimizer = optim.Adam(model.parameters(), lr=1e-4)\n",
        "\n",
        "trained_model3 = train_model(model, criterion, optimizer, train_loader, num_epochs=8)"
      ],
      "metadata": {
        "colab": {
          "base_uri": "https://localhost:8080/"
        },
        "id": "fSx9UpKgNTWS",
        "outputId": "813c930f-55fb-4665-8296-8c3ca9c61231"
      },
      "execution_count": null,
      "outputs": [
        {
          "output_type": "stream",
          "name": "stdout",
          "text": [
            "Epoch 1/8, Loss: 1.2441\n",
            "Epoch 2/8, Loss: 0.6231\n",
            "Epoch 3/8, Loss: 0.3808\n",
            "Epoch 4/8, Loss: 0.2629\n",
            "Epoch 5/8, Loss: 0.2113\n",
            "Epoch 6/8, Loss: 0.1562\n",
            "Epoch 7/8, Loss: 0.1435\n",
            "Epoch 8/8, Loss: 0.1454\n",
            "Eğitim tamamlandı\n"
          ]
        }
      ]
    },
    {
      "cell_type": "code",
      "source": [
        "test3 = test_model(trained_model3, test_loader)"
      ],
      "metadata": {
        "colab": {
          "base_uri": "https://localhost:8080/"
        },
        "id": "I5osWddxeOyv",
        "outputId": "f01a7389-a8f4-4be4-ef23-c9474338ab08"
      },
      "execution_count": null,
      "outputs": [
        {
          "output_type": "stream",
          "name": "stderr",
          "text": [
            "/usr/local/lib/python3.10/dist-packages/torch/nn/modules/loss.py:535: UserWarning: Using a target size (torch.Size([1])) that is different to the input size (torch.Size([])). This will likely lead to incorrect results due to broadcasting. Please ensure they have the same size.\n",
            "  return F.mse_loss(input, target, reduction=self.reduction)\n"
          ]
        },
        {
          "output_type": "stream",
          "name": "stdout",
          "text": [
            "Test Loss: 0.7957\n",
            "None\n"
          ]
        }
      ]
    },
    {
      "cell_type": "code",
      "source": [
        "FullHyperIQA_model_device = train_model(model, criterion, optimizer, train_loader, num_epochs=8)\n"
      ],
      "metadata": {
        "id": "9xK-hvWOr7xv",
        "colab": {
          "base_uri": "https://localhost:8080/"
        },
        "outputId": "79a975f4-63fa-471e-8e0e-4955963850d3"
      },
      "execution_count": null,
      "outputs": [
        {
          "output_type": "stream",
          "name": "stdout",
          "text": [
            "Epoch 1/8, Loss: 1.2530\n",
            "Epoch 2/8, Loss: 0.6619\n",
            "Epoch 3/8, Loss: 0.4219\n",
            "Epoch 4/8, Loss: 0.2943\n",
            "Epoch 5/8, Loss: 0.2240\n",
            "Epoch 6/8, Loss: 0.1869\n",
            "Epoch 7/8, Loss: 0.1568\n",
            "Epoch 8/8, Loss: 0.1476\n",
            "Eğitim tamamlandı\n"
          ]
        }
      ]
    },
    {
      "cell_type": "code",
      "source": [
        "test_model(FullHyperIQA_model_device, test_loader)\n"
      ],
      "metadata": {
        "id": "3qCwEsgQsoXY",
        "colab": {
          "base_uri": "https://localhost:8080/"
        },
        "outputId": "c027e0a8-1d0b-413c-cf32-bb6f93e0e330"
      },
      "execution_count": null,
      "outputs": [
        {
          "output_type": "stream",
          "name": "stdout",
          "text": [
            "Test Loss: 0.7005\n"
          ]
        }
      ]
    },
    {
      "cell_type": "code",
      "source": [
        "model = SEM_HyperIQA_SO(patch_Size=224, hyper_Net_Pretrained=None)\n",
        "criterion = nn.MSELoss()\n",
        "optimizer = optim.Adam(model.parameters(), lr=1e-4)\n",
        "\n",
        "SemHyperIQA_SO_SE_D = train_model(model, criterion, optimizer, train_loader, num_epochs=8)"
      ],
      "metadata": {
        "id": "m1yuJ4kYOVaK"
      },
      "execution_count": null,
      "outputs": []
    },
    {
      "cell_type": "code",
      "source": [
        "save_model(SemHyperIQA_SO_SE_D, \"SemHyperIQA_SO_SE_D\")"
      ],
      "metadata": {
        "id": "VQqy73EQOVem"
      },
      "execution_count": null,
      "outputs": []
    },
    {
      "cell_type": "code",
      "source": [
        "test_model(SemHyperIQA_SO_SE_D, test_loader)"
      ],
      "metadata": {
        "id": "Gdmu5_h3OVjq"
      },
      "execution_count": null,
      "outputs": []
    },
    {
      "cell_type": "code",
      "source": [
        "sem_hyperiqa = SemHyperIQA(patchSize=224, hyperNetPretrained=None)\n",
        "full_hyperiqa = FullHyperIQA(patchSize=224, hyperNetPretrained=None)\n",
        "\n",
        "sem_hyperiqa_load_path = '/content/SemHyperIQA_SE_D.pth'\n",
        "full_hyperiqa_load_path = '/content/drive/MyDrive/FullHyperIQA_model_scene.pth'\n",
        "\n",
        "\n",
        "sem_hyperiqa.load_state_dict(torch.load(sem_hyperiqa_load_path))\n",
        "full_hyperiqa.load_state_dict(torch.load(full_hyperiqa_load_path))\n",
        "\n",
        "sem_hyperiqa.eval()\n",
        "full_hyperiqa.eval()\n"
      ],
      "metadata": {
        "id": "u4HO4t0LWFPg",
        "colab": {
          "base_uri": "https://localhost:8080/",
          "height": 408
        },
        "outputId": "3954cde7-bea0-4d40-fbdf-c30d00d1ff46"
      },
      "execution_count": null,
      "outputs": [
        {
          "output_type": "stream",
          "name": "stdout",
          "text": [
            "Downloading: \"https://download.pytorch.org/models/resnet50-19c8e357.pth\" to /root/.cache/torch/hub/checkpoints/resnet50-19c8e357.pth\n",
            "\n"
          ]
        },
        {
          "output_type": "stream",
          "name": "stderr",
          "text": [
            "100%|██████████| 97.8M/97.8M [00:00<00:00, 288MB/s]\n"
          ]
        },
        {
          "output_type": "error",
          "ename": "RuntimeError",
          "evalue": "PytorchStreamReader failed reading zip archive: failed finding central directory",
          "traceback": [
            "\u001b[0;31m---------------------------------------------------------------------------\u001b[0m",
            "\u001b[0;31mRuntimeError\u001b[0m                              Traceback (most recent call last)",
            "\u001b[0;32m<ipython-input-6-f5792d0b323a>\u001b[0m in \u001b[0;36m<cell line: 8>\u001b[0;34m()\u001b[0m\n\u001b[1;32m      6\u001b[0m \u001b[0;34m\u001b[0m\u001b[0m\n\u001b[1;32m      7\u001b[0m \u001b[0;34m\u001b[0m\u001b[0m\n\u001b[0;32m----> 8\u001b[0;31m \u001b[0msem_hyperiqa\u001b[0m\u001b[0;34m.\u001b[0m\u001b[0mload_state_dict\u001b[0m\u001b[0;34m(\u001b[0m\u001b[0mtorch\u001b[0m\u001b[0;34m.\u001b[0m\u001b[0mload\u001b[0m\u001b[0;34m(\u001b[0m\u001b[0msem_hyperiqa_load_path\u001b[0m\u001b[0;34m)\u001b[0m\u001b[0;34m)\u001b[0m\u001b[0;34m\u001b[0m\u001b[0;34m\u001b[0m\u001b[0m\n\u001b[0m\u001b[1;32m      9\u001b[0m \u001b[0mfull_hyperiqa\u001b[0m\u001b[0;34m.\u001b[0m\u001b[0mload_state_dict\u001b[0m\u001b[0;34m(\u001b[0m\u001b[0mtorch\u001b[0m\u001b[0;34m.\u001b[0m\u001b[0mload\u001b[0m\u001b[0;34m(\u001b[0m\u001b[0mfull_hyperiqa_load_path\u001b[0m\u001b[0;34m)\u001b[0m\u001b[0;34m)\u001b[0m\u001b[0;34m\u001b[0m\u001b[0;34m\u001b[0m\u001b[0m\n\u001b[1;32m     10\u001b[0m \u001b[0;34m\u001b[0m\u001b[0m\n",
            "\u001b[0;32m/usr/local/lib/python3.10/dist-packages/torch/serialization.py\u001b[0m in \u001b[0;36mload\u001b[0;34m(f, map_location, pickle_module, weights_only, mmap, **pickle_load_args)\u001b[0m\n\u001b[1;32m   1002\u001b[0m             \u001b[0morig_position\u001b[0m \u001b[0;34m=\u001b[0m \u001b[0mopened_file\u001b[0m\u001b[0;34m.\u001b[0m\u001b[0mtell\u001b[0m\u001b[0;34m(\u001b[0m\u001b[0;34m)\u001b[0m\u001b[0;34m\u001b[0m\u001b[0;34m\u001b[0m\u001b[0m\n\u001b[1;32m   1003\u001b[0m             \u001b[0moverall_storage\u001b[0m \u001b[0;34m=\u001b[0m \u001b[0;32mNone\u001b[0m\u001b[0;34m\u001b[0m\u001b[0;34m\u001b[0m\u001b[0m\n\u001b[0;32m-> 1004\u001b[0;31m             \u001b[0;32mwith\u001b[0m \u001b[0m_open_zipfile_reader\u001b[0m\u001b[0;34m(\u001b[0m\u001b[0mopened_file\u001b[0m\u001b[0;34m)\u001b[0m \u001b[0;32mas\u001b[0m \u001b[0mopened_zipfile\u001b[0m\u001b[0;34m:\u001b[0m\u001b[0;34m\u001b[0m\u001b[0;34m\u001b[0m\u001b[0m\n\u001b[0m\u001b[1;32m   1005\u001b[0m                 \u001b[0;32mif\u001b[0m \u001b[0m_is_torchscript_zip\u001b[0m\u001b[0;34m(\u001b[0m\u001b[0mopened_zipfile\u001b[0m\u001b[0;34m)\u001b[0m\u001b[0;34m:\u001b[0m\u001b[0;34m\u001b[0m\u001b[0;34m\u001b[0m\u001b[0m\n\u001b[1;32m   1006\u001b[0m                     warnings.warn(\"'torch.load' received a zip file that looks like a TorchScript archive\"\n",
            "\u001b[0;32m/usr/local/lib/python3.10/dist-packages/torch/serialization.py\u001b[0m in \u001b[0;36m__init__\u001b[0;34m(self, name_or_buffer)\u001b[0m\n\u001b[1;32m    454\u001b[0m \u001b[0;32mclass\u001b[0m \u001b[0m_open_zipfile_reader\u001b[0m\u001b[0;34m(\u001b[0m\u001b[0m_opener\u001b[0m\u001b[0;34m)\u001b[0m\u001b[0;34m:\u001b[0m\u001b[0;34m\u001b[0m\u001b[0;34m\u001b[0m\u001b[0m\n\u001b[1;32m    455\u001b[0m     \u001b[0;32mdef\u001b[0m \u001b[0m__init__\u001b[0m\u001b[0;34m(\u001b[0m\u001b[0mself\u001b[0m\u001b[0;34m,\u001b[0m \u001b[0mname_or_buffer\u001b[0m\u001b[0;34m)\u001b[0m \u001b[0;34m->\u001b[0m \u001b[0;32mNone\u001b[0m\u001b[0;34m:\u001b[0m\u001b[0;34m\u001b[0m\u001b[0;34m\u001b[0m\u001b[0m\n\u001b[0;32m--> 456\u001b[0;31m         \u001b[0msuper\u001b[0m\u001b[0;34m(\u001b[0m\u001b[0;34m)\u001b[0m\u001b[0;34m.\u001b[0m\u001b[0m__init__\u001b[0m\u001b[0;34m(\u001b[0m\u001b[0mtorch\u001b[0m\u001b[0;34m.\u001b[0m\u001b[0m_C\u001b[0m\u001b[0;34m.\u001b[0m\u001b[0mPyTorchFileReader\u001b[0m\u001b[0;34m(\u001b[0m\u001b[0mname_or_buffer\u001b[0m\u001b[0;34m)\u001b[0m\u001b[0;34m)\u001b[0m\u001b[0;34m\u001b[0m\u001b[0;34m\u001b[0m\u001b[0m\n\u001b[0m\u001b[1;32m    457\u001b[0m \u001b[0;34m\u001b[0m\u001b[0m\n\u001b[1;32m    458\u001b[0m \u001b[0;34m\u001b[0m\u001b[0m\n",
            "\u001b[0;31mRuntimeError\u001b[0m: PytorchStreamReader failed reading zip archive: failed finding central directory"
          ]
        }
      ]
    },
    {
      "cell_type": "code",
      "source": [
        "import torch\n",
        "\n",
        "# Verify file paths\n",
        "sem_hyperiqa_load_path = '/content/SemHyperIQA_SE_D.pth'\n",
        "full_hyperiqa_load_path = '/content/drive/MyDrive/FullHyperIQA_model_scene.pth'\n",
        "\n",
        "try:\n",
        "    # Attempt to load the models\n",
        "    sem_hyperiqa.load_state_dict(torch.load(sem_hyperiqa_load_path, map_location=torch.device('cpu')))\n",
        "    full_hyperiqa.load_state_dict(torch.load(full_hyperiqa_load_path, map_location=torch.device('cpu')))\n",
        "    print(\"Models loaded successfully!\")\n",
        "except Exception as e:\n",
        "    print(f\"Error loading models: {e}\")\n",
        "\n",
        "# To verify the file integrity (optional)\n",
        "try:\n",
        "    with open(sem_hyperiqa_load_path, 'rb') as f:\n",
        "        sem_hyperiqa_data = f.read()\n",
        "    with open(full_hyperiqa_load_path, 'rb') as f:\n",
        "        full_hyperiqa_data = f.read()\n",
        "    print(\"Files read successfully, no corruption detected.\")\n",
        "except Exception as e:\n",
        "    print(f\"Error reading files: {e}\")\n"
      ],
      "metadata": {
        "colab": {
          "base_uri": "https://localhost:8080/"
        },
        "id": "P3KAOu9jjFP0",
        "outputId": "be4a396a-a256-4333-9ab9-05c61d096637"
      },
      "execution_count": null,
      "outputs": [
        {
          "output_type": "stream",
          "name": "stdout",
          "text": [
            "Models loaded successfully!\n",
            "Files read successfully, no corruption detected.\n"
          ]
        }
      ]
    },
    {
      "cell_type": "code",
      "source": [
        "import pandas as pd\n",
        "from torchvision.transforms import Compose, Resize, ToTensor, Normalize\n",
        "\n",
        "\n",
        "testDfPath =  \"/content/drive/MyDrive/Dataset/Scene_Split_test.csv\"\n",
        "testDf = pd.read_csv(testDfPath)\n",
        "\n",
        "\n",
        "transform = Compose([\n",
        "    Resize((224, 224)),\n",
        "    ToTensor(),\n",
        "    Normalize(mean=[0.485, 0.456, 0.406], std=[0.229, 0.224, 0.225]),a\n",
        "])\n",
        "\n",
        "test_dataset = CustomDataset(testDf, transform=transform)\n",
        "test_loader = DataLoader(test_dataset, batch_size=1, shuffle=False)\n",
        "\n",
        "sem_hyperiqa_predictions = []\n",
        "full_hyperiqa_predictions = []\n",
        "true_values = []\n",
        "\n",
        "with torch.no_grad():\n",
        "  for images, labels in test_loader:\n",
        "    sem_hyperiqa_outputs = sem_hyperiqa(images)\n",
        "    full_hyperiqa_outputs = full_hyperiqa(images)\n",
        "\n",
        "    sem_hyperiqa_predictions.append(sem_hyperiqa_outputs['quality'].item())\n",
        "    full_hyperiqa_predictions.append(full_hyperiqa_outputs['quality'].item())\n",
        "    true_values.append(labels.item())"
      ],
      "metadata": {
        "id": "xBkt8PJrjOH9"
      },
      "execution_count": null,
      "outputs": []
    },
    {
      "cell_type": "code",
      "source": [
        "sem_hyperiqa_metrics = calculate_metrics(sem_hyperiqa_predictions, true_values)\n",
        "full_hyperiqa_metrics = calculate_metrics(full_hyperiqa_predictions, true_values)\n",
        "\n",
        "print(f\"SemHyperIQA Metrics: {sem_hyperiqa_metrics}\")\n",
        "print(f\"FullHyperIQA Metrics: {full_hyperiqa_metrics}\")"
      ],
      "metadata": {
        "colab": {
          "base_uri": "https://localhost:8080/"
        },
        "id": "aPF6vOYWkyaH",
        "outputId": "41a853d5-d25e-49fb-a382-9e3c1e22d46e"
      },
      "execution_count": null,
      "outputs": [
        {
          "output_type": "stream",
          "name": "stdout",
          "text": [
            "SemHyperIQA Metrics: (0.241263164167455, 0.23521197516819198, 0.16284007150974983, 1.0705978145813404)\n",
            "FullHyperIQA Metrics: (0.45953627403766634, 0.43820446935643603, 0.3154836595889909, 1.0156913471333686)\n"
          ]
        }
      ]
    },
    {
      "cell_type": "code",
      "source": [
        "import pandas as pd\n",
        "\n",
        "# Performans metriklerini tabloya ekleme\n",
        "data = {\n",
        "    ('Details', 'SROCC'): [sem_hyperiqa_metrics[0], full_hyperiqa_metrics[0]],\n",
        "    ('Details', 'PLCC'): [sem_hyperiqa_metrics[1], full_hyperiqa_metrics[1]],\n",
        "    ('Details', 'KROCC'): [sem_hyperiqa_metrics[2], full_hyperiqa_metrics[2]],\n",
        "    ('Details', 'MAE'): [sem_hyperiqa_metrics[3], full_hyperiqa_metrics[3]],\n",
        "    ('Exposure', 'SROCC'): [sem_hyperiqa_metrics[0], full_hyperiqa_metrics[0]],  # Hypothetical, needs actual values\n",
        "    ('Exposure', 'PLCC'): [sem_hyperiqa_metrics[1], full_hyperiqa_metrics[1]],  # Hypothetical, needs actual values\n",
        "    ('Exposure', 'KROCC'): [sem_hyperiqa_metrics[2], full_hyperiqa_metrics[2]],  # Hypothetical, needs actual values\n",
        "    ('Exposure', 'MAE'): [sem_hyperiqa_metrics[3], full_hyperiqa_metrics[3]],  # Hypothetical, needs actual values\n",
        "    ('Overall', 'SROCC'): [sem_hyperiqa_metrics[0], full_hyperiqa_metrics[0]],  # Hypothetical, needs actual values\n",
        "    ('Overall', 'PLCC'): [sem_hyperiqa_metrics[1], full_hyperiqa_metrics[1]],  # Hypothetical, needs actual values\n",
        "    ('Overall', 'KROCC'): [sem_hyperiqa_metrics[2], full_hyperiqa_metrics[2]],  # Hypothetical, needs actual values\n",
        "    ('Overall', 'MAE'): [sem_hyperiqa_metrics[3], full_hyperiqa_metrics[3]],  # Hypothetical, needs actual values\n",
        "}\n",
        "\n",
        "# Çok katmanlı sütun başlıkları oluşturma\n",
        "columns = pd.MultiIndex.from_tuples([\n",
        "    ('Scene Split', 'Details', 'SROCC'),\n",
        "    ('Scene Split', 'Details', 'PLCC'),\n",
        "    ('Scene Split', 'Details', 'KROCC'),\n",
        "    ('Scene Split', 'Details', 'MAE'),\n",
        "    ('Scene Split', 'Exposure', 'SROCC'),\n",
        "    ('Scene Split', 'Exposure', 'PLCC'),\n",
        "    ('Scene Split', 'Exposure', 'KROCC'),\n",
        "    ('Scene Split', 'Exposure', 'MAE'),\n",
        "    ('Scene Split', 'Overall', 'SROCC'),\n",
        "    ('Scene Split', 'Overall', 'PLCC'),\n",
        "    ('Scene Split', 'Overall', 'KROCC'),\n",
        "    ('Scene Split', 'Overall', 'MAE')\n",
        "])\n",
        "\n",
        "# DataFrame'i çok katmanlı sütun başlıklarıyla oluşturma\n",
        "Scene_Split = pd.DataFrame(data, index=['SemHyperIQA', 'FullHyperIQA'])\n",
        "Scene_Split.columns = columns\n",
        "\n",
        "# İlk sütun olan Model\\Attribute'u ekleme\n",
        "Scene_Split.index.name = 'Model\\\\Attribute'\n",
        "Scene_Split.reset_index(inplace=True)\n",
        "\n",
        "# CSV dosyasına kaydetme\n",
        "Scene_Split.to_csv('/content/drive/MyDrive/Scene_Split_score.csv', index=False)\n",
        "print(f'Sonuçlar kaydedildi: /content/drive/MyDrive/Scene_Split_score.csv')\n"
      ],
      "metadata": {
        "colab": {
          "base_uri": "https://localhost:8080/"
        },
        "id": "qaC3KCWTkjWc",
        "outputId": "1a6f6300-8bac-4345-8aaf-16b1466ec3f0"
      },
      "execution_count": null,
      "outputs": [
        {
          "output_type": "stream",
          "name": "stdout",
          "text": [
            "Sonuçlar kaydedildi: /content/drive/MyDrive/Scene_Split_score.csv\n"
          ]
        }
      ]
    },
    {
      "cell_type": "code",
      "source": [
        "Scene_Split"
      ],
      "metadata": {
        "colab": {
          "base_uri": "https://localhost:8080/",
          "height": 175
        },
        "id": "hqbK7SrkqFsL",
        "outputId": "ed119642-cc6c-40b2-e899-972ec1ba8af8"
      },
      "execution_count": null,
      "outputs": [
        {
          "output_type": "execute_result",
          "data": {
            "text/plain": [
              "  Model\\Attribute Scene Split                                          \\\n",
              "                      Details                                Exposure   \n",
              "                        SROCC      PLCC     KROCC       MAE     SROCC   \n",
              "0     SemHyperIQA    0.241263  0.235212  0.162840  1.070598  0.241263   \n",
              "1    FullHyperIQA    0.459536  0.438204  0.315484  1.015691  0.459536   \n",
              "\n",
              "                                                                         \n",
              "                                  Overall                                \n",
              "       PLCC     KROCC       MAE     SROCC      PLCC     KROCC       MAE  \n",
              "0  0.235212  0.162840  1.070598  0.241263  0.235212  0.162840  1.070598  \n",
              "1  0.438204  0.315484  1.015691  0.459536  0.438204  0.315484  1.015691  "
            ],
            "text/html": [
              "\n",
              "  <div id=\"df-6a61cbbf-abb3-460e-b5af-0af3f07268b6\" class=\"colab-df-container\">\n",
              "    <div>\n",
              "<style scoped>\n",
              "    .dataframe tbody tr th:only-of-type {\n",
              "        vertical-align: middle;\n",
              "    }\n",
              "\n",
              "    .dataframe tbody tr th {\n",
              "        vertical-align: top;\n",
              "    }\n",
              "\n",
              "    .dataframe thead tr th {\n",
              "        text-align: left;\n",
              "    }\n",
              "</style>\n",
              "<table border=\"1\" class=\"dataframe\">\n",
              "  <thead>\n",
              "    <tr>\n",
              "      <th></th>\n",
              "      <th>Model\\Attribute</th>\n",
              "      <th colspan=\"12\" halign=\"left\">Scene Split</th>\n",
              "    </tr>\n",
              "    <tr>\n",
              "      <th></th>\n",
              "      <th></th>\n",
              "      <th colspan=\"4\" halign=\"left\">Details</th>\n",
              "      <th colspan=\"4\" halign=\"left\">Exposure</th>\n",
              "      <th colspan=\"4\" halign=\"left\">Overall</th>\n",
              "    </tr>\n",
              "    <tr>\n",
              "      <th></th>\n",
              "      <th></th>\n",
              "      <th>SROCC</th>\n",
              "      <th>PLCC</th>\n",
              "      <th>KROCC</th>\n",
              "      <th>MAE</th>\n",
              "      <th>SROCC</th>\n",
              "      <th>PLCC</th>\n",
              "      <th>KROCC</th>\n",
              "      <th>MAE</th>\n",
              "      <th>SROCC</th>\n",
              "      <th>PLCC</th>\n",
              "      <th>KROCC</th>\n",
              "      <th>MAE</th>\n",
              "    </tr>\n",
              "  </thead>\n",
              "  <tbody>\n",
              "    <tr>\n",
              "      <th>0</th>\n",
              "      <td>SemHyperIQA</td>\n",
              "      <td>0.241263</td>\n",
              "      <td>0.235212</td>\n",
              "      <td>0.162840</td>\n",
              "      <td>1.070598</td>\n",
              "      <td>0.241263</td>\n",
              "      <td>0.235212</td>\n",
              "      <td>0.162840</td>\n",
              "      <td>1.070598</td>\n",
              "      <td>0.241263</td>\n",
              "      <td>0.235212</td>\n",
              "      <td>0.162840</td>\n",
              "      <td>1.070598</td>\n",
              "    </tr>\n",
              "    <tr>\n",
              "      <th>1</th>\n",
              "      <td>FullHyperIQA</td>\n",
              "      <td>0.459536</td>\n",
              "      <td>0.438204</td>\n",
              "      <td>0.315484</td>\n",
              "      <td>1.015691</td>\n",
              "      <td>0.459536</td>\n",
              "      <td>0.438204</td>\n",
              "      <td>0.315484</td>\n",
              "      <td>1.015691</td>\n",
              "      <td>0.459536</td>\n",
              "      <td>0.438204</td>\n",
              "      <td>0.315484</td>\n",
              "      <td>1.015691</td>\n",
              "    </tr>\n",
              "  </tbody>\n",
              "</table>\n",
              "</div>\n",
              "    <div class=\"colab-df-buttons\">\n",
              "\n",
              "  <div class=\"colab-df-container\">\n",
              "    <button class=\"colab-df-convert\" onclick=\"convertToInteractive('df-6a61cbbf-abb3-460e-b5af-0af3f07268b6')\"\n",
              "            title=\"Convert this dataframe to an interactive table.\"\n",
              "            style=\"display:none;\">\n",
              "\n",
              "  <svg xmlns=\"http://www.w3.org/2000/svg\" height=\"24px\" viewBox=\"0 -960 960 960\">\n",
              "    <path d=\"M120-120v-720h720v720H120Zm60-500h600v-160H180v160Zm220 220h160v-160H400v160Zm0 220h160v-160H400v160ZM180-400h160v-160H180v160Zm440 0h160v-160H620v160ZM180-180h160v-160H180v160Zm440 0h160v-160H620v160Z\"/>\n",
              "  </svg>\n",
              "    </button>\n",
              "\n",
              "  <style>\n",
              "    .colab-df-container {\n",
              "      display:flex;\n",
              "      gap: 12px;\n",
              "    }\n",
              "\n",
              "    .colab-df-convert {\n",
              "      background-color: #E8F0FE;\n",
              "      border: none;\n",
              "      border-radius: 50%;\n",
              "      cursor: pointer;\n",
              "      display: none;\n",
              "      fill: #1967D2;\n",
              "      height: 32px;\n",
              "      padding: 0 0 0 0;\n",
              "      width: 32px;\n",
              "    }\n",
              "\n",
              "    .colab-df-convert:hover {\n",
              "      background-color: #E2EBFA;\n",
              "      box-shadow: 0px 1px 2px rgba(60, 64, 67, 0.3), 0px 1px 3px 1px rgba(60, 64, 67, 0.15);\n",
              "      fill: #174EA6;\n",
              "    }\n",
              "\n",
              "    .colab-df-buttons div {\n",
              "      margin-bottom: 4px;\n",
              "    }\n",
              "\n",
              "    [theme=dark] .colab-df-convert {\n",
              "      background-color: #3B4455;\n",
              "      fill: #D2E3FC;\n",
              "    }\n",
              "\n",
              "    [theme=dark] .colab-df-convert:hover {\n",
              "      background-color: #434B5C;\n",
              "      box-shadow: 0px 1px 3px 1px rgba(0, 0, 0, 0.15);\n",
              "      filter: drop-shadow(0px 1px 2px rgba(0, 0, 0, 0.3));\n",
              "      fill: #FFFFFF;\n",
              "    }\n",
              "  </style>\n",
              "\n",
              "    <script>\n",
              "      const buttonEl =\n",
              "        document.querySelector('#df-6a61cbbf-abb3-460e-b5af-0af3f07268b6 button.colab-df-convert');\n",
              "      buttonEl.style.display =\n",
              "        google.colab.kernel.accessAllowed ? 'block' : 'none';\n",
              "\n",
              "      async function convertToInteractive(key) {\n",
              "        const element = document.querySelector('#df-6a61cbbf-abb3-460e-b5af-0af3f07268b6');\n",
              "        const dataTable =\n",
              "          await google.colab.kernel.invokeFunction('convertToInteractive',\n",
              "                                                    [key], {});\n",
              "        if (!dataTable) return;\n",
              "\n",
              "        const docLinkHtml = 'Like what you see? Visit the ' +\n",
              "          '<a target=\"_blank\" href=https://colab.research.google.com/notebooks/data_table.ipynb>data table notebook</a>'\n",
              "          + ' to learn more about interactive tables.';\n",
              "        element.innerHTML = '';\n",
              "        dataTable['output_type'] = 'display_data';\n",
              "        await google.colab.output.renderOutput(dataTable, element);\n",
              "        const docLink = document.createElement('div');\n",
              "        docLink.innerHTML = docLinkHtml;\n",
              "        element.appendChild(docLink);\n",
              "      }\n",
              "    </script>\n",
              "  </div>\n",
              "\n",
              "\n",
              "<div id=\"df-5bd5b7f6-4f1a-4131-82db-3eb9f075dd23\">\n",
              "  <button class=\"colab-df-quickchart\" onclick=\"quickchart('df-5bd5b7f6-4f1a-4131-82db-3eb9f075dd23')\"\n",
              "            title=\"Suggest charts\"\n",
              "            style=\"display:none;\">\n",
              "\n",
              "<svg xmlns=\"http://www.w3.org/2000/svg\" height=\"24px\"viewBox=\"0 0 24 24\"\n",
              "     width=\"24px\">\n",
              "    <g>\n",
              "        <path d=\"M19 3H5c-1.1 0-2 .9-2 2v14c0 1.1.9 2 2 2h14c1.1 0 2-.9 2-2V5c0-1.1-.9-2-2-2zM9 17H7v-7h2v7zm4 0h-2V7h2v10zm4 0h-2v-4h2v4z\"/>\n",
              "    </g>\n",
              "</svg>\n",
              "  </button>\n",
              "\n",
              "<style>\n",
              "  .colab-df-quickchart {\n",
              "      --bg-color: #E8F0FE;\n",
              "      --fill-color: #1967D2;\n",
              "      --hover-bg-color: #E2EBFA;\n",
              "      --hover-fill-color: #174EA6;\n",
              "      --disabled-fill-color: #AAA;\n",
              "      --disabled-bg-color: #DDD;\n",
              "  }\n",
              "\n",
              "  [theme=dark] .colab-df-quickchart {\n",
              "      --bg-color: #3B4455;\n",
              "      --fill-color: #D2E3FC;\n",
              "      --hover-bg-color: #434B5C;\n",
              "      --hover-fill-color: #FFFFFF;\n",
              "      --disabled-bg-color: #3B4455;\n",
              "      --disabled-fill-color: #666;\n",
              "  }\n",
              "\n",
              "  .colab-df-quickchart {\n",
              "    background-color: var(--bg-color);\n",
              "    border: none;\n",
              "    border-radius: 50%;\n",
              "    cursor: pointer;\n",
              "    display: none;\n",
              "    fill: var(--fill-color);\n",
              "    height: 32px;\n",
              "    padding: 0;\n",
              "    width: 32px;\n",
              "  }\n",
              "\n",
              "  .colab-df-quickchart:hover {\n",
              "    background-color: var(--hover-bg-color);\n",
              "    box-shadow: 0 1px 2px rgba(60, 64, 67, 0.3), 0 1px 3px 1px rgba(60, 64, 67, 0.15);\n",
              "    fill: var(--button-hover-fill-color);\n",
              "  }\n",
              "\n",
              "  .colab-df-quickchart-complete:disabled,\n",
              "  .colab-df-quickchart-complete:disabled:hover {\n",
              "    background-color: var(--disabled-bg-color);\n",
              "    fill: var(--disabled-fill-color);\n",
              "    box-shadow: none;\n",
              "  }\n",
              "\n",
              "  .colab-df-spinner {\n",
              "    border: 2px solid var(--fill-color);\n",
              "    border-color: transparent;\n",
              "    border-bottom-color: var(--fill-color);\n",
              "    animation:\n",
              "      spin 1s steps(1) infinite;\n",
              "  }\n",
              "\n",
              "  @keyframes spin {\n",
              "    0% {\n",
              "      border-color: transparent;\n",
              "      border-bottom-color: var(--fill-color);\n",
              "      border-left-color: var(--fill-color);\n",
              "    }\n",
              "    20% {\n",
              "      border-color: transparent;\n",
              "      border-left-color: var(--fill-color);\n",
              "      border-top-color: var(--fill-color);\n",
              "    }\n",
              "    30% {\n",
              "      border-color: transparent;\n",
              "      border-left-color: var(--fill-color);\n",
              "      border-top-color: var(--fill-color);\n",
              "      border-right-color: var(--fill-color);\n",
              "    }\n",
              "    40% {\n",
              "      border-color: transparent;\n",
              "      border-right-color: var(--fill-color);\n",
              "      border-top-color: var(--fill-color);\n",
              "    }\n",
              "    60% {\n",
              "      border-color: transparent;\n",
              "      border-right-color: var(--fill-color);\n",
              "    }\n",
              "    80% {\n",
              "      border-color: transparent;\n",
              "      border-right-color: var(--fill-color);\n",
              "      border-bottom-color: var(--fill-color);\n",
              "    }\n",
              "    90% {\n",
              "      border-color: transparent;\n",
              "      border-bottom-color: var(--fill-color);\n",
              "    }\n",
              "  }\n",
              "</style>\n",
              "\n",
              "  <script>\n",
              "    async function quickchart(key) {\n",
              "      const quickchartButtonEl =\n",
              "        document.querySelector('#' + key + ' button');\n",
              "      quickchartButtonEl.disabled = true;  // To prevent multiple clicks.\n",
              "      quickchartButtonEl.classList.add('colab-df-spinner');\n",
              "      try {\n",
              "        const charts = await google.colab.kernel.invokeFunction(\n",
              "            'suggestCharts', [key], {});\n",
              "      } catch (error) {\n",
              "        console.error('Error during call to suggestCharts:', error);\n",
              "      }\n",
              "      quickchartButtonEl.classList.remove('colab-df-spinner');\n",
              "      quickchartButtonEl.classList.add('colab-df-quickchart-complete');\n",
              "    }\n",
              "    (() => {\n",
              "      let quickchartButtonEl =\n",
              "        document.querySelector('#df-5bd5b7f6-4f1a-4131-82db-3eb9f075dd23 button');\n",
              "      quickchartButtonEl.style.display =\n",
              "        google.colab.kernel.accessAllowed ? 'block' : 'none';\n",
              "    })();\n",
              "  </script>\n",
              "</div>\n",
              "\n",
              "  <div id=\"id_60af3f66-9a79-42a1-a812-ff09cd353e68\">\n",
              "    <style>\n",
              "      .colab-df-generate {\n",
              "        background-color: #E8F0FE;\n",
              "        border: none;\n",
              "        border-radius: 50%;\n",
              "        cursor: pointer;\n",
              "        display: none;\n",
              "        fill: #1967D2;\n",
              "        height: 32px;\n",
              "        padding: 0 0 0 0;\n",
              "        width: 32px;\n",
              "      }\n",
              "\n",
              "      .colab-df-generate:hover {\n",
              "        background-color: #E2EBFA;\n",
              "        box-shadow: 0px 1px 2px rgba(60, 64, 67, 0.3), 0px 1px 3px 1px rgba(60, 64, 67, 0.15);\n",
              "        fill: #174EA6;\n",
              "      }\n",
              "\n",
              "      [theme=dark] .colab-df-generate {\n",
              "        background-color: #3B4455;\n",
              "        fill: #D2E3FC;\n",
              "      }\n",
              "\n",
              "      [theme=dark] .colab-df-generate:hover {\n",
              "        background-color: #434B5C;\n",
              "        box-shadow: 0px 1px 3px 1px rgba(0, 0, 0, 0.15);\n",
              "        filter: drop-shadow(0px 1px 2px rgba(0, 0, 0, 0.3));\n",
              "        fill: #FFFFFF;\n",
              "      }\n",
              "    </style>\n",
              "    <button class=\"colab-df-generate\" onclick=\"generateWithVariable('Scene_Split')\"\n",
              "            title=\"Generate code using this dataframe.\"\n",
              "            style=\"display:none;\">\n",
              "\n",
              "  <svg xmlns=\"http://www.w3.org/2000/svg\" height=\"24px\"viewBox=\"0 0 24 24\"\n",
              "       width=\"24px\">\n",
              "    <path d=\"M7,19H8.4L18.45,9,17,7.55,7,17.6ZM5,21V16.75L18.45,3.32a2,2,0,0,1,2.83,0l1.4,1.43a1.91,1.91,0,0,1,.58,1.4,1.91,1.91,0,0,1-.58,1.4L9.25,21ZM18.45,9,17,7.55Zm-12,3A5.31,5.31,0,0,0,4.9,8.1,5.31,5.31,0,0,0,1,6.5,5.31,5.31,0,0,0,4.9,4.9,5.31,5.31,0,0,0,6.5,1,5.31,5.31,0,0,0,8.1,4.9,5.31,5.31,0,0,0,12,6.5,5.46,5.46,0,0,0,6.5,12Z\"/>\n",
              "  </svg>\n",
              "    </button>\n",
              "    <script>\n",
              "      (() => {\n",
              "      const buttonEl =\n",
              "        document.querySelector('#id_60af3f66-9a79-42a1-a812-ff09cd353e68 button.colab-df-generate');\n",
              "      buttonEl.style.display =\n",
              "        google.colab.kernel.accessAllowed ? 'block' : 'none';\n",
              "\n",
              "      buttonEl.onclick = () => {\n",
              "        google.colab.notebook.generateWithVariable('Scene_Split');\n",
              "      }\n",
              "      })();\n",
              "    </script>\n",
              "  </div>\n",
              "\n",
              "    </div>\n",
              "  </div>\n"
            ],
            "application/vnd.google.colaboratory.intrinsic+json": {
              "type": "dataframe",
              "variable_name": "Scene_Split",
              "summary": "{\n  \"name\": \"Scene_Split\",\n  \"rows\": 2,\n  \"fields\": [\n    {\n      \"column\": [\n        \"Model\\\\Attribute\",\n        \"\",\n        \"\"\n      ],\n      \"properties\": {\n        \"dtype\": \"string\",\n        \"num_unique_values\": 2,\n        \"samples\": [\n          \"FullHyperIQA\",\n          \"SemHyperIQA\"\n        ],\n        \"semantic_type\": \"\",\n        \"description\": \"\"\n      }\n    },\n    {\n      \"column\": [\n        \"Scene Split\",\n        \"Details\",\n        \"SROCC\"\n      ],\n      \"properties\": {\n        \"dtype\": \"number\",\n        \"std\": 0.15434239613990278,\n        \"min\": 0.241263164167455,\n        \"max\": 0.45953627403766634,\n        \"num_unique_values\": 2,\n        \"samples\": [\n          0.45953627403766634,\n          0.241263164167455\n        ],\n        \"semantic_type\": \"\",\n        \"description\": \"\"\n      }\n    },\n    {\n      \"column\": [\n        \"Scene Split\",\n        \"Details\",\n        \"PLCC\"\n      ],\n      \"properties\": {\n        \"dtype\": \"number\",\n        \"std\": 0.1435373691704782,\n        \"min\": 0.23521197516819198,\n        \"max\": 0.43820446935643603,\n        \"num_unique_values\": 2,\n        \"samples\": [\n          0.43820446935643603,\n          0.23521197516819198\n        ],\n        \"semantic_type\": \"\",\n        \"description\": \"\"\n      }\n    },\n    {\n      \"column\": [\n        \"Scene Split\",\n        \"Details\",\n        \"KROCC\"\n      ],\n      \"properties\": {\n        \"dtype\": \"number\",\n        \"std\": 0.1079353162354774,\n        \"min\": 0.16284007150974983,\n        \"max\": 0.3154836595889909,\n        \"num_unique_values\": 2,\n        \"samples\": [\n          0.3154836595889909,\n          0.16284007150974983\n        ],\n        \"semantic_type\": \"\",\n        \"description\": \"\"\n      }\n    },\n    {\n      \"column\": [\n        \"Scene Split\",\n        \"Details\",\n        \"MAE\"\n      ],\n      \"properties\": {\n        \"dtype\": \"number\",\n        \"std\": 0.038824735463459284,\n        \"min\": 1.0156913471333686,\n        \"max\": 1.0705978145813404,\n        \"num_unique_values\": 2,\n        \"samples\": [\n          1.0156913471333686,\n          1.0705978145813404\n        ],\n        \"semantic_type\": \"\",\n        \"description\": \"\"\n      }\n    },\n    {\n      \"column\": [\n        \"Scene Split\",\n        \"Exposure\",\n        \"SROCC\"\n      ],\n      \"properties\": {\n        \"dtype\": \"number\",\n        \"std\": 0.15434239613990278,\n        \"min\": 0.241263164167455,\n        \"max\": 0.45953627403766634,\n        \"num_unique_values\": 2,\n        \"samples\": [\n          0.45953627403766634,\n          0.241263164167455\n        ],\n        \"semantic_type\": \"\",\n        \"description\": \"\"\n      }\n    },\n    {\n      \"column\": [\n        \"Scene Split\",\n        \"Exposure\",\n        \"PLCC\"\n      ],\n      \"properties\": {\n        \"dtype\": \"number\",\n        \"std\": 0.1435373691704782,\n        \"min\": 0.23521197516819198,\n        \"max\": 0.43820446935643603,\n        \"num_unique_values\": 2,\n        \"samples\": [\n          0.43820446935643603,\n          0.23521197516819198\n        ],\n        \"semantic_type\": \"\",\n        \"description\": \"\"\n      }\n    },\n    {\n      \"column\": [\n        \"Scene Split\",\n        \"Exposure\",\n        \"KROCC\"\n      ],\n      \"properties\": {\n        \"dtype\": \"number\",\n        \"std\": 0.1079353162354774,\n        \"min\": 0.16284007150974983,\n        \"max\": 0.3154836595889909,\n        \"num_unique_values\": 2,\n        \"samples\": [\n          0.3154836595889909,\n          0.16284007150974983\n        ],\n        \"semantic_type\": \"\",\n        \"description\": \"\"\n      }\n    },\n    {\n      \"column\": [\n        \"Scene Split\",\n        \"Exposure\",\n        \"MAE\"\n      ],\n      \"properties\": {\n        \"dtype\": \"number\",\n        \"std\": 0.038824735463459284,\n        \"min\": 1.0156913471333686,\n        \"max\": 1.0705978145813404,\n        \"num_unique_values\": 2,\n        \"samples\": [\n          1.0156913471333686,\n          1.0705978145813404\n        ],\n        \"semantic_type\": \"\",\n        \"description\": \"\"\n      }\n    },\n    {\n      \"column\": [\n        \"Scene Split\",\n        \"Overall\",\n        \"SROCC\"\n      ],\n      \"properties\": {\n        \"dtype\": \"number\",\n        \"std\": 0.15434239613990278,\n        \"min\": 0.241263164167455,\n        \"max\": 0.45953627403766634,\n        \"num_unique_values\": 2,\n        \"samples\": [\n          0.45953627403766634,\n          0.241263164167455\n        ],\n        \"semantic_type\": \"\",\n        \"description\": \"\"\n      }\n    },\n    {\n      \"column\": [\n        \"Scene Split\",\n        \"Overall\",\n        \"PLCC\"\n      ],\n      \"properties\": {\n        \"dtype\": \"number\",\n        \"std\": 0.1435373691704782,\n        \"min\": 0.23521197516819198,\n        \"max\": 0.43820446935643603,\n        \"num_unique_values\": 2,\n        \"samples\": [\n          0.43820446935643603,\n          0.23521197516819198\n        ],\n        \"semantic_type\": \"\",\n        \"description\": \"\"\n      }\n    },\n    {\n      \"column\": [\n        \"Scene Split\",\n        \"Overall\",\n        \"KROCC\"\n      ],\n      \"properties\": {\n        \"dtype\": \"number\",\n        \"std\": 0.1079353162354774,\n        \"min\": 0.16284007150974983,\n        \"max\": 0.3154836595889909,\n        \"num_unique_values\": 2,\n        \"samples\": [\n          0.3154836595889909,\n          0.16284007150974983\n        ],\n        \"semantic_type\": \"\",\n        \"description\": \"\"\n      }\n    },\n    {\n      \"column\": [\n        \"Scene Split\",\n        \"Overall\",\n        \"MAE\"\n      ],\n      \"properties\": {\n        \"dtype\": \"number\",\n        \"std\": 0.038824735463459284,\n        \"min\": 1.0156913471333686,\n        \"max\": 1.0705978145813404,\n        \"num_unique_values\": 2,\n        \"samples\": [\n          1.0156913471333686,\n          1.0705978145813404\n        ],\n        \"semantic_type\": \"\",\n        \"description\": \"\"\n      }\n    }\n  ]\n}"
            }
          },
          "metadata": {},
          "execution_count": 24
        }
      ]
    },
    {
      "cell_type": "code",
      "source": [
        "import matplotlib.pyplot as plt\n",
        "import pandas as pd\n",
        "\n",
        "# Verileri bir DataFrame olarak oluşturun\n",
        "data = {\n",
        "    'Model': ['SemHyperIQA', 'FullHyperIQA'],\n",
        "    'Details_SROCC': [0.241263, 0.459536],\n",
        "    'Details_PLCC': [0.235212, 0.438204],\n",
        "    'Details_KROCC': [0.162840, 0.315484],\n",
        "    'Details_MAE': [1.070598, 1.015691],\n",
        "    'Exposure_SROCC': [0.241263, 0.459536],\n",
        "    'Exposure_PLCC': [0.235212, 0.438204],\n",
        "    'Exposure_KROCC': [0.162840, 0.315484],\n",
        "    'Exposure_MAE': [1.070598, 1.015691],\n",
        "    'Overall_SROCC': [0.241263, 0.459536],\n",
        "    'Overall_PLCC': [0.235212, 0.438204],\n",
        "    'Overall_KROCC': [0.162840, 0.315484],\n",
        "    'Overall_MAE': [1.070598, 1.015691]\n",
        "}\n",
        "\n",
        "df = pd.DataFrame(data)\n",
        "\n",
        "# Soft renk paleti\n",
        "colors = ['#657b9b', '#44a0a0', '#65c282', '#5b8a3c']\n",
        "\n",
        "# Bar chart oluşturma\n",
        "metrics = ['SROCC', 'PLCC', 'KROCC', 'MAE']\n",
        "categories = ['Details', 'Exposure', 'Overall']\n",
        "\n",
        "fig, axes = plt.subplots(nrows=1, ncols=len(categories), figsize=(18, 6), sharey=True)\n",
        "\n",
        "for i, category in enumerate(categories):\n",
        "    ax = axes[i]\n",
        "    x = df['Model']\n",
        "    width = 0.2  # Bar genişliği\n",
        "    positions = range(len(df))\n",
        "\n",
        "    for j, metric in enumerate(metrics):\n",
        "        ax.bar([p + j * width for p in positions], df[f'{category}_{metric}'], width=width, label=metric, color=colors[j])\n",
        "\n",
        "    ax.set_title(category)\n",
        "    ax.set_xlabel('Model')\n",
        "    ax.set_xticks([p + 1.5 * width for p in positions])\n",
        "    ax.set_xticklabels(df['Model'])\n",
        "    if i == 0:\n",
        "        ax.set_ylabel('Value')\n",
        "    ax.legend()\n",
        "\n",
        "plt.tight_layout()\n",
        "plt.show()\n"
      ],
      "metadata": {
        "colab": {
          "base_uri": "https://localhost:8080/",
          "height": 430
        },
        "id": "sFOAVFms1HaI",
        "outputId": "75140b81-efbe-42a7-ed3d-c1e8eb19d61e"
      },
      "execution_count": null,
      "outputs": [
        {
          "output_type": "display_data",
          "data": {
            "text/plain": [
              "<Figure size 1800x600 with 3 Axes>"
            ],
            "image/png": "[encoded data removed]"
          },
          "metadata": {}
        }
      ]
    },
    {
      "cell_type": "code",
      "source": [
        "import torch\n",
        "\n",
        "# Verify file paths\n",
        "sem_hyperiqa_load_path = \"/content/drive/MyDrive/SemHyperIQA_SD_S.pth\"\n",
        "full_hyperiqa_load_path = \"/content/drive/MyDrive/FullHyperIQA_SD_S.pth\"\n",
        "\n",
        "try:\n",
        "    # Attempt to load the models\n",
        "    sem_hyperiqa.load_state_dict(torch.load(sem_hyperiqa_load_path, map_location=torch.device('cpu')))\n",
        "    full_hyperiqa.load_state_dict(torch.load(full_hyperiqa_load_path, map_location=torch.device('cpu')))\n",
        "    print(\"Models loaded successfully!\")\n",
        "except Exception as e:\n",
        "    print(f\"Error loading models: {e}\")\n",
        "\n",
        "# To verify the file integrity (optional)\n",
        "try:\n",
        "    with open(sem_hyperiqa_load_path, 'rb') as f:\n",
        "        sem_hyperiqa_data = f.read()\n",
        "    with open(full_hyperiqa_load_path, 'rb') as f:\n",
        "        full_hyperiqa_data = f.read()\n",
        "    print(\"Files read successfully, no corruption detected.\")\n",
        "except Exception as e:\n",
        "    print(f\"Error reading files: {e}\")\n"
      ],
      "metadata": {
        "id": "enrruWSbk0Sf"
      },
      "execution_count": null,
      "outputs": []
    },
    {
      "cell_type": "code",
      "source": [
        "sem_hyperiqa_metrics = calculate_metrics(sem_hyperiqa_predictions, true_values)\n",
        "full_hyperiqa_metrics = calculate_metrics(full_hyperiqa_predictions, true_values)\n",
        "\n",
        "print(f\"SemHyperIQA Metrics: {sem_hyperiqa_metrics}\")\n",
        "print(f\"FullHyperIQA Metrics: {full_hyperiqa_metrics}\")"
      ],
      "metadata": {
        "colab": {
          "base_uri": "https://localhost:8080/"
        },
        "id": "wj3a7EHxmMlW",
        "outputId": "5f4334fa-467f-4939-bbbb-17be9c823cce"
      },
      "execution_count": null,
      "outputs": [
        {
          "output_type": "stream",
          "name": "stdout",
          "text": [
            "SemHyperIQA Metrics: (0.241263164167455, 0.23521197516819198, 0.16284007150974983, 1.0705978145813404)\n",
            "FullHyperIQA Metrics: (0.45953627403766634, 0.43820446935643603, 0.3154836595889909, 1.0156913471333686)\n"
          ]
        }
      ]
    },
    {
      "cell_type": "code",
      "source": [
        "import pandas as pd\n",
        "\n",
        "# Performans metriklerini tabloya ekleme\n",
        "data = {\n",
        "    ('Details', 'SROCC'): [sem_hyperiqa_metrics[0], full_hyperiqa_metrics[0]],\n",
        "    ('Details', 'PLCC'): [sem_hyperiqa_metrics[1], full_hyperiqa_metrics[1]],\n",
        "    ('Details', 'KROCC'): [sem_hyperiqa_metrics[2], full_hyperiqa_metrics[2]],\n",
        "    ('Details', 'MAE'): [sem_hyperiqa_metrics[3], full_hyperiqa_metrics[3]],\n",
        "    ('Exposure', 'SROCC'): [sem_hyperiqa_metrics[0], full_hyperiqa_metrics[0]],  # Hypothetical, needs actual values\n",
        "    ('Exposure', 'PLCC'): [sem_hyperiqa_metrics[1], full_hyperiqa_metrics[1]],  # Hypothetical, needs actual values\n",
        "    ('Exposure', 'KROCC'): [sem_hyperiqa_metrics[2], full_hyperiqa_metrics[2]],  # Hypothetical, needs actual values\n",
        "    ('Exposure', 'MAE'): [sem_hyperiqa_metrics[3], full_hyperiqa_metrics[3]],  # Hypothetical, needs actual values\n",
        "    ('Overall', 'SROCC'): [sem_hyperiqa_metrics[0], full_hyperiqa_metrics[0]],  # Hypothetical, needs actual values\n",
        "    ('Overall', 'PLCC'): [sem_hyperiqa_metrics[1], full_hyperiqa_metrics[1]],  # Hypothetical, needs actual values\n",
        "    ('Overall', 'KROCC'): [sem_hyperiqa_metrics[2], full_hyperiqa_metrics[2]],  # Hypothetical, needs actual values\n",
        "    ('Overall', 'MAE'): [sem_hyperiqa_metrics[3], full_hyperiqa_metrics[3]],  # Hypothetical, needs actual values\n",
        "}\n",
        "\n",
        "# Çok katmanlı sütun başlıkları oluşturma\n",
        "columns = pd.MultiIndex.from_tuples([\n",
        "    ('Device Split', 'Details', 'SROCC'),\n",
        "    ('Device Split', 'Details', 'PLCC'),\n",
        "    ('Device Split', 'Details', 'KROCC'),\n",
        "    ('Device Split', 'Details', 'MAE'),\n",
        "    ('Device Split', 'Exposure', 'SROCC'),\n",
        "    ('Device Split', 'Exposure', 'PLCC'),\n",
        "    ('Device Split', 'Exposure', 'KROCC'),\n",
        "    ('Device Split', 'Exposure', 'MAE'),\n",
        "    ('Device Split', 'Overall', 'SROCC'),\n",
        "    ('Device Split', 'Overall', 'PLCC'),\n",
        "    ('Device Split', 'Overall', 'KROCC'),\n",
        "    ('Device Split', 'Overall', 'MAE')\n",
        "])\n",
        "\n",
        "# DataFrame'i çok katmanlı sütun başlıklarıyla oluşturma\n",
        "Scene_Split = pd.DataFrame(data, index=['SemHyperIQA', 'FullHyperIQA'])\n",
        "Scene_Split.columns = columns\n",
        "\n",
        "# İlk sütun olan Model\\Attribute'u ekleme\n",
        "Device_Split.index.name = 'Model\\\\Attribute'\n",
        "Device_Split.reset_index(inplace=True)\n",
        "\n",
        "# CSV dosyasına kaydetme\n",
        "Device_Split.to_csv('/content/drive/MyDrive/Device_Split_score.csv', index=False)\n",
        "print(f'Sonuçlar kaydedildi: /content/drive/MyDrive/Device_Split_score.csv')\n"
      ],
      "metadata": {
        "colab": {
          "base_uri": "https://localhost:8080/",
          "height": 211
        },
        "id": "Oiu0HfzImN9V",
        "outputId": "53d3af8b-15ec-4e79-fa4b-4a15afcbeeec"
      },
      "execution_count": null,
      "outputs": [
        {
          "output_type": "error",
          "ename": "NameError",
          "evalue": "name 'Device_Split' is not defined",
          "traceback": [
            "\u001b[0;31m---------------------------------------------------------------------------\u001b[0m",
            "\u001b[0;31mNameError\u001b[0m                                 Traceback (most recent call last)",
            "\u001b[0;32m<ipython-input-20-8f36586a5c88>\u001b[0m in \u001b[0;36m<cell line: 40>\u001b[0;34m()\u001b[0m\n\u001b[1;32m     38\u001b[0m \u001b[0;34m\u001b[0m\u001b[0m\n\u001b[1;32m     39\u001b[0m \u001b[0;31m# İlk sütun olan Model\\Attribute'u ekleme\u001b[0m\u001b[0;34m\u001b[0m\u001b[0;34m\u001b[0m\u001b[0m\n\u001b[0;32m---> 40\u001b[0;31m \u001b[0mDevice_Split\u001b[0m\u001b[0;34m.\u001b[0m\u001b[0mindex\u001b[0m\u001b[0;34m.\u001b[0m\u001b[0mname\u001b[0m \u001b[0;34m=\u001b[0m \u001b[0;34m'Model\\\\Attribute'\u001b[0m\u001b[0;34m\u001b[0m\u001b[0;34m\u001b[0m\u001b[0m\n\u001b[0m\u001b[1;32m     41\u001b[0m \u001b[0mDevice_Split\u001b[0m\u001b[0;34m.\u001b[0m\u001b[0mreset_index\u001b[0m\u001b[0;34m(\u001b[0m\u001b[0minplace\u001b[0m\u001b[0;34m=\u001b[0m\u001b[0;32mTrue\u001b[0m\u001b[0;34m)\u001b[0m\u001b[0;34m\u001b[0m\u001b[0;34m\u001b[0m\u001b[0m\n\u001b[1;32m     42\u001b[0m \u001b[0;34m\u001b[0m\u001b[0m\n",
            "\u001b[0;31mNameError\u001b[0m: name 'Device_Split' is not defined"
          ]
        }
      ]
    },
    {
      "cell_type": "code",
      "source": [
        "import torch\n",
        "\n",
        "# Verify file paths\n",
        "sem_hyperiqa_load_path = '/content/SemHyperIQA_SE_D.pth'\n",
        "full_hyperiqa_load_path = '/content/drive/MyDrive/FullHyperIQA_model_scene.pth'\n",
        "\n",
        "try:\n",
        "    # Attempt to load the models\n",
        "    sem_hyperiqa.load_state_dict(torch.load(sem_hyperiqa_load_path, map_location=torch.device('cpu')))\n",
        "    full_hyperiqa.load_state_dict(torch.load(full_hyperiqa_load_path, map_location=torch.device('cpu')))\n",
        "    print(\"Models loaded successfully!\")\n",
        "except Exception as e:\n",
        "    print(f\"Error loading models: {e}\")\n",
        "\n",
        "# To verify the file integrity (optional)\n",
        "try:\n",
        "    with open(sem_hyperiqa_load_path, 'rb') as f:\n",
        "        sem_hyperiqa_data = f.read()\n",
        "    with open(full_hyperiqa_load_path, 'rb') as f:\n",
        "        full_hyperiqa_data = f.read()\n",
        "    print(\"Files read successfully, no corruption detected.\")\n",
        "except Exception as e:\n",
        "    print(f\"Error reading files: {e}\")"
      ],
      "metadata": {
        "id": "tcrXEXVjmOk1"
      },
      "execution_count": null,
      "outputs": []
    },
    {
      "cell_type": "code",
      "source": [
        "import pandas as pd\n",
        "from torchvision.transforms import Compose, Resize, ToTensor, Normalize\n",
        "\n",
        "\n",
        "testDfPath =  \"/content/drive/MyDrive/Dataset/Scene_Split_test_SD_S.csv\"\n",
        "testDf = pd.read_csv(testDfPath)\n",
        "\n",
        "\n",
        "transform = Compose([\n",
        "    Resize((224, 224)),\n",
        "    ToTensor(),\n",
        "    Normalize(mean=[0.485, 0.456, 0.406], std=[0.229, 0.224, 0.225]),a\n",
        "])\n",
        "\n",
        "test_dataset = CustomDataset(testDf, transform=transform)\n",
        "test_loader = DataLoader(test_dataset, batch_size=1, shuffle=False)\n",
        "\n",
        "sem_hyperiqa_predictions = []\n",
        "full_hyperiqa_predictions = []\n",
        "true_values = []\n",
        "\n",
        "with torch.no_grad():\n",
        "  for images, labels in test_loader:\n",
        "    sem_hyperiqa_outputs = sem_hyperiqa(images)\n",
        "    full_hyperiqa_outputs = full_hyperiqa(images)\n",
        "\n",
        "    sem_hyperiqa_predictions.append(sem_hyperiqa_outputs['quality'].item())\n",
        "    full_hyperiqa_predictions.append(full_hyperiqa_outputs['quality'].item())\n",
        "    true_values.append(labels.item())"
      ],
      "metadata": {
        "id": "6geavuu7l24F"
      },
      "execution_count": null,
      "outputs": []
    },
    {
      "cell_type": "code",
      "source": [],
      "metadata": {
        "id": "BJ9BzUZimKfn"
      },
      "execution_count": null,
      "outputs": []
    },
    {
      "cell_type": "markdown",
      "source": [
        "THESE ARE FOR COMPARING\n"
      ],
      "metadata": {
        "id": "iQRDJ5J8WFdJ"
      }
    },
    {
      "cell_type": "code",
      "source": [
        "sem_hyperiqa = SemHyperIQA(patchSize=224, hyperNetPretrained=None)\n",
        "full_hyperiqa = FullHyperIQA(patchSize=224, hyperNetPretrained=None)\n",
        "\n",
        "sem_hyperiqa_load_path = '/content/drive/MyDrive/saved_model3.pth'\n",
        "full_hyperiqa_load_path = '/content/drive/MyDrive/FullHyperIQA_model_device.pth'\n",
        "\n",
        "sem_hyperiqa.load_state_dict(torch.load(sem_hyperiqa_load_path))\n",
        "full_hyperiqa.load_state_dict(torch.load(full_hyperiqa_load_path))\n",
        "\n",
        "sem_hyperiqa.eval()\n",
        "full_hyperiqa.eval()\n"
      ],
      "metadata": {
        "colab": {
          "base_uri": "https://localhost:8080/"
        },
        "collapsed": true,
        "id": "MT0KRtUY9FSu",
        "outputId": "0ae9dd47-6ba5-43e5-8e49-fe7f98badfee"
      },
      "execution_count": null,
      "outputs": [
        {
          "output_type": "execute_result",
          "data": {
            "text/plain": [
              "FullHyperIQA(\n",
              "  (hyperNet): HyperNet(\n",
              "    (res): ResNetBackbone(\n",
              "      (conv1): Conv2d(3, 64, kernel_size=(7, 7), stride=(2, 2), padding=(3, 3), bias=False)\n",
              "      (bn1): BatchNorm2d(64, eps=1e-05, momentum=0.1, affine=True, track_running_stats=True)\n",
              "      (relu): ReLU(inplace=True)\n",
              "      (maxpool): MaxPool2d(kernel_size=3, stride=2, padding=1, dilation=1, ceil_mode=False)\n",
              "      (layer1): Sequential(\n",
              "        (0): Bottleneck(\n",
              "          (conv1): Conv2d(64, 64, kernel_size=(1, 1), stride=(1, 1), bias=False)\n",
              "          (bn1): BatchNorm2d(64, eps=1e-05, momentum=0.1, affine=True, track_running_stats=True)\n",
              "          (conv2): Conv2d(64, 64, kernel_size=(3, 3), stride=(1, 1), padding=(1, 1), bias=False)\n",
              "          (bn2): BatchNorm2d(64, eps=1e-05, momentum=0.1, affine=True, track_running_stats=True)\n",
              "          (conv3): Conv2d(64, 256, kernel_size=(1, 1), stride=(1, 1), bias=False)\n",
              "          (bn3): BatchNorm2d(256, eps=1e-05, momentum=0.1, affine=True, track_running_stats=True)\n",
              "          (relu): ReLU(inplace=True)\n",
              "          (downsample): Sequential(\n",
              "            (0): Conv2d(64, 256, kernel_size=(1, 1), stride=(1, 1), bias=False)\n",
              "            (1): BatchNorm2d(256, eps=1e-05, momentum=0.1, affine=True, track_running_stats=True)\n",
              "          )\n",
              "        )\n",
              "        (1): Bottleneck(\n",
              "          (conv1): Conv2d(256, 64, kernel_size=(1, 1), stride=(1, 1), bias=False)\n",
              "          (bn1): BatchNorm2d(64, eps=1e-05, momentum=0.1, affine=True, track_running_stats=True)\n",
              "          (conv2): Conv2d(64, 64, kernel_size=(3, 3), stride=(1, 1), padding=(1, 1), bias=False)\n",
              "          (bn2): BatchNorm2d(64, eps=1e-05, momentum=0.1, affine=True, track_running_stats=True)\n",
              "          (conv3): Conv2d(64, 256, kernel_size=(1, 1), stride=(1, 1), bias=False)\n",
              "          (bn3): BatchNorm2d(256, eps=1e-05, momentum=0.1, affine=True, track_running_stats=True)\n",
              "          (relu): ReLU(inplace=True)\n",
              "        )\n",
              "        (2): Bottleneck(\n",
              "          (conv1): Conv2d(256, 64, kernel_size=(1, 1), stride=(1, 1), bias=False)\n",
              "          (bn1): BatchNorm2d(64, eps=1e-05, momentum=0.1, affine=True, track_running_stats=True)\n",
              "          (conv2): Conv2d(64, 64, kernel_size=(3, 3), stride=(1, 1), padding=(1, 1), bias=False)\n",
              "          (bn2): BatchNorm2d(64, eps=1e-05, momentum=0.1, affine=True, track_running_stats=True)\n",
              "          (conv3): Conv2d(64, 256, kernel_size=(1, 1), stride=(1, 1), bias=False)\n",
              "          (bn3): BatchNorm2d(256, eps=1e-05, momentum=0.1, affine=True, track_running_stats=True)\n",
              "          (relu): ReLU(inplace=True)\n",
              "        )\n",
              "      )\n",
              "      (layer2): Sequential(\n",
              "        (0): Bottleneck(\n",
              "          (conv1): Conv2d(256, 128, kernel_size=(1, 1), stride=(1, 1), bias=False)\n",
              "          (bn1): BatchNorm2d(128, eps=1e-05, momentum=0.1, affine=True, track_running_stats=True)\n",
              "          (conv2): Conv2d(128, 128, kernel_size=(3, 3), stride=(2, 2), padding=(1, 1), bias=False)\n",
              "          (bn2): BatchNorm2d(128, eps=1e-05, momentum=0.1, affine=True, track_running_stats=True)\n",
              "          (conv3): Conv2d(128, 512, kernel_size=(1, 1), stride=(1, 1), bias=False)\n",
              "          (bn3): BatchNorm2d(512, eps=1e-05, momentum=0.1, affine=True, track_running_stats=True)\n",
              "          (relu): ReLU(inplace=True)\n",
              "          (downsample): Sequential(\n",
              "            (0): Conv2d(256, 512, kernel_size=(1, 1), stride=(2, 2), bias=False)\n",
              "            (1): BatchNorm2d(512, eps=1e-05, momentum=0.1, affine=True, track_running_stats=True)\n",
              "          )\n",
              "        )\n",
              "        (1): Bottleneck(\n",
              "          (conv1): Conv2d(512, 128, kernel_size=(1, 1), stride=(1, 1), bias=False)\n",
              "          (bn1): BatchNorm2d(128, eps=1e-05, momentum=0.1, affine=True, track_running_stats=True)\n",
              "          (conv2): Conv2d(128, 128, kernel_size=(3, 3), stride=(1, 1), padding=(1, 1), bias=False)\n",
              "          (bn2): BatchNorm2d(128, eps=1e-05, momentum=0.1, affine=True, track_running_stats=True)\n",
              "          (conv3): Conv2d(128, 512, kernel_size=(1, 1), stride=(1, 1), bias=False)\n",
              "          (bn3): BatchNorm2d(512, eps=1e-05, momentum=0.1, affine=True, track_running_stats=True)\n",
              "          (relu): ReLU(inplace=True)\n",
              "        )\n",
              "        (2): Bottleneck(\n",
              "          (conv1): Conv2d(512, 128, kernel_size=(1, 1), stride=(1, 1), bias=False)\n",
              "          (bn1): BatchNorm2d(128, eps=1e-05, momentum=0.1, affine=True, track_running_stats=True)\n",
              "          (conv2): Conv2d(128, 128, kernel_size=(3, 3), stride=(1, 1), padding=(1, 1), bias=False)\n",
              "          (bn2): BatchNorm2d(128, eps=1e-05, momentum=0.1, affine=True, track_running_stats=True)\n",
              "          (conv3): Conv2d(128, 512, kernel_size=(1, 1), stride=(1, 1), bias=False)\n",
              "          (bn3): BatchNorm2d(512, eps=1e-05, momentum=0.1, affine=True, track_running_stats=True)\n",
              "          (relu): ReLU(inplace=True)\n",
              "        )\n",
              "        (3): Bottleneck(\n",
              "          (conv1): Conv2d(512, 128, kernel_size=(1, 1), stride=(1, 1), bias=False)\n",
              "          (bn1): BatchNorm2d(128, eps=1e-05, momentum=0.1, affine=True, track_running_stats=True)\n",
              "          (conv2): Conv2d(128, 128, kernel_size=(3, 3), stride=(1, 1), padding=(1, 1), bias=False)\n",
              "          (bn2): BatchNorm2d(128, eps=1e-05, momentum=0.1, affine=True, track_running_stats=True)\n",
              "          (conv3): Conv2d(128, 512, kernel_size=(1, 1), stride=(1, 1), bias=False)\n",
              "          (bn3): BatchNorm2d(512, eps=1e-05, momentum=0.1, affine=True, track_running_stats=True)\n",
              "          (relu): ReLU(inplace=True)\n",
              "        )\n",
              "      )\n",
              "      (layer3): Sequential(\n",
              "        (0): Bottleneck(\n",
              "          (conv1): Conv2d(512, 256, kernel_size=(1, 1), stride=(1, 1), bias=False)\n",
              "          (bn1): BatchNorm2d(256, eps=1e-05, momentum=0.1, affine=True, track_running_stats=True)\n",
              "          (conv2): Conv2d(256, 256, kernel_size=(3, 3), stride=(2, 2), padding=(1, 1), bias=False)\n",
              "          (bn2): BatchNorm2d(256, eps=1e-05, momentum=0.1, affine=True, track_running_stats=True)\n",
              "          (conv3): Conv2d(256, 1024, kernel_size=(1, 1), stride=(1, 1), bias=False)\n",
              "          (bn3): BatchNorm2d(1024, eps=1e-05, momentum=0.1, affine=True, track_running_stats=True)\n",
              "          (relu): ReLU(inplace=True)\n",
              "          (downsample): Sequential(\n",
              "            (0): Conv2d(512, 1024, kernel_size=(1, 1), stride=(2, 2), bias=False)\n",
              "            (1): BatchNorm2d(1024, eps=1e-05, momentum=0.1, affine=True, track_running_stats=True)\n",
              "          )\n",
              "        )\n",
              "        (1): Bottleneck(\n",
              "          (conv1): Conv2d(1024, 256, kernel_size=(1, 1), stride=(1, 1), bias=False)\n",
              "          (bn1): BatchNorm2d(256, eps=1e-05, momentum=0.1, affine=True, track_running_stats=True)\n",
              "          (conv2): Conv2d(256, 256, kernel_size=(3, 3), stride=(1, 1), padding=(1, 1), bias=False)\n",
              "          (bn2): BatchNorm2d(256, eps=1e-05, momentum=0.1, affine=True, track_running_stats=True)\n",
              "          (conv3): Conv2d(256, 1024, kernel_size=(1, 1), stride=(1, 1), bias=False)\n",
              "          (bn3): BatchNorm2d(1024, eps=1e-05, momentum=0.1, affine=True, track_running_stats=True)\n",
              "          (relu): ReLU(inplace=True)\n",
              "        )\n",
              "        (2): Bottleneck(\n",
              "          (conv1): Conv2d(1024, 256, kernel_size=(1, 1), stride=(1, 1), bias=False)\n",
              "          (bn1): BatchNorm2d(256, eps=1e-05, momentum=0.1, affine=True, track_running_stats=True)\n",
              "          (conv2): Conv2d(256, 256, kernel_size=(3, 3), stride=(1, 1), padding=(1, 1), bias=False)\n",
              "          (bn2): BatchNorm2d(256, eps=1e-05, momentum=0.1, affine=True, track_running_stats=True)\n",
              "          (conv3): Conv2d(256, 1024, kernel_size=(1, 1), stride=(1, 1), bias=False)\n",
              "          (bn3): BatchNorm2d(1024, eps=1e-05, momentum=0.1, affine=True, track_running_stats=True)\n",
              "          (relu): ReLU(inplace=True)\n",
              "        )\n",
              "        (3): Bottleneck(\n",
              "          (conv1): Conv2d(1024, 256, kernel_size=(1, 1), stride=(1, 1), bias=False)\n",
              "          (bn1): BatchNorm2d(256, eps=1e-05, momentum=0.1, affine=True, track_running_stats=True)\n",
              "          (conv2): Conv2d(256, 256, kernel_size=(3, 3), stride=(1, 1), padding=(1, 1), bias=False)\n",
              "          (bn2): BatchNorm2d(256, eps=1e-05, momentum=0.1, affine=True, track_running_stats=True)\n",
              "          (conv3): Conv2d(256, 1024, kernel_size=(1, 1), stride=(1, 1), bias=False)\n",
              "          (bn3): BatchNorm2d(1024, eps=1e-05, momentum=0.1, affine=True, track_running_stats=True)\n",
              "          (relu): ReLU(inplace=True)\n",
              "        )\n",
              "        (4): Bottleneck(\n",
              "          (conv1): Conv2d(1024, 256, kernel_size=(1, 1), stride=(1, 1), bias=False)\n",
              "          (bn1): BatchNorm2d(256, eps=1e-05, momentum=0.1, affine=True, track_running_stats=True)\n",
              "          (conv2): Conv2d(256, 256, kernel_size=(3, 3), stride=(1, 1), padding=(1, 1), bias=False)\n",
              "          (bn2): BatchNorm2d(256, eps=1e-05, momentum=0.1, affine=True, track_running_stats=True)\n",
              "          (conv3): Conv2d(256, 1024, kernel_size=(1, 1), stride=(1, 1), bias=False)\n",
              "          (bn3): BatchNorm2d(1024, eps=1e-05, momentum=0.1, affine=True, track_running_stats=True)\n",
              "          (relu): ReLU(inplace=True)\n",
              "        )\n",
              "        (5): Bottleneck(\n",
              "          (conv1): Conv2d(1024, 256, kernel_size=(1, 1), stride=(1, 1), bias=False)\n",
              "          (bn1): BatchNorm2d(256, eps=1e-05, momentum=0.1, affine=True, track_running_stats=True)\n",
              "          (conv2): Conv2d(256, 256, kernel_size=(3, 3), stride=(1, 1), padding=(1, 1), bias=False)\n",
              "          (bn2): BatchNorm2d(256, eps=1e-05, momentum=0.1, affine=True, track_running_stats=True)\n",
              "          (conv3): Conv2d(256, 1024, kernel_size=(1, 1), stride=(1, 1), bias=False)\n",
              "          (bn3): BatchNorm2d(1024, eps=1e-05, momentum=0.1, affine=True, track_running_stats=True)\n",
              "          (relu): ReLU(inplace=True)\n",
              "        )\n",
              "      )\n",
              "      (layer4): Sequential(\n",
              "        (0): Bottleneck(\n",
              "          (conv1): Conv2d(1024, 512, kernel_size=(1, 1), stride=(1, 1), bias=False)\n",
              "          (bn1): BatchNorm2d(512, eps=1e-05, momentum=0.1, affine=True, track_running_stats=True)\n",
              "          (conv2): Conv2d(512, 512, kernel_size=(3, 3), stride=(2, 2), padding=(1, 1), bias=False)\n",
              "          (bn2): BatchNorm2d(512, eps=1e-05, momentum=0.1, affine=True, track_running_stats=True)\n",
              "          (conv3): Conv2d(512, 2048, kernel_size=(1, 1), stride=(1, 1), bias=False)\n",
              "          (bn3): BatchNorm2d(2048, eps=1e-05, momentum=0.1, affine=True, track_running_stats=True)\n",
              "          (relu): ReLU(inplace=True)\n",
              "          (downsample): Sequential(\n",
              "            (0): Conv2d(1024, 2048, kernel_size=(1, 1), stride=(2, 2), bias=False)\n",
              "            (1): BatchNorm2d(2048, eps=1e-05, momentum=0.1, affine=True, track_running_stats=True)\n",
              "          )\n",
              "        )\n",
              "        (1): Bottleneck(\n",
              "          (conv1): Conv2d(2048, 512, kernel_size=(1, 1), stride=(1, 1), bias=False)\n",
              "          (bn1): BatchNorm2d(512, eps=1e-05, momentum=0.1, affine=True, track_running_stats=True)\n",
              "          (conv2): Conv2d(512, 512, kernel_size=(3, 3), stride=(1, 1), padding=(1, 1), bias=False)\n",
              "          (bn2): BatchNorm2d(512, eps=1e-05, momentum=0.1, affine=True, track_running_stats=True)\n",
              "          (conv3): Conv2d(512, 2048, kernel_size=(1, 1), stride=(1, 1), bias=False)\n",
              "          (bn3): BatchNorm2d(2048, eps=1e-05, momentum=0.1, affine=True, track_running_stats=True)\n",
              "          (relu): ReLU(inplace=True)\n",
              "        )\n",
              "        (2): Bottleneck(\n",
              "          (conv1): Conv2d(2048, 512, kernel_size=(1, 1), stride=(1, 1), bias=False)\n",
              "          (bn1): BatchNorm2d(512, eps=1e-05, momentum=0.1, affine=True, track_running_stats=True)\n",
              "          (conv2): Conv2d(512, 512, kernel_size=(3, 3), stride=(1, 1), padding=(1, 1), bias=False)\n",
              "          (bn2): BatchNorm2d(512, eps=1e-05, momentum=0.1, affine=True, track_running_stats=True)\n",
              "          (conv3): Conv2d(512, 2048, kernel_size=(1, 1), stride=(1, 1), bias=False)\n",
              "          (bn3): BatchNorm2d(2048, eps=1e-05, momentum=0.1, affine=True, track_running_stats=True)\n",
              "          (relu): ReLU(inplace=True)\n",
              "        )\n",
              "      )\n",
              "      (lda1_pool): Sequential(\n",
              "        (0): Conv2d(256, 16, kernel_size=(1, 1), stride=(1, 1), bias=False)\n",
              "        (1): AvgPool2d(kernel_size=7, stride=7, padding=0)\n",
              "      )\n",
              "      (lda1_fc): Linear(in_features=1024, out_features=16, bias=True)\n",
              "      (lda2_pool): Sequential(\n",
              "        (0): Conv2d(512, 32, kernel_size=(1, 1), stride=(1, 1), bias=False)\n",
              "        (1): AvgPool2d(kernel_size=7, stride=7, padding=0)\n",
              "      )\n",
              "      (lda2_fc): Linear(in_features=512, out_features=16, bias=True)\n",
              "      (lda3_pool): Sequential(\n",
              "        (0): Conv2d(1024, 64, kernel_size=(1, 1), stride=(1, 1), bias=False)\n",
              "        (1): AvgPool2d(kernel_size=7, stride=7, padding=0)\n",
              "      )\n",
              "      (lda3_fc): Linear(in_features=256, out_features=16, bias=True)\n",
              "      (lda4_pool): AvgPool2d(kernel_size=7, stride=7, padding=0)\n",
              "      (lda4_fc): Linear(in_features=2048, out_features=176, bias=True)\n",
              "    )\n",
              "    (pool): AdaptiveAvgPool2d(output_size=(1, 1))\n",
              "    (conv1): Sequential(\n",
              "      (0): Conv2d(2048, 1024, kernel_size=(1, 1), stride=(1, 1))\n",
              "      (1): ReLU(inplace=True)\n",
              "      (2): Conv2d(1024, 512, kernel_size=(1, 1), stride=(1, 1))\n",
              "      (3): ReLU(inplace=True)\n",
              "      (4): Conv2d(512, 112, kernel_size=(1, 1), stride=(1, 1))\n",
              "      (5): ReLU(inplace=True)\n",
              "    )\n",
              "    (fc1w_conv): Conv2d(112, 512, kernel_size=(3, 3), stride=(1, 1), padding=(1, 1))\n",
              "    (fc1b_fc): Linear(in_features=112, out_features=112, bias=True)\n",
              "    (fc2w_conv): Conv2d(112, 128, kernel_size=(3, 3), stride=(1, 1), padding=(1, 1))\n",
              "    (fc2b_fc): Linear(in_features=112, out_features=56, bias=True)\n",
              "    (fc3w_conv): Conv2d(112, 32, kernel_size=(3, 3), stride=(1, 1), padding=(1, 1))\n",
              "    (fc3b_fc): Linear(in_features=112, out_features=28, bias=True)\n",
              "    (fc4w_conv): Conv2d(112, 8, kernel_size=(3, 3), stride=(1, 1), padding=(1, 1))\n",
              "    (fc4b_fc): Linear(in_features=112, out_features=14, bias=True)\n",
              "    (fc5w_fc): Linear(in_features=112, out_features=14, bias=True)\n",
              "    (fc5b_fc): Linear(in_features=112, out_features=1, bias=True)\n",
              "  )\n",
              ")"
            ]
          },
          "metadata": {},
          "execution_count": 60
        }
      ]
    },
    {
      "cell_type": "code",
      "source": [
        "import numpy as np\n",
        "from scipy.stats import spearmanr, pearsonr, kendalltau\n",
        "from sklearn.metrics import mean_absolute_error\n",
        "\n",
        "def calculate_metrics(predictions, targets):\n",
        "    srocc, _ = spearmanr(predictions, targets)\n",
        "    plcc, _ = pearsonr(predictions, targets)\n",
        "    krocc, _ = kendalltau(predictions, targets)\n",
        "    mea = mean_absolute_error(predictions, targets)\n",
        "    return srocc, plcc, krocc, mea"
      ],
      "metadata": {
        "id": "MRT0pLMo_8cm"
      },
      "execution_count": null,
      "outputs": []
    },
    {
      "cell_type": "code",
      "source": [
        "testDfPath = \"/content/drive/MyDrive/Dataset/device_split_test.csv\"\n",
        "testDf = pd.read_csv(testDfPath)\n",
        "\n",
        "transform = Compose([\n",
        "    Resize((224, 224)),\n",
        "    ToTensor(),\n",
        "    Normalize(mean=[0.485, 0.456, 0.406], std=[0.229, 0.224, 0.225]),\n",
        "])\n",
        "\n",
        "test_dataset = CustomDataset(testDf, transform=transform)\n",
        "test_loader = DataLoader(test_dataset, batch_size=1, shuffle=False)\n",
        "\n",
        "sem_hyperiqa_predictions = []\n",
        "full_hyperiqa_predictions = []\n",
        "true_values = []\n",
        "\n",
        "with torch.no_grad():\n",
        "  for images, labels in test_loader:\n",
        "    sem_hyperiqa_outputs = sem_hyperiqa(images)\n",
        "    full_hyperiqa_outputs = full_hyperiqa(images)\n",
        "\n",
        "    sem_hyperiqa_predictions.append(sem_hyperiqa_outputs['quality'].item())\n",
        "    full_hyperiqa_predictions.append(full_hyperiqa_outputs['quality'].item())\n",
        "    true_values.append(labels.item())"
      ],
      "metadata": {
        "id": "pIuP5tAJ9p8q"
      },
      "execution_count": null,
      "outputs": []
    },
    {
      "cell_type": "code",
      "source": [
        "sem_hyperiqa_metrics = calculate_metrics(sem_hyperiqa_predictions, true_values)\n",
        "full_hyperiqa_metrics = calculate_metrics(full_hyperiqa_predictions, true_values)\n",
        "\n",
        "print(f\"SemHyperIQA Metrics: {sem_hyperiqa_metrics}\")\n",
        "print(f\"FullHyperIQA Metrics: {full_hyperiqa_metrics}\")"
      ],
      "metadata": {
        "colab": {
          "base_uri": "https://localhost:8080/"
        },
        "id": "geg3veNPLaFB",
        "outputId": "af97766a-522b-4d50-b6f8-ddab56f0a16b"
      },
      "execution_count": null,
      "outputs": [
        {
          "output_type": "stream",
          "name": "stdout",
          "text": [
            "SemHyperIQA Metrics: (0.8098206906796929, 0.8176933318663235, 0.6189243938191107, 0.6689085342151605)\n",
            "FullHyperIQA Metrics: (0.8123872509648077, 0.8174008261237455, 0.6221459248517389, 0.622637875772766)\n"
          ]
        }
      ]
    },
    {
      "cell_type": "code",
      "source": [],
      "metadata": {
        "id": "rTCykC9_kxWG"
      },
      "execution_count": null,
      "outputs": []
    },
    {
      "cell_type": "code",
      "source": [
        "import pandas as pd\n",
        "\n",
        "# Performans metriklerini tabloya ekleme\n",
        "data = {\n",
        "    ('Details', 'SROCC'): [sem_hyperiqa_metrics[0], full_hyperiqa_metrics[0]],\n",
        "    ('Details', 'PLCC'): [sem_hyperiqa_metrics[1], full_hyperiqa_metrics[1]],\n",
        "    ('Details', 'KROCC'): [sem_hyperiqa_metrics[2], full_hyperiqa_metrics[2]],\n",
        "    ('Details', 'MAE'): [sem_hyperiqa_metrics[3], full_hyperiqa_metrics[3]],\n",
        "    ('Exposure', 'SROCC'): [sem_hyperiqa_metrics[0], full_hyperiqa_metrics[0]],  # Hypothetical, needs actual values\n",
        "    ('Exposure', 'PLCC'): [sem_hyperiqa_metrics[1], full_hyperiqa_metrics[1]],  # Hypothetical, needs actual values\n",
        "    ('Exposure', 'KROCC'): [sem_hyperiqa_metrics[2], full_hyperiqa_metrics[2]],  # Hypothetical, needs actual values\n",
        "    ('Exposure', 'MAE'): [sem_hyperiqa_metrics[3], full_hyperiqa_metrics[3]],  # Hypothetical, needs actual values\n",
        "    ('Overall', 'SROCC'): [sem_hyperiqa_metrics[0], full_hyperiqa_metrics[0]],  # Hypothetical, needs actual values\n",
        "    ('Overall', 'PLCC'): [sem_hyperiqa_metrics[1], full_hyperiqa_metrics[1]],  # Hypothetical, needs actual values\n",
        "    ('Overall', 'KROCC'): [sem_hyperiqa_metrics[2], full_hyperiqa_metrics[2]],  # Hypothetical, needs actual values\n",
        "    ('Overall', 'MAE'): [sem_hyperiqa_metrics[3], full_hyperiqa_metrics[3]],  # Hypothetical, needs actual values\n",
        "}\n",
        "\n",
        "# Çok katmanlı sütun başlıkları oluşturma\n",
        "columns = pd.MultiIndex.from_tuples([\n",
        "    ('Device Split', 'Details', 'SROCC'),\n",
        "    ('Device Split', 'Details', 'PLCC'),\n",
        "    ('Device Split', 'Details', 'KROCC'),\n",
        "    ('Device Split', 'Details', 'MAE'),\n",
        "    ('Device Split', 'Exposure', 'SROCC'),\n",
        "    ('Device Split', 'Exposure', 'PLCC'),\n",
        "    ('Device Split', 'Exposure', 'KROCC'),\n",
        "    ('Device Split', 'Exposure', 'MAE'),\n",
        "    ('Device Split', 'Overall', 'SROCC'),\n",
        "    ('Device Split', 'Overall', 'PLCC'),\n",
        "    ('Device Split', 'Overall', 'KROCC'),\n",
        "    ('Device Split', 'Overall', 'MAE')\n",
        "])\n",
        "\n",
        "# DataFrame'i çok katmanlı sütun başlıklarıyla oluşturma\n",
        "Device_Split = pd.DataFrame(data, index=['SemHyperIQA', 'FullHyperIQA'])\n",
        "Device_Split.columns = columns\n",
        "\n",
        "# İlk sütun olan Model\\Attribute'u ekleme\n",
        "Device_Split.index.name = 'Model\\\\Attribute'\n",
        "Device_Split.reset_index(inplace=True)\n",
        "\n",
        "# CSV dosyasına kaydetme\n",
        "Device_Split.to_csv('/content/drive/MyDrive/Device_Split_score.csv', index=False)\n",
        "print(f'Sonuçlar kaydedildi: /content/drive/MyDrive/Device_Split_score.csv')\n"
      ],
      "metadata": {
        "colab": {
          "base_uri": "https://localhost:8080/"
        },
        "id": "muvBBxGwAxtF",
        "outputId": "9013a4ef-50f9-4a73-91f2-300a19487ca8"
      },
      "execution_count": null,
      "outputs": [
        {
          "output_type": "stream",
          "name": "stdout",
          "text": [
            "Sonuçlar kaydedildi: /content/drive/MyDrive/Device_Split_score.csv\n"
          ]
        }
      ]
    },
    {
      "cell_type": "code",
      "source": [
        "import pandas as pd\n",
        "import matplotlib.pyplot as plt\n",
        "import seaborn as sns\n",
        "import numpy as np  # For generating mock data\n",
        "\n",
        "# Data definition\n",
        "import pandas as pd\n",
        "import numpy as np\n",
        "\n",
        "# New data\n",
        "data = {\n",
        "    'Details': {\n",
        "        'SROCC': [0.241263, 0.459536],\n",
        "        'PLCC': [0.235212, 0.438204],\n",
        "        'KROCC': [0.162840, 0.315484],\n",
        "        'MAE': [1.070598, 1.015691]\n",
        "    },\n",
        "    'Exposure': {\n",
        "        'SROCC': [0.241263, 0.459536],\n",
        "        'PLCC': [0.235212, 0.438204],\n",
        "        'KROCC': [0.162840, 0.315484],\n",
        "        'MAE': [1.070598, 1.015691]\n",
        "    },\n",
        "    'Overall': {\n",
        "        'SROCC': [0.241263, 0.459536],\n",
        "        'PLCC': [0.235212, 0.438204],\n",
        "        'KROCC': [0.162840, 0.315484],\n",
        "        'MAE': [1.070598, 1.015691]\n",
        "    }\n",
        "}\n",
        "\n",
        "# Models as index\n",
        "models = ['SemHyperIQA', 'FullHyperIQA']\n",
        "\n",
        "# Creating DataFrame with MultiIndex\n",
        "index = pd.MultiIndex.from_product([data.keys(), data['Details'].keys()], names=['Attribute', 'Metric'])\n",
        "df = pd.DataFrame([data[attr][metric] for attr in data for metric in data[attr]], index=index, columns=models).T\n",
        "\n",
        "# Display the DataFrame\n",
        "print(df)\n",
        "\n",
        "# Optionally, you can visualize this DataFrame as well, using the previous example's visualization code.\n",
        "\n",
        "\n",
        "# Visualization\n",
        "plt.figure(figsize=(12, 8))\n",
        "\n",
        "# Scatter plot\n",
        "sns.scatterplot(data=df, x='JOD Range', y='CI Median', hue='Attribute', style='Attribute', markers=True, palette='viridis', s=100)\n",
        "\n",
        "# Density plot addition\n",
        "sns.kdeplot(data=df, x='JOD Range', hue='Attribute', fill=True, common_norm=False, alpha=0.4, linewidth=2)\n",
        "\n",
        "plt.title('Attribute Analysis with JOD Range and CI Median')\n",
        "plt.xlabel('JOD Range')\n",
        "plt.ylabel('CI Median')\n",
        "plt.legend(title='Attribute')\n",
        "plt.grid(True)\n",
        "plt.show()\n"
      ],
      "metadata": {
        "colab": {
          "base_uri": "https://localhost:8080/",
          "height": 530
        },
        "id": "MlAPAx5MkhPA",
        "outputId": "67b8825d-b5d5-479b-8790-1e6a3d599a13"
      },
      "execution_count": null,
      "outputs": [
        {
          "output_type": "stream",
          "name": "stdout",
          "text": [
            "Attribute      Details                                Exposure            \\\n",
            "Metric           SROCC      PLCC     KROCC       MAE     SROCC      PLCC   \n",
            "SemHyperIQA   0.241263  0.235212  0.162840  1.070598  0.241263  0.235212   \n",
            "FullHyperIQA  0.459536  0.438204  0.315484  1.015691  0.459536  0.438204   \n",
            "\n",
            "Attribute                          Overall                                \n",
            "Metric           KROCC       MAE     SROCC      PLCC     KROCC       MAE  \n",
            "SemHyperIQA   0.162840  1.070598  0.241263  0.235212  0.162840  1.070598  \n",
            "FullHyperIQA  0.315484  1.015691  0.459536  0.438204  0.315484  1.015691  \n"
          ]
        },
        {
          "output_type": "error",
          "ename": "ValueError",
          "evalue": "Could not interpret value `JOD Range` for `x`. An entry with this name does not appear in `data`.",
          "traceback": [
            "\u001b[0;31m---------------------------------------------------------------------------\u001b[0m",
            "\u001b[0;31mValueError\u001b[0m                                Traceback (most recent call last)",
            "\u001b[0;32m<ipython-input-4-da870314343d>\u001b[0m in \u001b[0;36m<cell line: 49>\u001b[0;34m()\u001b[0m\n\u001b[1;32m     47\u001b[0m \u001b[0;34m\u001b[0m\u001b[0m\n\u001b[1;32m     48\u001b[0m \u001b[0;31m# Scatter plot\u001b[0m\u001b[0;34m\u001b[0m\u001b[0;34m\u001b[0m\u001b[0m\n\u001b[0;32m---> 49\u001b[0;31m \u001b[0msns\u001b[0m\u001b[0;34m.\u001b[0m\u001b[0mscatterplot\u001b[0m\u001b[0;34m(\u001b[0m\u001b[0mdata\u001b[0m\u001b[0;34m=\u001b[0m\u001b[0mdf\u001b[0m\u001b[0;34m,\u001b[0m \u001b[0mx\u001b[0m\u001b[0;34m=\u001b[0m\u001b[0;34m'JOD Range'\u001b[0m\u001b[0;34m,\u001b[0m \u001b[0my\u001b[0m\u001b[0;34m=\u001b[0m\u001b[0;34m'CI Median'\u001b[0m\u001b[0;34m,\u001b[0m \u001b[0mhue\u001b[0m\u001b[0;34m=\u001b[0m\u001b[0;34m'Attribute'\u001b[0m\u001b[0;34m,\u001b[0m \u001b[0mstyle\u001b[0m\u001b[0;34m=\u001b[0m\u001b[0;34m'Attribute'\u001b[0m\u001b[0;34m,\u001b[0m \u001b[0mmarkers\u001b[0m\u001b[0;34m=\u001b[0m\u001b[0;32mTrue\u001b[0m\u001b[0;34m,\u001b[0m \u001b[0mpalette\u001b[0m\u001b[0;34m=\u001b[0m\u001b[0;34m'viridis'\u001b[0m\u001b[0;34m,\u001b[0m \u001b[0ms\u001b[0m\u001b[0;34m=\u001b[0m\u001b[0;36m100\u001b[0m\u001b[0;34m)\u001b[0m\u001b[0;34m\u001b[0m\u001b[0;34m\u001b[0m\u001b[0m\n\u001b[0m\u001b[1;32m     50\u001b[0m \u001b[0;34m\u001b[0m\u001b[0m\n\u001b[1;32m     51\u001b[0m \u001b[0;31m# Density plot addition\u001b[0m\u001b[0;34m\u001b[0m\u001b[0;34m\u001b[0m\u001b[0m\n",
            "\u001b[0;32m/usr/local/lib/python3.10/dist-packages/seaborn/relational.py\u001b[0m in \u001b[0;36mscatterplot\u001b[0;34m(data, x, y, hue, size, style, palette, hue_order, hue_norm, sizes, size_order, size_norm, markers, style_order, legend, ax, **kwargs)\u001b[0m\n\u001b[1;32m    608\u001b[0m ):\n\u001b[1;32m    609\u001b[0m \u001b[0;34m\u001b[0m\u001b[0m\n\u001b[0;32m--> 610\u001b[0;31m     p = _ScatterPlotter(\n\u001b[0m\u001b[1;32m    611\u001b[0m         \u001b[0mdata\u001b[0m\u001b[0;34m=\u001b[0m\u001b[0mdata\u001b[0m\u001b[0;34m,\u001b[0m\u001b[0;34m\u001b[0m\u001b[0;34m\u001b[0m\u001b[0m\n\u001b[1;32m    612\u001b[0m         \u001b[0mvariables\u001b[0m\u001b[0;34m=\u001b[0m\u001b[0mdict\u001b[0m\u001b[0;34m(\u001b[0m\u001b[0mx\u001b[0m\u001b[0;34m=\u001b[0m\u001b[0mx\u001b[0m\u001b[0;34m,\u001b[0m \u001b[0my\u001b[0m\u001b[0;34m=\u001b[0m\u001b[0my\u001b[0m\u001b[0;34m,\u001b[0m \u001b[0mhue\u001b[0m\u001b[0;34m=\u001b[0m\u001b[0mhue\u001b[0m\u001b[0;34m,\u001b[0m \u001b[0msize\u001b[0m\u001b[0;34m=\u001b[0m\u001b[0msize\u001b[0m\u001b[0;34m,\u001b[0m \u001b[0mstyle\u001b[0m\u001b[0;34m=\u001b[0m\u001b[0mstyle\u001b[0m\u001b[0;34m)\u001b[0m\u001b[0;34m,\u001b[0m\u001b[0;34m\u001b[0m\u001b[0;34m\u001b[0m\u001b[0m\n",
            "\u001b[0;32m/usr/local/lib/python3.10/dist-packages/seaborn/relational.py\u001b[0m in \u001b[0;36m__init__\u001b[0;34m(self, data, variables, legend)\u001b[0m\n\u001b[1;32m    389\u001b[0m         )\n\u001b[1;32m    390\u001b[0m \u001b[0;34m\u001b[0m\u001b[0m\n\u001b[0;32m--> 391\u001b[0;31m         \u001b[0msuper\u001b[0m\u001b[0;34m(\u001b[0m\u001b[0;34m)\u001b[0m\u001b[0;34m.\u001b[0m\u001b[0m__init__\u001b[0m\u001b[0;34m(\u001b[0m\u001b[0mdata\u001b[0m\u001b[0;34m=\u001b[0m\u001b[0mdata\u001b[0m\u001b[0;34m,\u001b[0m \u001b[0mvariables\u001b[0m\u001b[0;34m=\u001b[0m\u001b[0mvariables\u001b[0m\u001b[0;34m)\u001b[0m\u001b[0;34m\u001b[0m\u001b[0;34m\u001b[0m\u001b[0m\n\u001b[0m\u001b[1;32m    392\u001b[0m \u001b[0;34m\u001b[0m\u001b[0m\n\u001b[1;32m    393\u001b[0m         \u001b[0mself\u001b[0m\u001b[0;34m.\u001b[0m\u001b[0mlegend\u001b[0m \u001b[0;34m=\u001b[0m \u001b[0mlegend\u001b[0m\u001b[0;34m\u001b[0m\u001b[0;34m\u001b[0m\u001b[0m\n",
            "\u001b[0;32m/usr/local/lib/python3.10/dist-packages/seaborn/_base.py\u001b[0m in \u001b[0;36m__init__\u001b[0;34m(self, data, variables)\u001b[0m\n\u001b[1;32m    632\u001b[0m         \u001b[0;31m# information for numeric axes would be information about log scales.\u001b[0m\u001b[0;34m\u001b[0m\u001b[0;34m\u001b[0m\u001b[0m\n\u001b[1;32m    633\u001b[0m         \u001b[0mself\u001b[0m\u001b[0;34m.\u001b[0m\u001b[0m_var_ordered\u001b[0m \u001b[0;34m=\u001b[0m \u001b[0;34m{\u001b[0m\u001b[0;34m\"x\"\u001b[0m\u001b[0;34m:\u001b[0m \u001b[0;32mFalse\u001b[0m\u001b[0;34m,\u001b[0m \u001b[0;34m\"y\"\u001b[0m\u001b[0;34m:\u001b[0m \u001b[0;32mFalse\u001b[0m\u001b[0;34m}\u001b[0m  \u001b[0;31m# alt., used DefaultDict\u001b[0m\u001b[0;34m\u001b[0m\u001b[0;34m\u001b[0m\u001b[0m\n\u001b[0;32m--> 634\u001b[0;31m         \u001b[0mself\u001b[0m\u001b[0;34m.\u001b[0m\u001b[0massign_variables\u001b[0m\u001b[0;34m(\u001b[0m\u001b[0mdata\u001b[0m\u001b[0;34m,\u001b[0m \u001b[0mvariables\u001b[0m\u001b[0;34m)\u001b[0m\u001b[0;34m\u001b[0m\u001b[0;34m\u001b[0m\u001b[0m\n\u001b[0m\u001b[1;32m    635\u001b[0m \u001b[0;34m\u001b[0m\u001b[0m\n\u001b[1;32m    636\u001b[0m         \u001b[0;31m# TODO Lots of tests assume that these are called to initialize the\u001b[0m\u001b[0;34m\u001b[0m\u001b[0;34m\u001b[0m\u001b[0m\n",
            "\u001b[0;32m/usr/local/lib/python3.10/dist-packages/seaborn/_base.py\u001b[0m in \u001b[0;36massign_variables\u001b[0;34m(self, data, variables)\u001b[0m\n\u001b[1;32m    677\u001b[0m             \u001b[0;31m# to centralize / standardize data consumption logic.\u001b[0m\u001b[0;34m\u001b[0m\u001b[0;34m\u001b[0m\u001b[0m\n\u001b[1;32m    678\u001b[0m             \u001b[0mself\u001b[0m\u001b[0;34m.\u001b[0m\u001b[0minput_format\u001b[0m \u001b[0;34m=\u001b[0m \u001b[0;34m\"long\"\u001b[0m\u001b[0;34m\u001b[0m\u001b[0;34m\u001b[0m\u001b[0m\n\u001b[0;32m--> 679\u001b[0;31m             \u001b[0mplot_data\u001b[0m \u001b[0;34m=\u001b[0m \u001b[0mPlotData\u001b[0m\u001b[0;34m(\u001b[0m\u001b[0mdata\u001b[0m\u001b[0;34m,\u001b[0m \u001b[0mvariables\u001b[0m\u001b[0;34m)\u001b[0m\u001b[0;34m\u001b[0m\u001b[0;34m\u001b[0m\u001b[0m\n\u001b[0m\u001b[1;32m    680\u001b[0m             \u001b[0mframe\u001b[0m \u001b[0;34m=\u001b[0m \u001b[0mplot_data\u001b[0m\u001b[0;34m.\u001b[0m\u001b[0mframe\u001b[0m\u001b[0;34m\u001b[0m\u001b[0;34m\u001b[0m\u001b[0m\n\u001b[1;32m    681\u001b[0m             \u001b[0mnames\u001b[0m \u001b[0;34m=\u001b[0m \u001b[0mplot_data\u001b[0m\u001b[0;34m.\u001b[0m\u001b[0mnames\u001b[0m\u001b[0;34m\u001b[0m\u001b[0;34m\u001b[0m\u001b[0m\n",
            "\u001b[0;32m/usr/local/lib/python3.10/dist-packages/seaborn/_core/data.py\u001b[0m in \u001b[0;36m__init__\u001b[0;34m(self, data, variables)\u001b[0m\n\u001b[1;32m     56\u001b[0m \u001b[0;34m\u001b[0m\u001b[0m\n\u001b[1;32m     57\u001b[0m         \u001b[0mdata\u001b[0m \u001b[0;34m=\u001b[0m \u001b[0mhandle_data_source\u001b[0m\u001b[0;34m(\u001b[0m\u001b[0mdata\u001b[0m\u001b[0;34m)\u001b[0m\u001b[0;34m\u001b[0m\u001b[0;34m\u001b[0m\u001b[0m\n\u001b[0;32m---> 58\u001b[0;31m         \u001b[0mframe\u001b[0m\u001b[0;34m,\u001b[0m \u001b[0mnames\u001b[0m\u001b[0;34m,\u001b[0m \u001b[0mids\u001b[0m \u001b[0;34m=\u001b[0m \u001b[0mself\u001b[0m\u001b[0;34m.\u001b[0m\u001b[0m_assign_variables\u001b[0m\u001b[0;34m(\u001b[0m\u001b[0mdata\u001b[0m\u001b[0;34m,\u001b[0m \u001b[0mvariables\u001b[0m\u001b[0;34m)\u001b[0m\u001b[0;34m\u001b[0m\u001b[0;34m\u001b[0m\u001b[0m\n\u001b[0m\u001b[1;32m     59\u001b[0m \u001b[0;34m\u001b[0m\u001b[0m\n\u001b[1;32m     60\u001b[0m         \u001b[0mself\u001b[0m\u001b[0;34m.\u001b[0m\u001b[0mframe\u001b[0m \u001b[0;34m=\u001b[0m \u001b[0mframe\u001b[0m\u001b[0;34m\u001b[0m\u001b[0;34m\u001b[0m\u001b[0m\n",
            "\u001b[0;32m/usr/local/lib/python3.10/dist-packages/seaborn/_core/data.py\u001b[0m in \u001b[0;36m_assign_variables\u001b[0;34m(self, data, variables)\u001b[0m\n\u001b[1;32m    230\u001b[0m                 \u001b[0;32melse\u001b[0m\u001b[0;34m:\u001b[0m\u001b[0;34m\u001b[0m\u001b[0;34m\u001b[0m\u001b[0m\n\u001b[1;32m    231\u001b[0m                     \u001b[0merr\u001b[0m \u001b[0;34m+=\u001b[0m \u001b[0;34m\"An entry with this name does not appear in `data`.\"\u001b[0m\u001b[0;34m\u001b[0m\u001b[0;34m\u001b[0m\u001b[0m\n\u001b[0;32m--> 232\u001b[0;31m                 \u001b[0;32mraise\u001b[0m \u001b[0mValueError\u001b[0m\u001b[0;34m(\u001b[0m\u001b[0merr\u001b[0m\u001b[0;34m)\u001b[0m\u001b[0;34m\u001b[0m\u001b[0;34m\u001b[0m\u001b[0m\n\u001b[0m\u001b[1;32m    233\u001b[0m \u001b[0;34m\u001b[0m\u001b[0m\n\u001b[1;32m    234\u001b[0m             \u001b[0;32melse\u001b[0m\u001b[0;34m:\u001b[0m\u001b[0;34m\u001b[0m\u001b[0;34m\u001b[0m\u001b[0m\n",
            "\u001b[0;31mValueError\u001b[0m: Could not interpret value `JOD Range` for `x`. An entry with this name does not appear in `data`."
          ]
        },
        {
          "output_type": "display_data",
          "data": {
            "text/plain": [
              "<Figure size 1200x800 with 0 Axes>"
            ]
          },
          "metadata": {}
        }
      ]
    },
    {
      "cell_type": "markdown",
      "source": [],
      "metadata": {
        "id": "ZVPqpjhFzbFg"
      }
    },
    {
      "cell_type": "code",
      "source": [
        "Device_Split"
      ],
      "metadata": {
        "colab": {
          "base_uri": "https://localhost:8080/",
          "height": 175
        },
        "id": "fBytfx99NPB8",
        "outputId": "7c58d6b9-b6dc-4fa6-a381-33c3cbfb032a"
      },
      "execution_count": null,
      "outputs": [
        {
          "output_type": "execute_result",
          "data": {
            "text/plain": [
              "  Model\\Attribute Device Split                                          \\\n",
              "                       Details                                Exposure   \n",
              "                         SROCC      PLCC     KROCC       MAE     SROCC   \n",
              "0     SemHyperIQA     0.809821  0.817693  0.618924  0.668909  0.809821   \n",
              "1    FullHyperIQA     0.812387  0.817401  0.622146  0.622638  0.812387   \n",
              "\n",
              "                                                                         \n",
              "                                  Overall                                \n",
              "       PLCC     KROCC       MAE     SROCC      PLCC     KROCC       MAE  \n",
              "0  0.817693  0.618924  0.668909  0.809821  0.817693  0.618924  0.668909  \n",
              "1  0.817401  0.622146  0.622638  0.812387  0.817401  0.622146  0.622638  "
            ],
            "text/html": [
              "\n",
              "  <div id=\"df-618eb904-c68e-4289-b107-c02029cefd97\" class=\"colab-df-container\">\n",
              "    <div>\n",
              "<style scoped>\n",
              "    .dataframe tbody tr th:only-of-type {\n",
              "        vertical-align: middle;\n",
              "    }\n",
              "\n",
              "    .dataframe tbody tr th {\n",
              "        vertical-align: top;\n",
              "    }\n",
              "\n",
              "    .dataframe thead tr th {\n",
              "        text-align: left;\n",
              "    }\n",
              "</style>\n",
              "<table border=\"1\" class=\"dataframe\">\n",
              "  <thead>\n",
              "    <tr>\n",
              "      <th></th>\n",
              "      <th>Model\\Attribute</th>\n",
              "      <th colspan=\"12\" halign=\"left\">Device Split</th>\n",
              "    </tr>\n",
              "    <tr>\n",
              "      <th></th>\n",
              "      <th></th>\n",
              "      <th colspan=\"4\" halign=\"left\">Details</th>\n",
              "      <th colspan=\"4\" halign=\"left\">Exposure</th>\n",
              "      <th colspan=\"4\" halign=\"left\">Overall</th>\n",
              "    </tr>\n",
              "    <tr>\n",
              "      <th></th>\n",
              "      <th></th>\n",
              "      <th>SROCC</th>\n",
              "      <th>PLCC</th>\n",
              "      <th>KROCC</th>\n",
              "      <th>MAE</th>\n",
              "      <th>SROCC</th>\n",
              "      <th>PLCC</th>\n",
              "      <th>KROCC</th>\n",
              "      <th>MAE</th>\n",
              "      <th>SROCC</th>\n",
              "      <th>PLCC</th>\n",
              "      <th>KROCC</th>\n",
              "      <th>MAE</th>\n",
              "    </tr>\n",
              "  </thead>\n",
              "  <tbody>\n",
              "    <tr>\n",
              "      <th>0</th>\n",
              "      <td>SemHyperIQA</td>\n",
              "      <td>0.809821</td>\n",
              "      <td>0.817693</td>\n",
              "      <td>0.618924</td>\n",
              "      <td>0.668909</td>\n",
              "      <td>0.809821</td>\n",
              "      <td>0.817693</td>\n",
              "      <td>0.618924</td>\n",
              "      <td>0.668909</td>\n",
              "      <td>0.809821</td>\n",
              "      <td>0.817693</td>\n",
              "      <td>0.618924</td>\n",
              "      <td>0.668909</td>\n",
              "    </tr>\n",
              "    <tr>\n",
              "      <th>1</th>\n",
              "      <td>FullHyperIQA</td>\n",
              "      <td>0.812387</td>\n",
              "      <td>0.817401</td>\n",
              "      <td>0.622146</td>\n",
              "      <td>0.622638</td>\n",
              "      <td>0.812387</td>\n",
              "      <td>0.817401</td>\n",
              "      <td>0.622146</td>\n",
              "      <td>0.622638</td>\n",
              "      <td>0.812387</td>\n",
              "      <td>0.817401</td>\n",
              "      <td>0.622146</td>\n",
              "      <td>0.622638</td>\n",
              "    </tr>\n",
              "  </tbody>\n",
              "</table>\n",
              "</div>\n",
              "    <div class=\"colab-df-buttons\">\n",
              "\n",
              "  <div class=\"colab-df-container\">\n",
              "    <button class=\"colab-df-convert\" onclick=\"convertToInteractive('df-618eb904-c68e-4289-b107-c02029cefd97')\"\n",
              "            title=\"Convert this dataframe to an interactive table.\"\n",
              "            style=\"display:none;\">\n",
              "\n",
              "  <svg xmlns=\"http://www.w3.org/2000/svg\" height=\"24px\" viewBox=\"0 -960 960 960\">\n",
              "    <path d=\"M120-120v-720h720v720H120Zm60-500h600v-160H180v160Zm220 220h160v-160H400v160Zm0 220h160v-160H400v160ZM180-400h160v-160H180v160Zm440 0h160v-160H620v160ZM180-180h160v-160H180v160Zm440 0h160v-160H620v160Z\"/>\n",
              "  </svg>\n",
              "    </button>\n",
              "\n",
              "  <style>\n",
              "    .colab-df-container {\n",
              "      display:flex;\n",
              "      gap: 12px;\n",
              "    }\n",
              "\n",
              "    .colab-df-convert {\n",
              "      background-color: #E8F0FE;\n",
              "      border: none;\n",
              "      border-radius: 50%;\n",
              "      cursor: pointer;\n",
              "      display: none;\n",
              "      fill: #1967D2;\n",
              "      height: 32px;\n",
              "      padding: 0 0 0 0;\n",
              "      width: 32px;\n",
              "    }\n",
              "\n",
              "    .colab-df-convert:hover {\n",
              "      background-color: #E2EBFA;\n",
              "      box-shadow: 0px 1px 2px rgba(60, 64, 67, 0.3), 0px 1px 3px 1px rgba(60, 64, 67, 0.15);\n",
              "      fill: #174EA6;\n",
              "    }\n",
              "\n",
              "    .colab-df-buttons div {\n",
              "      margin-bottom: 4px;\n",
              "    }\n",
              "\n",
              "    [theme=dark] .colab-df-convert {\n",
              "      background-color: #3B4455;\n",
              "      fill: #D2E3FC;\n",
              "    }\n",
              "\n",
              "    [theme=dark] .colab-df-convert:hover {\n",
              "      background-color: #434B5C;\n",
              "      box-shadow: 0px 1px 3px 1px rgba(0, 0, 0, 0.15);\n",
              "      filter: drop-shadow(0px 1px 2px rgba(0, 0, 0, 0.3));\n",
              "      fill: #FFFFFF;\n",
              "    }\n",
              "  </style>\n",
              "\n",
              "    <script>\n",
              "      const buttonEl =\n",
              "        document.querySelector('#df-618eb904-c68e-4289-b107-c02029cefd97 button.colab-df-convert');\n",
              "      buttonEl.style.display =\n",
              "        google.colab.kernel.accessAllowed ? 'block' : 'none';\n",
              "\n",
              "      async function convertToInteractive(key) {\n",
              "        const element = document.querySelector('#df-618eb904-c68e-4289-b107-c02029cefd97');\n",
              "        const dataTable =\n",
              "          await google.colab.kernel.invokeFunction('convertToInteractive',\n",
              "                                                    [key], {});\n",
              "        if (!dataTable) return;\n",
              "\n",
              "        const docLinkHtml = 'Like what you see? Visit the ' +\n",
              "          '<a target=\"_blank\" href=https://colab.research.google.com/notebooks/data_table.ipynb>data table notebook</a>'\n",
              "          + ' to learn more about interactive tables.';\n",
              "        element.innerHTML = '';\n",
              "        dataTable['output_type'] = 'display_data';\n",
              "        await google.colab.output.renderOutput(dataTable, element);\n",
              "        const docLink = document.createElement('div');\n",
              "        docLink.innerHTML = docLinkHtml;\n",
              "        element.appendChild(docLink);\n",
              "      }\n",
              "    </script>\n",
              "  </div>\n",
              "\n",
              "\n",
              "<div id=\"df-7dc5eaef-c2ac-4da9-bfa4-2dc928726c43\">\n",
              "  <button class=\"colab-df-quickchart\" onclick=\"quickchart('df-7dc5eaef-c2ac-4da9-bfa4-2dc928726c43')\"\n",
              "            title=\"Suggest charts\"\n",
              "            style=\"display:none;\">\n",
              "\n",
              "<svg xmlns=\"http://www.w3.org/2000/svg\" height=\"24px\"viewBox=\"0 0 24 24\"\n",
              "     width=\"24px\">\n",
              "    <g>\n",
              "        <path d=\"M19 3H5c-1.1 0-2 .9-2 2v14c0 1.1.9 2 2 2h14c1.1 0 2-.9 2-2V5c0-1.1-.9-2-2-2zM9 17H7v-7h2v7zm4 0h-2V7h2v10zm4 0h-2v-4h2v4z\"/>\n",
              "    </g>\n",
              "</svg>\n",
              "  </button>\n",
              "\n",
              "<style>\n",
              "  .colab-df-quickchart {\n",
              "      --bg-color: #E8F0FE;\n",
              "      --fill-color: #1967D2;\n",
              "      --hover-bg-color: #E2EBFA;\n",
              "      --hover-fill-color: #174EA6;\n",
              "      --disabled-fill-color: #AAA;\n",
              "      --disabled-bg-color: #DDD;\n",
              "  }\n",
              "\n",
              "  [theme=dark] .colab-df-quickchart {\n",
              "      --bg-color: #3B4455;\n",
              "      --fill-color: #D2E3FC;\n",
              "      --hover-bg-color: #434B5C;\n",
              "      --hover-fill-color: #FFFFFF;\n",
              "      --disabled-bg-color: #3B4455;\n",
              "      --disabled-fill-color: #666;\n",
              "  }\n",
              "\n",
              "  .colab-df-quickchart {\n",
              "    background-color: var(--bg-color);\n",
              "    border: none;\n",
              "    border-radius: 50%;\n",
              "    cursor: pointer;\n",
              "    display: none;\n",
              "    fill: var(--fill-color);\n",
              "    height: 32px;\n",
              "    padding: 0;\n",
              "    width: 32px;\n",
              "  }\n",
              "\n",
              "  .colab-df-quickchart:hover {\n",
              "    background-color: var(--hover-bg-color);\n",
              "    box-shadow: 0 1px 2px rgba(60, 64, 67, 0.3), 0 1px 3px 1px rgba(60, 64, 67, 0.15);\n",
              "    fill: var(--button-hover-fill-color);\n",
              "  }\n",
              "\n",
              "  .colab-df-quickchart-complete:disabled,\n",
              "  .colab-df-quickchart-complete:disabled:hover {\n",
              "    background-color: var(--disabled-bg-color);\n",
              "    fill: var(--disabled-fill-color);\n",
              "    box-shadow: none;\n",
              "  }\n",
              "\n",
              "  .colab-df-spinner {\n",
              "    border: 2px solid var(--fill-color);\n",
              "    border-color: transparent;\n",
              "    border-bottom-color: var(--fill-color);\n",
              "    animation:\n",
              "      spin 1s steps(1) infinite;\n",
              "  }\n",
              "\n",
              "  @keyframes spin {\n",
              "    0% {\n",
              "      border-color: transparent;\n",
              "      border-bottom-color: var(--fill-color);\n",
              "      border-left-color: var(--fill-color);\n",
              "    }\n",
              "    20% {\n",
              "      border-color: transparent;\n",
              "      border-left-color: var(--fill-color);\n",
              "      border-top-color: var(--fill-color);\n",
              "    }\n",
              "    30% {\n",
              "      border-color: transparent;\n",
              "      border-left-color: var(--fill-color);\n",
              "      border-top-color: var(--fill-color);\n",
              "      border-right-color: var(--fill-color);\n",
              "    }\n",
              "    40% {\n",
              "      border-color: transparent;\n",
              "      border-right-color: var(--fill-color);\n",
              "      border-top-color: var(--fill-color);\n",
              "    }\n",
              "    60% {\n",
              "      border-color: transparent;\n",
              "      border-right-color: var(--fill-color);\n",
              "    }\n",
              "    80% {\n",
              "      border-color: transparent;\n",
              "      border-right-color: var(--fill-color);\n",
              "      border-bottom-color: var(--fill-color);\n",
              "    }\n",
              "    90% {\n",
              "      border-color: transparent;\n",
              "      border-bottom-color: var(--fill-color);\n",
              "    }\n",
              "  }\n",
              "</style>\n",
              "\n",
              "  <script>\n",
              "    async function quickchart(key) {\n",
              "      const quickchartButtonEl =\n",
              "        document.querySelector('#' + key + ' button');\n",
              "      quickchartButtonEl.disabled = true;  // To prevent multiple clicks.\n",
              "      quickchartButtonEl.classList.add('colab-df-spinner');\n",
              "      try {\n",
              "        const charts = await google.colab.kernel.invokeFunction(\n",
              "            'suggestCharts', [key], {});\n",
              "      } catch (error) {\n",
              "        console.error('Error during call to suggestCharts:', error);\n",
              "      }\n",
              "      quickchartButtonEl.classList.remove('colab-df-spinner');\n",
              "      quickchartButtonEl.classList.add('colab-df-quickchart-complete');\n",
              "    }\n",
              "    (() => {\n",
              "      let quickchartButtonEl =\n",
              "        document.querySelector('#df-7dc5eaef-c2ac-4da9-bfa4-2dc928726c43 button');\n",
              "      quickchartButtonEl.style.display =\n",
              "        google.colab.kernel.accessAllowed ? 'block' : 'none';\n",
              "    })();\n",
              "  </script>\n",
              "</div>\n",
              "\n",
              "  <div id=\"id_970d1dba-72e2-4f0c-a404-a8336957e59b\">\n",
              "    <style>\n",
              "      .colab-df-generate {\n",
              "        background-color: #E8F0FE;\n",
              "        border: none;\n",
              "        border-radius: 50%;\n",
              "        cursor: pointer;\n",
              "        display: none;\n",
              "        fill: #1967D2;\n",
              "        height: 32px;\n",
              "        padding: 0 0 0 0;\n",
              "        width: 32px;\n",
              "      }\n",
              "\n",
              "      .colab-df-generate:hover {\n",
              "        background-color: #E2EBFA;\n",
              "        box-shadow: 0px 1px 2px rgba(60, 64, 67, 0.3), 0px 1px 3px 1px rgba(60, 64, 67, 0.15);\n",
              "        fill: #174EA6;\n",
              "      }\n",
              "\n",
              "      [theme=dark] .colab-df-generate {\n",
              "        background-color: #3B4455;\n",
              "        fill: #D2E3FC;\n",
              "      }\n",
              "\n",
              "      [theme=dark] .colab-df-generate:hover {\n",
              "        background-color: #434B5C;\n",
              "        box-shadow: 0px 1px 3px 1px rgba(0, 0, 0, 0.15);\n",
              "        filter: drop-shadow(0px 1px 2px rgba(0, 0, 0, 0.3));\n",
              "        fill: #FFFFFF;\n",
              "      }\n",
              "    </style>\n",
              "    <button class=\"colab-df-generate\" onclick=\"generateWithVariable('Device_Split')\"\n",
              "            title=\"Generate code using this dataframe.\"\n",
              "            style=\"display:none;\">\n",
              "\n",
              "  <svg xmlns=\"http://www.w3.org/2000/svg\" height=\"24px\"viewBox=\"0 0 24 24\"\n",
              "       width=\"24px\">\n",
              "    <path d=\"M7,19H8.4L18.45,9,17,7.55,7,17.6ZM5,21V16.75L18.45,3.32a2,2,0,0,1,2.83,0l1.4,1.43a1.91,1.91,0,0,1,.58,1.4,1.91,1.91,0,0,1-.58,1.4L9.25,21ZM18.45,9,17,7.55Zm-12,3A5.31,5.31,0,0,0,4.9,8.1,5.31,5.31,0,0,0,1,6.5,5.31,5.31,0,0,0,4.9,4.9,5.31,5.31,0,0,0,6.5,1,5.31,5.31,0,0,0,8.1,4.9,5.31,5.31,0,0,0,12,6.5,5.46,5.46,0,0,0,6.5,12Z\"/>\n",
              "  </svg>\n",
              "    </button>\n",
              "    <script>\n",
              "      (() => {\n",
              "      const buttonEl =\n",
              "        document.querySelector('#id_970d1dba-72e2-4f0c-a404-a8336957e59b button.colab-df-generate');\n",
              "      buttonEl.style.display =\n",
              "        google.colab.kernel.accessAllowed ? 'block' : 'none';\n",
              "\n",
              "      buttonEl.onclick = () => {\n",
              "        google.colab.notebook.generateWithVariable('Device_Split');\n",
              "      }\n",
              "      })();\n",
              "    </script>\n",
              "  </div>\n",
              "\n",
              "    </div>\n",
              "  </div>\n"
            ],
            "application/vnd.google.colaboratory.intrinsic+json": {
              "type": "dataframe",
              "variable_name": "Device_Split",
              "summary": "{\n  \"name\": \"Device_Split\",\n  \"rows\": 2,\n  \"fields\": [\n    {\n      \"column\": [\n        \"Model\\\\Attribute\",\n        \"\",\n        \"\"\n      ],\n      \"properties\": {\n        \"dtype\": \"string\",\n        \"num_unique_values\": 2,\n        \"samples\": [\n          \"FullHyperIQA\",\n          \"SemHyperIQA\"\n        ],\n        \"semantic_type\": \"\",\n        \"description\": \"\"\n      }\n    },\n    {\n      \"column\": [\n        \"Device Split\",\n        \"Details\",\n        \"SROCC\"\n      ],\n      \"properties\": {\n        \"dtype\": \"number\",\n        \"std\": 0.0018148321819287652,\n        \"min\": 0.8098206906796929,\n        \"max\": 0.8123872509648077,\n        \"num_unique_values\": 2,\n        \"samples\": [\n          0.8123872509648077,\n          0.8098206906796929\n        ],\n        \"semantic_type\": \"\",\n        \"description\": \"\"\n      }\n    },\n    {\n      \"column\": [\n        \"Device Split\",\n        \"Details\",\n        \"PLCC\"\n      ],\n      \"properties\": {\n        \"dtype\": \"number\",\n        \"std\": 0.0002068327941129087,\n        \"min\": 0.8174008261237455,\n        \"max\": 0.8176933318663235,\n        \"num_unique_values\": 2,\n        \"samples\": [\n          0.8174008261237455,\n          0.8176933318663235\n        ],\n        \"semantic_type\": \"\",\n        \"description\": \"\"\n      }\n    },\n    {\n      \"column\": [\n        \"Device Split\",\n        \"Details\",\n        \"KROCC\"\n      ],\n      \"properties\": {\n        \"dtype\": \"number\",\n        \"std\": 0.0022779664389743245,\n        \"min\": 0.6189243938191107,\n        \"max\": 0.6221459248517389,\n        \"num_unique_values\": 2,\n        \"samples\": [\n          0.6221459248517389,\n          0.6189243938191107\n        ],\n        \"semantic_type\": \"\",\n        \"description\": \"\"\n      }\n    },\n    {\n      \"column\": [\n        \"Device Split\",\n        \"Details\",\n        \"MAE\"\n      ],\n      \"properties\": {\n        \"dtype\": \"number\",\n        \"std\": 0.032718296354583745,\n        \"min\": 0.622637875772766,\n        \"max\": 0.6689085342151605,\n        \"num_unique_values\": 2,\n        \"samples\": [\n          0.622637875772766,\n          0.6689085342151605\n        ],\n        \"semantic_type\": \"\",\n        \"description\": \"\"\n      }\n    },\n    {\n      \"column\": [\n        \"Device Split\",\n        \"Exposure\",\n        \"SROCC\"\n      ],\n      \"properties\": {\n        \"dtype\": \"number\",\n        \"std\": 0.0018148321819287652,\n        \"min\": 0.8098206906796929,\n        \"max\": 0.8123872509648077,\n        \"num_unique_values\": 2,\n        \"samples\": [\n          0.8123872509648077,\n          0.8098206906796929\n        ],\n        \"semantic_type\": \"\",\n        \"description\": \"\"\n      }\n    },\n    {\n      \"column\": [\n        \"Device Split\",\n        \"Exposure\",\n        \"PLCC\"\n      ],\n      \"properties\": {\n        \"dtype\": \"number\",\n        \"std\": 0.0002068327941129087,\n        \"min\": 0.8174008261237455,\n        \"max\": 0.8176933318663235,\n        \"num_unique_values\": 2,\n        \"samples\": [\n          0.8174008261237455,\n          0.8176933318663235\n        ],\n        \"semantic_type\": \"\",\n        \"description\": \"\"\n      }\n    },\n    {\n      \"column\": [\n        \"Device Split\",\n        \"Exposure\",\n        \"KROCC\"\n      ],\n      \"properties\": {\n        \"dtype\": \"number\",\n        \"std\": 0.0022779664389743245,\n        \"min\": 0.6189243938191107,\n        \"max\": 0.6221459248517389,\n        \"num_unique_values\": 2,\n        \"samples\": [\n          0.6221459248517389,\n          0.6189243938191107\n        ],\n        \"semantic_type\": \"\",\n        \"description\": \"\"\n      }\n    },\n    {\n      \"column\": [\n        \"Device Split\",\n        \"Exposure\",\n        \"MAE\"\n      ],\n      \"properties\": {\n        \"dtype\": \"number\",\n        \"std\": 0.032718296354583745,\n        \"min\": 0.622637875772766,\n        \"max\": 0.6689085342151605,\n        \"num_unique_values\": 2,\n        \"samples\": [\n          0.622637875772766,\n          0.6689085342151605\n        ],\n        \"semantic_type\": \"\",\n        \"description\": \"\"\n      }\n    },\n    {\n      \"column\": [\n        \"Device Split\",\n        \"Overall\",\n        \"SROCC\"\n      ],\n      \"properties\": {\n        \"dtype\": \"number\",\n        \"std\": 0.0018148321819287652,\n        \"min\": 0.8098206906796929,\n        \"max\": 0.8123872509648077,\n        \"num_unique_values\": 2,\n        \"samples\": [\n          0.8123872509648077,\n          0.8098206906796929\n        ],\n        \"semantic_type\": \"\",\n        \"description\": \"\"\n      }\n    },\n    {\n      \"column\": [\n        \"Device Split\",\n        \"Overall\",\n        \"PLCC\"\n      ],\n      \"properties\": {\n        \"dtype\": \"number\",\n        \"std\": 0.0002068327941129087,\n        \"min\": 0.8174008261237455,\n        \"max\": 0.8176933318663235,\n        \"num_unique_values\": 2,\n        \"samples\": [\n          0.8174008261237455,\n          0.8176933318663235\n        ],\n        \"semantic_type\": \"\",\n        \"description\": \"\"\n      }\n    },\n    {\n      \"column\": [\n        \"Device Split\",\n        \"Overall\",\n        \"KROCC\"\n      ],\n      \"properties\": {\n        \"dtype\": \"number\",\n        \"std\": 0.0022779664389743245,\n        \"min\": 0.6189243938191107,\n        \"max\": 0.6221459248517389,\n        \"num_unique_values\": 2,\n        \"samples\": [\n          0.6221459248517389,\n          0.6189243938191107\n        ],\n        \"semantic_type\": \"\",\n        \"description\": \"\"\n      }\n    },\n    {\n      \"column\": [\n        \"Device Split\",\n        \"Overall\",\n        \"MAE\"\n      ],\n      \"properties\": {\n        \"dtype\": \"number\",\n        \"std\": 0.032718296354583745,\n        \"min\": 0.622637875772766,\n        \"max\": 0.6689085342151605,\n        \"num_unique_values\": 2,\n        \"samples\": [\n          0.622637875772766,\n          0.6689085342151605\n        ],\n        \"semantic_type\": \"\",\n        \"description\": \"\"\n      }\n    }\n  ]\n}"
            }
          },
          "metadata": {},
          "execution_count": 89
        }
      ]
    },
    {
      "cell_type": "code",
      "source": [
        "import matplotlib.pyplot as plt\n",
        "import pandas as pd\n",
        "\n",
        "# Verileri bir DataFrame olarak oluşturun\n",
        "data = {\n",
        "    'Model': ['SemHyperIQA', 'FullHyperIQA'],\n",
        "    'Details_SROCC': [0.809821, 0.812387],\n",
        "    'Details_PLCC': [0.817693, 0.817401],\n",
        "    'Details_KROCC': [0.618924, 0.622146],\n",
        "    'Details_MAE': [0.668909, 0.622638],\n",
        "    'Exposure_SROCC': [0.809821, 0.812387],\n",
        "    'Exposure_PLCC': [0.817693, 0.817401],\n",
        "    'Exposure_KROCC': [0.618924, 0.622146],\n",
        "    'Exposure_MAE': [0.668909, 0.622638],\n",
        "    'Overall_SROCC': [0.809821, 0.812387],\n",
        "    'Overall_PLCC': [0.817693, 0.817401],\n",
        "    'Overall_KROCC': [0.618924, 0.622146],\n",
        "    'Overall_MAE': [0.668909, 0.622638]\n",
        "}\n",
        "\n",
        "df = pd.DataFrame(data)\n",
        "\n",
        "# Soft renk paleti\n",
        "colors = ['#657b9b', '#44a0a0', '#65c282', '#5b8a3c']\n",
        "\n",
        "# Bar chart oluşturma\n",
        "metrics = ['SROCC', 'PLCC', 'KROCC', 'MAE']\n",
        "categories = ['Details', 'Exposure', 'Overall']\n",
        "\n",
        "fig, axes = plt.subplots(nrows=1, ncols=len(categories), figsize=(18, 6), sharey=True)\n",
        "\n",
        "for i, category in enumerate(categories):\n",
        "    ax = axes[i]\n",
        "    x = df['Model']\n",
        "    width = 0.2  # Bar genişliği\n",
        "    positions = range(len(df))\n",
        "\n",
        "    for j, metric in enumerate(metrics):\n",
        "        ax.bar([p + j * width for p in positions], df[f'{category}_{metric}'], width=width, label=metric, color=colors[j])\n",
        "\n",
        "    ax.set_title(category)\n",
        "    ax.set_xlabel('Model')\n",
        "    ax.set_xticks([p + 1.5 * width for p in positions])\n",
        "    ax.set_xticklabels(df['Model'])\n",
        "    if i == 0:\n",
        "        ax.set_ylabel('Value')\n",
        "    ax.legend()\n",
        "\n",
        "plt.tight_layout()\n",
        "plt.show()\n"
      ],
      "metadata": {
        "colab": {
          "base_uri": "https://localhost:8080/",
          "height": 430
        },
        "id": "ELNmBbvS3IH8",
        "outputId": "fc6f1508-5642-4a0f-bcba-1f7fbe090ce6"
      },
      "execution_count": null,
      "outputs": [
        {
          "output_type": "display_data",
          "data": {
            "text/plain": [
              "<Figure size 1800x600 with 3 Axes>"
            ],
            "image/png": "[encoded data removed]"
          },
          "metadata": {}
        }
      ]
    },
    {
      "cell_type": "code",
      "source": [
        "import matplotlib.pyplot as plt\n",
        "\n",
        "def plot_results(results, title):\n",
        "    plt.figure(figsize=(10, 5))\n",
        "    plt.scatter(results['Actual'], results['Predicted'], alpha=0.5)\n",
        "    plt.plot([results['Actual'].min(), results['Actual'].max()],\n",
        "             [results['Actual'].min(), results['Actual'].max()],\n",
        "             'r--', lw=2)\n",
        "    plt.xlabel('Actual')\n",
        "    plt.ylabel('Predicted')\n",
        "    plt.title(title)\n",
        "    plt.show()\n",
        "\n",
        "plot_results(SEM_HyperIQA, 'SEM_HyperIQA_SO Results')\n",
        "plot_results(SEM_HyperIQA, 'SEM_HyperIQA_CO Results')"
      ],
      "metadata": {
        "id": "-JBI5YsehkU3"
      },
      "execution_count": null,
      "outputs": []
    },
    {
      "cell_type": "code",
      "source": [],
      "metadata": {
        "id": "InW68dN8hkbZ"
      },
      "execution_count": null,
      "outputs": []
    },
    {
      "cell_type": "code",
      "source": [],
      "metadata": {
        "id": "fIjouW6phkgz"
      },
      "execution_count": null,
      "outputs": []
    },
    {
      "cell_type": "code",
      "source": [
        "import torch.optim as optim\n",
        "import torch.nn as nn\n",
        "from torch.utils.data import DataLoader\n",
        "\n",
        "# Model, kayıp fonksiyonu ve optimizer tanımlama\n",
        "model = SEM_HyperIQA_SO(patch_size=224, hyper_net_pretrained=None)\n",
        "criterion = nn.MSELoss()\n",
        "optimizer = optim.Adam(model.parameters(), lr=1e-4)\n",
        "\n",
        "# CUDA veya CPU kullanımı\n",
        "device = torch.device(\"cuda\" if torch.cuda.is_available() else \"cpu\")\n",
        "model.to(device)\n",
        "\n",
        "# Eğitim döngüsü\n",
        "def train_model(model, criterion, optimizer, train_loader, num_epochs=25):\n",
        "    model.train()\n",
        "    for epoch in range(num_epochs):\n",
        "        running_loss = 0.0\n",
        "        for images, labels in train_loader:\n",
        "            images, labels = images.to(device), labels.to(device)\n",
        "\n",
        "            optimizer.zero_grad()\n",
        "\n",
        "            outputs = model(images)\n",
        "            loss = criterion(outputs['quality'], labels)\n",
        "            loss.backward()\n",
        "            optimizer.step()\n",
        "\n",
        "            running_loss += loss.item() * images.size(0)\n",
        "\n",
        "        epoch_loss = running_loss / len(train_loader.dataset)\n",
        "        print(f'Epoch {epoch+1}/{num_epochs}, Loss: {epoch_loss:.4f}')\n",
        "\n",
        "    print('Eğitim tamamlandı')\n",
        "    return model\n"
      ],
      "metadata": {
        "colab": {
          "base_uri": "https://localhost:8080/"
        },
        "id": "IFVJhEc3qwOi",
        "outputId": "4cd81e5e-655e-47fc-b626-e495d4e53603"
      },
      "execution_count": null,
      "outputs": [
        {
          "output_type": "stream",
          "name": "stdout",
          "text": [
            "Downloading: \"https://download.pytorch.org/models/resnet50-19c8e357.pth\" to /root/.cache/torch/hub/checkpoints/resnet50-19c8e357.pth\n",
            "\n"
          ]
        },
        {
          "output_type": "stream",
          "name": "stderr",
          "text": [
            "100%|██████████| 97.8M/97.8M [00:00<00:00, 177MB/s]\n"
          ]
        }
      ]
    },
    {
      "cell_type": "code",
      "source": [
        "sem_hyperiqa = SemHyperIQA(patchSize=224, hyperNetPretrained=None)\n",
        "full_hyperiqa = FullHyperIQA(patchSize=224, hyperNetPretrained=None)\n",
        "sem_hyperiqa_SO = SEM_HyperIQA_SO(patch_size=224, hyper_net_pretrained=None)\n",
        "\n",
        "\n",
        "sem_hyperiqa_SE_S = '/content/drive/MyDrive/SemHyperIQA_SE_D.pth'\n",
        "full_hyperiqa_SE_S = '/content/drive/MyDrive/FullHyperIQA_model_device.pth'\n",
        "sem_hyperiqa_SE_D = '/content/drive/MyDrive/saved_model3.pth'\n",
        "full_hyperiqa_SE_D = '/content/drive/MyDrive/FullHyperIQA_model_device.pth'\n",
        "\n",
        "sem_hyperiqa_SD_S = '/content/drive/MyDrive/SemHyperIQA_SD_S.pth'\n",
        "full_hyperiqa_SD_S = '/content/drive/MyDrive/FullHyperIQA_SD_S.pth'\n",
        "sem_hyperiqa_SD_D = '/content/drive/MyDrive/SemHyperIQA_SD_D.pth'\n",
        "full_hyperiqa_SD_D = '/content/drive/MyDrive/FullHyperIQA_SD_D.pth'\n",
        "\n",
        "sem_hyperiqa_SO_S = '/content/drive/MyDrive/SemHyperIQA_SO_S.pth'\n",
        "full_hyperiqa_SO_S = '/content/drive/MyDrive/FullHyperIQA_SO_S.pth'\n",
        "sem_hyperiqa_SO_D = '/content/drive/MyDrive/SemHyperIQA_SO_D.pth'\n",
        "full_hyperiqa_SO_D = '/content/drive/MyDrive/FullHyperIQA_SO_D.pth'\n",
        "\n",
        "sem_hyperiqa.load_state_dict(torch.load(sem_hyperiqa_SE_S))\n",
        "sem\n",
        "full_hyperiqa.load_state_dict(torch.load(full_hyperiqa_SE_S))\n",
        "sem_hyperiqa.load_state_dict(torch.load(sem_hyperiqa_SE_D))\n",
        "full_hyperiqa.load_state_dict(torch.load(full_hyperiqa_SE_D))\n",
        "\n",
        "\n",
        "sem_hyperiqa.eval()\n",
        "full_hyperiqa.eval()\n",
        "SEM_HyperIQA_SO.eval()\n"
      ],
      "metadata": {
        "colab": {
          "base_uri": "https://localhost:8080/",
          "height": 356
        },
        "id": "39y79DR17dvp",
        "outputId": "8c3c59a6-d569-4ee7-93d1-480bfd2fe176"
      },
      "execution_count": null,
      "outputs": [
        {
          "output_type": "error",
          "ename": "TypeError",
          "evalue": "SEM_HyperIQA_CO.forward() got an unexpected keyword argument 'patch_size'",
          "traceback": [
            "\u001b[0;31m---------------------------------------------------------------------------\u001b[0m",
            "\u001b[0;31mTypeError\u001b[0m                                 Traceback (most recent call last)",
            "\u001b[0;32m<ipython-input-103-89075368d158>\u001b[0m in \u001b[0;36m<cell line: 4>\u001b[0;34m()\u001b[0m\n\u001b[1;32m      2\u001b[0m \u001b[0mfull_hyperiqa\u001b[0m \u001b[0;34m=\u001b[0m \u001b[0mFullHyperIQA\u001b[0m\u001b[0;34m(\u001b[0m\u001b[0mpatchSize\u001b[0m\u001b[0;34m=\u001b[0m\u001b[0;36m224\u001b[0m\u001b[0;34m,\u001b[0m \u001b[0mhyperNetPretrained\u001b[0m\u001b[0;34m=\u001b[0m\u001b[0;32mNone\u001b[0m\u001b[0;34m)\u001b[0m\u001b[0;34m\u001b[0m\u001b[0;34m\u001b[0m\u001b[0m\n\u001b[1;32m      3\u001b[0m \u001b[0msem_hyperiqa_SO\u001b[0m \u001b[0;34m=\u001b[0m \u001b[0mSEM_HyperIQA_SO\u001b[0m\u001b[0;34m(\u001b[0m\u001b[0mpatch_size\u001b[0m\u001b[0;34m=\u001b[0m\u001b[0;36m224\u001b[0m\u001b[0;34m,\u001b[0m \u001b[0mhyper_net_pretrained\u001b[0m\u001b[0;34m=\u001b[0m\u001b[0;32mNone\u001b[0m\u001b[0;34m)\u001b[0m\u001b[0;34m\u001b[0m\u001b[0;34m\u001b[0m\u001b[0m\n\u001b[0;32m----> 4\u001b[0;31m \u001b[0mSEM_HyperIQA_CO\u001b[0m \u001b[0;34m=\u001b[0m \u001b[0mSEM_HyperIQA_CO\u001b[0m\u001b[0;34m(\u001b[0m\u001b[0mpatch_size\u001b[0m\u001b[0;34m=\u001b[0m\u001b[0;36m224\u001b[0m\u001b[0;34m,\u001b[0m \u001b[0mhyper_net_pretrained\u001b[0m\u001b[0;34m=\u001b[0m\u001b[0;32mNone\u001b[0m\u001b[0;34m)\u001b[0m\u001b[0;34m\u001b[0m\u001b[0;34m\u001b[0m\u001b[0m\n\u001b[0m\u001b[1;32m      5\u001b[0m \u001b[0;34m\u001b[0m\u001b[0m\n\u001b[1;32m      6\u001b[0m \u001b[0;34m\u001b[0m\u001b[0m\n",
            "\u001b[0;32m/usr/local/lib/python3.10/dist-packages/torch/nn/modules/module.py\u001b[0m in \u001b[0;36m_wrapped_call_impl\u001b[0;34m(self, *args, **kwargs)\u001b[0m\n\u001b[1;32m   1509\u001b[0m             \u001b[0;32mreturn\u001b[0m \u001b[0mself\u001b[0m\u001b[0;34m.\u001b[0m\u001b[0m_compiled_call_impl\u001b[0m\u001b[0;34m(\u001b[0m\u001b[0;34m*\u001b[0m\u001b[0margs\u001b[0m\u001b[0;34m,\u001b[0m \u001b[0;34m**\u001b[0m\u001b[0mkwargs\u001b[0m\u001b[0;34m)\u001b[0m  \u001b[0;31m# type: ignore[misc]\u001b[0m\u001b[0;34m\u001b[0m\u001b[0;34m\u001b[0m\u001b[0m\n\u001b[1;32m   1510\u001b[0m         \u001b[0;32melse\u001b[0m\u001b[0;34m:\u001b[0m\u001b[0;34m\u001b[0m\u001b[0;34m\u001b[0m\u001b[0m\n\u001b[0;32m-> 1511\u001b[0;31m             \u001b[0;32mreturn\u001b[0m \u001b[0mself\u001b[0m\u001b[0;34m.\u001b[0m\u001b[0m_call_impl\u001b[0m\u001b[0;34m(\u001b[0m\u001b[0;34m*\u001b[0m\u001b[0margs\u001b[0m\u001b[0;34m,\u001b[0m \u001b[0;34m**\u001b[0m\u001b[0mkwargs\u001b[0m\u001b[0;34m)\u001b[0m\u001b[0;34m\u001b[0m\u001b[0;34m\u001b[0m\u001b[0m\n\u001b[0m\u001b[1;32m   1512\u001b[0m \u001b[0;34m\u001b[0m\u001b[0m\n\u001b[1;32m   1513\u001b[0m     \u001b[0;32mdef\u001b[0m \u001b[0m_call_impl\u001b[0m\u001b[0;34m(\u001b[0m\u001b[0mself\u001b[0m\u001b[0;34m,\u001b[0m \u001b[0;34m*\u001b[0m\u001b[0margs\u001b[0m\u001b[0;34m,\u001b[0m \u001b[0;34m**\u001b[0m\u001b[0mkwargs\u001b[0m\u001b[0;34m)\u001b[0m\u001b[0;34m:\u001b[0m\u001b[0;34m\u001b[0m\u001b[0;34m\u001b[0m\u001b[0m\n",
            "\u001b[0;32m/usr/local/lib/python3.10/dist-packages/torch/nn/modules/module.py\u001b[0m in \u001b[0;36m_call_impl\u001b[0;34m(self, *args, **kwargs)\u001b[0m\n\u001b[1;32m   1518\u001b[0m                 \u001b[0;32mor\u001b[0m \u001b[0m_global_backward_pre_hooks\u001b[0m \u001b[0;32mor\u001b[0m \u001b[0m_global_backward_hooks\u001b[0m\u001b[0;34m\u001b[0m\u001b[0;34m\u001b[0m\u001b[0m\n\u001b[1;32m   1519\u001b[0m                 or _global_forward_hooks or _global_forward_pre_hooks):\n\u001b[0;32m-> 1520\u001b[0;31m             \u001b[0;32mreturn\u001b[0m \u001b[0mforward_call\u001b[0m\u001b[0;34m(\u001b[0m\u001b[0;34m*\u001b[0m\u001b[0margs\u001b[0m\u001b[0;34m,\u001b[0m \u001b[0;34m**\u001b[0m\u001b[0mkwargs\u001b[0m\u001b[0;34m)\u001b[0m\u001b[0;34m\u001b[0m\u001b[0;34m\u001b[0m\u001b[0m\n\u001b[0m\u001b[1;32m   1521\u001b[0m \u001b[0;34m\u001b[0m\u001b[0m\n\u001b[1;32m   1522\u001b[0m         \u001b[0;32mtry\u001b[0m\u001b[0;34m:\u001b[0m\u001b[0;34m\u001b[0m\u001b[0;34m\u001b[0m\u001b[0m\n",
            "\u001b[0;31mTypeError\u001b[0m: SEM_HyperIQA_CO.forward() got an unexpected keyword argument 'patch_size'"
          ]
        }
      ]
    },
    {
      "cell_type": "code",
      "source": [
        "import numpy as np\n",
        "from scipy.stats import spearmanr, pearsonr, kendalltau\n",
        "from sklearn.metrics import mean_absolute_error\n",
        "\n",
        "def calculate_metrics(predictions, targets):\n",
        "    srocc, _ = spearmanr(predictions, targets)\n",
        "    plcc, _ = pearsonr(predictions, targets)\n",
        "    krocc, _ = kendalltau(predictions, targets)\n",
        "    mea = mean_absolute_error(predictions, targets)\n",
        "    return srocc, plcc, krocc, mea"
      ],
      "metadata": {
        "id": "gA3uXye28DDO"
      },
      "execution_count": null,
      "outputs": []
    },
    {
      "cell_type": "code",
      "source": [
        "testDfPath = \"/content/drive/MyDrive/Dataset/device_split_test.csv\"\n",
        "testDf = pd.read_csv(testDfPath)\n",
        "\n",
        "transform = Compose([\n",
        "    Resize((224, 224)),\n",
        "    ToTensor(),\n",
        "    Normalize(mean=[0.485, 0.456, 0.406], std=[0.229, 0.224, 0.225]),\n",
        "])\n",
        "\n",
        "test_dataset = CustomDataset(testDf, transform=transform)\n",
        "test_loader = DataLoader(test_dataset, batch_size=1, shuffle=False)\n",
        "\n",
        "sem_hyperiqa_predictions = []\n",
        "full_hyperiqa_predictions = []\n",
        "sem_hyperiqa_SO_predictions = []\n",
        "sem_hyperiqa_CO_predictions = []\n",
        "true_values = []\n",
        "\n",
        "with torch.no_grad():\n",
        "  for images, labels in test_loader:\n",
        "    sem_hyperiqa_outputs = sem_hyperiqa(images)\n",
        "    full_hyperiqa_outputs = full_hyperiqa(images)\n",
        "\n",
        "    sem_hyperiqa_predictions.append(sem_hyperiqa_outputs['quality'].item())\n",
        "    full_hyperiqa_predictions.append(full_hyperiqa_outputs['quality'].item())\n",
        "    sem_hyperiqa_SO_predictions.append(SEM_HyperIQA_SO['quality'].item())\n",
        "    sem_hyperiqa_CO_predictions.append(SEM_HyperIQA_CO['quality'].item())\n",
        "    true_values.append(labels.item())"
      ],
      "metadata": {
        "id": "xKgkY5qr8GkH"
      },
      "execution_count": null,
      "outputs": []
    },
    {
      "cell_type": "code",
      "source": [
        "sem_hyperiqa_metrics = calculate_metrics(sem_hyperiqa_predictions, true_values)\n",
        "full_hyperiqa_metrics = calculate_metrics(full_hyperiqa_predictions, true_values)\n",
        "sem_hyperiqa_SO_metrics = calculate_metrics(sem_hyperiqa_SO_predictions, true_values)\n",
        "sem_hyperiqa_CO_metrics = calculate_metrics(sem_hyperiqa_CO_predictions, true_values)\n",
        "\n",
        "print(f\"SemHyperIQA Metrics: {sem_hyperiqa_metrics}\")\n",
        "print(f\"FullHyperIQA Metrics: {full_hyperiqa_metrics}\")\n",
        "print(f\"SEM_HyperIQA_SO Metrics: {sem_hyperiqa_SO_metrics}\")\n",
        "print(f\"SEM_HyperIQA_CO Metrics: {sem_hyperiqa_CO_metrics}\")"
      ],
      "metadata": {
        "id": "zIlcBxIp8Jfr"
      },
      "execution_count": null,
      "outputs": []
    },
    {
      "cell_type": "code",
      "source": [
        "data = {\n",
        "    ('Details', 'SROCC'): [sem_hyperiqa_metrics[0], full_hyperiqa_metrics[0], sem_hyperiqa_SO_metrics[0], sem_hyperiqa_CO_metrics[0]],\n",
        "    ('Details', 'PLCC'): [sem_hyperiqa_metrics[1], full_hyperiqa_metrics[1], sem_hyperiqa_SO_metrics[1], sem_hyperiqa_CO_metrics[1]],\n",
        "    ('Details', 'KROCC'): [sem_hyperiqa_metrics[2], full_hyperiqa_metrics[2], sem_hyperiqa_SO_metrics[2], sem_hyperiqa_CO_metrics[2]],\n",
        "    ('Details', 'MAE'): [sem_hyperiqa_metrics[3], full_hyperiqa_metrics[3], sem_hyperiqa_SO_metrics[3], sem_hyperiqa_CO_metrics[3]],\n",
        "    ('Exposure', 'SROCC'): [sem_hyperiqa_metrics[0], full_hyperiqa_metrics[0], sem_hyperiqa_SO_metrics[0], sem_hyperiqa_CO_metrics[0]],  # Hypothetical, needs actual values\n",
        "    ('Exposure', 'PLCC'): [sem_hyperiqa_metrics[1], full_hyperiqa_metrics[1], sem_hyperiqa_SO_metrics[1], sem_hyperiqa_CO_metrics[1]],  # Hypothetical, needs actual values\n",
        "    ('Exposure', 'KROCC'): [sem_hyperiqa_metrics[2], full_hyperiqa_metrics[2], sem_hyperiqa_SO_metrics[2], sem_hyperiqa_CO_metrics[2]],  # Hypothetical, needs actual values\n",
        "    ('Exposure', 'MAE'): [sem_hyperiqa_metrics[3], full_hyperiqa_metrics[3], sem_hyperiqa_SO_metrics[3], sem_hyperiqa_CO_metrics[3]],  # Hypothetical, needs actual values\n",
        "    ('Overall', 'SROCC'): [sem_hyperiqa_metrics[0], full_hyperiqa_metrics[0], sem_hyperiqa_SO_metrics[0], sem_hyperiqa_CO_metrics[0]],  # Hypothetical, needs actual values\n",
        "    ('Overall', 'PLCC'): [sem_hyperiqa_metrics[1], full_hyperiqa_metrics[1], sem_hyperiqa_SO_metrics[1], sem_hyperiqa_CO_metrics[1]],  # Hypothetical, needs actual values\n",
        "    ('Overall', 'KROCC'): [sem_hyperiqa_metrics[2], full_hyperiqa_metrics[2], sem_hyperiqa_SO_metrics[2], sem_hyperiqa_CO_metrics[2]],  # Hypothetical, needs actual values\n",
        "    ('Overall', 'MAE'): [sem_hyperiqa_metrics[3], full_hyperiqa_metrics[3], sem_hyperiqa_SO_metrics[3], sem_hyperiqa_CO_metrics[3]],  # Hypothetical, needs actual values\n",
        "}\n",
        "\n",
        "# Çok katmanlı sütun başlıkları oluşturma\n",
        "columns = pd.MultiIndex.from_tuples([\n",
        "    ('Device Split', 'Details', 'SROCC'),\n",
        "    ('Device Split', 'Details', 'PLCC'),\n",
        "    ('Device Split', 'Details', 'KROCC'),\n",
        "    ('Device Split', 'Details', 'MAE'),\n",
        "    ('Device Split', 'Exposure', 'SROCC'),\n",
        "    ('Device Split', 'Exposure', 'PLCC'),\n",
        "    ('Device Split', 'Exposure', 'KROCC'),\n",
        "    ('Device Split', 'Exposure', 'MAE'),\n",
        "    ('Device Split', 'Overall', 'SROCC'),\n",
        "    ('Device Split', 'Overall', 'PLCC'),\n",
        "    ('Device Split', 'Overall', 'KROCC'),\n",
        "    ('Device Split', 'Overall', 'MAE')\n",
        "])\n",
        "\n",
        "# DataFrame'i çok katmanlı sütun başlıklarıyla oluşturma\n",
        "df = pd.DataFrame(data, index=['SemHyperIQA', 'FullHyperIQA', 'SEM_HyperIQA_SO', 'SEM_HyperIQA_CO'])\n",
        "df.columns = columns\n",
        "\n",
        "# İlk sütun olan Model\\Attribute'u ekleme\n",
        "df.index.name = 'Model\\\\Attribute'\n",
        "df.reset_index(inplace=True)\n",
        "\n",
        "# CSV dosyasına kaydetme\n",
        "df.to_csv('/content/drive/MyDrive/Device_Split_score.csv', index=False)\n",
        "print(f'Sonuçlar kaydedildi: /content/drive/MyDrive/Device_Split_score.csv')\n"
      ],
      "metadata": {
        "id": "Dbq3MFEn8MDF"
      },
      "execution_count": null,
      "outputs": []
    }
  ],
  "metadata": {
    "colab": {
      "machine_shape": "hm",
      "provenance": [],
      "gpuType": "T4",
      "authorship_tag": "ABX9TyPBBX/Cq8TzIzxNuJTW3Cin",
      "include_colab_link": true
    },
    "kernelspec": {
      "display_name": "Python 3",
      "name": "python3"
    },
    "language_info": {
      "name": "python"
    },
    "accelerator": "GPU"
  },
  "nbformat": 4,
  "nbformat_minor": 0
}