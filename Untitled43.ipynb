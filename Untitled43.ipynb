{
  "nbformat": 4,
  "nbformat_minor": 0,
  "metadata": {
    "colab": {
      "provenance": [],
      "authorship_tag": "ABX9TyNjsBQmXFtlAC/MkhJ+VBeW",
      "include_colab_link": true
    },
    "kernelspec": {
      "name": "python3",
      "display_name": "Python 3"
    },
    "language_info": {
      "name": "python"
    }
  },
  "cells": [
    {
      "cell_type": "markdown",
      "metadata": {
        "id": "view-in-github",
        "colab_type": "text"
      },
      "source": [
        "<a href=\"https://colab.research.google.com/github/beyzzaya/reproducibility_challenge/blob/main/Untitled43.ipynb\" target=\"_parent\"><img src=\"https://colab.research.google.com/assets/colab-badge.svg\" alt=\"Open In Colab\"/></a>"
      ]
    },
    {
      "cell_type": "code",
      "execution_count": null,
      "metadata": {
        "colab": {
          "base_uri": "https://localhost:8080/"
        },
        "id": "_mN_-p7-3jtu",
        "outputId": "6999ae0f-84c3-4945-a8ed-bec6206dc618"
      },
      "outputs": [
        {
          "output_type": "stream",
          "name": "stdout",
          "text": [
            "Mounted at /content/drive\n"
          ]
        }
      ],
      "source": [
        "from google.colab import drive\n",
        "drive.mount('/content/drive')"
      ]
    },
    {
      "cell_type": "code",
      "source": [
        "!git clone https://github.com/DXOMARK-Research/PIQ2023"
      ],
      "metadata": {
        "colab": {
          "base_uri": "https://localhost:8080/"
        },
        "id": "9ffcLdw83mf8",
        "outputId": "bd8eab55-d70f-414c-bf0e-03055a183e5a"
      },
      "execution_count": null,
      "outputs": [
        {
          "output_type": "stream",
          "name": "stdout",
          "text": [
            "Cloning into 'PIQ2023'...\n",
            "remote: Enumerating objects: 321, done.\u001b[K\n",
            "remote: Counting objects: 100% (43/43), done.\u001b[K\n",
            "remote: Compressing objects: 100% (19/19), done.\u001b[K\n",
            "remote: Total 321 (delta 18), reused 36 (delta 13), pack-reused 278\u001b[K\n",
            "Receiving objects: 100% (321/321), 21.34 MiB | 13.74 MiB/s, done.\n",
            "Resolving deltas: 100% (121/121), done.\n"
          ]
        }
      ]
    },
    {
      "cell_type": "markdown",
      "source": [
        "**Adjusting File Paths in the IMAGE PATH Column**\n"
      ],
      "metadata": {
        "id": "JxCoIHq94qkO"
      }
    },
    {
      "cell_type": "code",
      "source": [
        "import pandas as pd\n",
        "\n",
        "file_path3 = '/content/drive/MyDrive/Dataset/Scores_Overall.csv'\n",
        "scores_overall = pd.read_csv(file_path3)\n",
        "\n",
        "scores_overall['IMAGE PATH'] = scores_overall['IMAGE PATH'].str.replace('\\\\', '/')\n",
        "\n",
        "prefix = '/content/drive/MyDrive/Dataset/'\n",
        "scores_overall['IMAGE PATH'] = prefix + scores_overall['IMAGE PATH'].astype(str)\n",
        "\n",
        "print(scores_overall['IMAGE PATH'].head())\n",
        "\n",
        "scores_overall.to_csv(file_path3, index=False)"
      ],
      "metadata": {
        "id": "fX7GD8F64j57"
      },
      "execution_count": null,
      "outputs": []
    },
    {
      "cell_type": "markdown",
      "source": [
        "**Correcting Redundant Additions in the IMAGE PATH Column and Saving the Updated DataFrame**\n",
        "\n"
      ],
      "metadata": {
        "id": "kpSLElCm5uuw"
      }
    },
    {
      "cell_type": "code",
      "source": [
        "import pandas as pd\n",
        "\n",
        "# CSV dosyasını yükleyin\n",
        "file_path = '/content/drive/MyDrive/Dataset/Scores_Details.csv'\n",
        "Scores_Details = pd.read_csv(file_path)\n",
        "\n",
        "# 'IMAGE PATH' sütunundaki hatalı yolları düzeltin\n",
        "# Fazladan '/content/drive/MyDrive/Dataset/' kısmını kaldırın\n",
        "Scores_Details['IMAGE PATH'] = Scores_Details['IMAGE PATH'].str.replace('/content/drive/MyDrive/Dataset//content/drive/MyDrive/Dataset//content/drive/MyDrive/Dataset/', '/content/drive/MyDrive/Dataset/')\n",
        "\n",
        "# Değişiklikleri kontrol edin\n",
        "print(Scores_Details['IMAGE PATH'].head())\n",
        "\n",
        "# Güncellenmiş veri çerçevesini dosyaya kaydedin\n",
        "Scores_Details\n"
      ],
      "metadata": {
        "id": "cZH2gLKP5eMo"
      },
      "execution_count": null,
      "outputs": []
    },
    {
      "cell_type": "markdown",
      "source": [
        "**Call the dataset's csv files**"
      ],
      "metadata": {
        "id": "FX_vhdPX6FzM"
      }
    },
    {
      "cell_type": "code",
      "source": [
        "import pandas as pd\n",
        "\n",
        "file_path = '/content/drive/MyDrive/Dataset/Scores_Details.csv'\n",
        "Scores_Details = pd.read_csv(file_path)\n",
        "\n",
        "file_path2 = \"/content/drive/MyDrive/Dataset/Scores_Exposure.csv\"\n",
        "scores_exposure = pd.read_csv(file_path2)\n",
        "\n",
        "file_path3 = '/content/drive/MyDrive/Dataset/Scores_Overall.csv'\n",
        "scores_overall = pd.read_csv(file_path3)\n"
      ],
      "metadata": {
        "id": "uqn3R4CI3vBM"
      },
      "execution_count": null,
      "outputs": []
    },
    {
      "cell_type": "markdown",
      "source": [
        "**Scene Split**"
      ],
      "metadata": {
        "id": "U0v5kwNB6gb-"
      }
    },
    {
      "cell_type": "code",
      "source": [
        "sceneSplitPath = \"/content/PIQ2023/Test split/Scene Split.csv\"\n",
        "sceneSplitDf = pd.read_csv(sceneSplitPath)\n",
        "sceneSplitDf.head()"
      ],
      "metadata": {
        "colab": {
          "base_uri": "https://localhost:8080/",
          "height": 206
        },
        "id": "mgSVGEd16If9",
        "outputId": "710efede-aae3-45c8-f68d-d45ed9017d37"
      },
      "execution_count": null,
      "outputs": [
        {
          "output_type": "execute_result",
          "data": {
            "text/plain": [
              "             SCENE  SPLIT  NB IMAGES\n",
              "0   Indoor_Scene_0  Train         72\n",
              "1  Indoor_Scene_12  Train        103\n",
              "2  Indoor_Scene_13  Train         90\n",
              "3   Indoor_Scene_2  Train         74\n",
              "4   Indoor_Scene_3  Train         89"
            ],
            "text/html": [
              "\n",
              "  <div id=\"df-9d9656f2-b295-4fcf-800d-e93a192b20ea\" class=\"colab-df-container\">\n",
              "    <div>\n",
              "<style scoped>\n",
              "    .dataframe tbody tr th:only-of-type {\n",
              "        vertical-align: middle;\n",
              "    }\n",
              "\n",
              "    .dataframe tbody tr th {\n",
              "        vertical-align: top;\n",
              "    }\n",
              "\n",
              "    .dataframe thead th {\n",
              "        text-align: right;\n",
              "    }\n",
              "</style>\n",
              "<table border=\"1\" class=\"dataframe\">\n",
              "  <thead>\n",
              "    <tr style=\"text-align: right;\">\n",
              "      <th></th>\n",
              "      <th>SCENE</th>\n",
              "      <th>SPLIT</th>\n",
              "      <th>NB IMAGES</th>\n",
              "    </tr>\n",
              "  </thead>\n",
              "  <tbody>\n",
              "    <tr>\n",
              "      <th>0</th>\n",
              "      <td>Indoor_Scene_0</td>\n",
              "      <td>Train</td>\n",
              "      <td>72</td>\n",
              "    </tr>\n",
              "    <tr>\n",
              "      <th>1</th>\n",
              "      <td>Indoor_Scene_12</td>\n",
              "      <td>Train</td>\n",
              "      <td>103</td>\n",
              "    </tr>\n",
              "    <tr>\n",
              "      <th>2</th>\n",
              "      <td>Indoor_Scene_13</td>\n",
              "      <td>Train</td>\n",
              "      <td>90</td>\n",
              "    </tr>\n",
              "    <tr>\n",
              "      <th>3</th>\n",
              "      <td>Indoor_Scene_2</td>\n",
              "      <td>Train</td>\n",
              "      <td>74</td>\n",
              "    </tr>\n",
              "    <tr>\n",
              "      <th>4</th>\n",
              "      <td>Indoor_Scene_3</td>\n",
              "      <td>Train</td>\n",
              "      <td>89</td>\n",
              "    </tr>\n",
              "  </tbody>\n",
              "</table>\n",
              "</div>\n",
              "    <div class=\"colab-df-buttons\">\n",
              "\n",
              "  <div class=\"colab-df-container\">\n",
              "    <button class=\"colab-df-convert\" onclick=\"convertToInteractive('df-9d9656f2-b295-4fcf-800d-e93a192b20ea')\"\n",
              "            title=\"Convert this dataframe to an interactive table.\"\n",
              "            style=\"display:none;\">\n",
              "\n",
              "  <svg xmlns=\"http://www.w3.org/2000/svg\" height=\"24px\" viewBox=\"0 -960 960 960\">\n",
              "    <path d=\"M120-120v-720h720v720H120Zm60-500h600v-160H180v160Zm220 220h160v-160H400v160Zm0 220h160v-160H400v160ZM180-400h160v-160H180v160Zm440 0h160v-160H620v160ZM180-180h160v-160H180v160Zm440 0h160v-160H620v160Z\"/>\n",
              "  </svg>\n",
              "    </button>\n",
              "\n",
              "  <style>\n",
              "    .colab-df-container {\n",
              "      display:flex;\n",
              "      gap: 12px;\n",
              "    }\n",
              "\n",
              "    .colab-df-convert {\n",
              "      background-color: #E8F0FE;\n",
              "      border: none;\n",
              "      border-radius: 50%;\n",
              "      cursor: pointer;\n",
              "      display: none;\n",
              "      fill: #1967D2;\n",
              "      height: 32px;\n",
              "      padding: 0 0 0 0;\n",
              "      width: 32px;\n",
              "    }\n",
              "\n",
              "    .colab-df-convert:hover {\n",
              "      background-color: #E2EBFA;\n",
              "      box-shadow: 0px 1px 2px rgba(60, 64, 67, 0.3), 0px 1px 3px 1px rgba(60, 64, 67, 0.15);\n",
              "      fill: #174EA6;\n",
              "    }\n",
              "\n",
              "    .colab-df-buttons div {\n",
              "      margin-bottom: 4px;\n",
              "    }\n",
              "\n",
              "    [theme=dark] .colab-df-convert {\n",
              "      background-color: #3B4455;\n",
              "      fill: #D2E3FC;\n",
              "    }\n",
              "\n",
              "    [theme=dark] .colab-df-convert:hover {\n",
              "      background-color: #434B5C;\n",
              "      box-shadow: 0px 1px 3px 1px rgba(0, 0, 0, 0.15);\n",
              "      filter: drop-shadow(0px 1px 2px rgba(0, 0, 0, 0.3));\n",
              "      fill: #FFFFFF;\n",
              "    }\n",
              "  </style>\n",
              "\n",
              "    <script>\n",
              "      const buttonEl =\n",
              "        document.querySelector('#df-9d9656f2-b295-4fcf-800d-e93a192b20ea button.colab-df-convert');\n",
              "      buttonEl.style.display =\n",
              "        google.colab.kernel.accessAllowed ? 'block' : 'none';\n",
              "\n",
              "      async function convertToInteractive(key) {\n",
              "        const element = document.querySelector('#df-9d9656f2-b295-4fcf-800d-e93a192b20ea');\n",
              "        const dataTable =\n",
              "          await google.colab.kernel.invokeFunction('convertToInteractive',\n",
              "                                                    [key], {});\n",
              "        if (!dataTable) return;\n",
              "\n",
              "        const docLinkHtml = 'Like what you see? Visit the ' +\n",
              "          '<a target=\"_blank\" href=https://colab.research.google.com/notebooks/data_table.ipynb>data table notebook</a>'\n",
              "          + ' to learn more about interactive tables.';\n",
              "        element.innerHTML = '';\n",
              "        dataTable['output_type'] = 'display_data';\n",
              "        await google.colab.output.renderOutput(dataTable, element);\n",
              "        const docLink = document.createElement('div');\n",
              "        docLink.innerHTML = docLinkHtml;\n",
              "        element.appendChild(docLink);\n",
              "      }\n",
              "    </script>\n",
              "  </div>\n",
              "\n",
              "\n",
              "<div id=\"df-3e09aaf7-656e-4b17-a13b-61a664ef62db\">\n",
              "  <button class=\"colab-df-quickchart\" onclick=\"quickchart('df-3e09aaf7-656e-4b17-a13b-61a664ef62db')\"\n",
              "            title=\"Suggest charts\"\n",
              "            style=\"display:none;\">\n",
              "\n",
              "<svg xmlns=\"http://www.w3.org/2000/svg\" height=\"24px\"viewBox=\"0 0 24 24\"\n",
              "     width=\"24px\">\n",
              "    <g>\n",
              "        <path d=\"M19 3H5c-1.1 0-2 .9-2 2v14c0 1.1.9 2 2 2h14c1.1 0 2-.9 2-2V5c0-1.1-.9-2-2-2zM9 17H7v-7h2v7zm4 0h-2V7h2v10zm4 0h-2v-4h2v4z\"/>\n",
              "    </g>\n",
              "</svg>\n",
              "  </button>\n",
              "\n",
              "<style>\n",
              "  .colab-df-quickchart {\n",
              "      --bg-color: #E8F0FE;\n",
              "      --fill-color: #1967D2;\n",
              "      --hover-bg-color: #E2EBFA;\n",
              "      --hover-fill-color: #174EA6;\n",
              "      --disabled-fill-color: #AAA;\n",
              "      --disabled-bg-color: #DDD;\n",
              "  }\n",
              "\n",
              "  [theme=dark] .colab-df-quickchart {\n",
              "      --bg-color: #3B4455;\n",
              "      --fill-color: #D2E3FC;\n",
              "      --hover-bg-color: #434B5C;\n",
              "      --hover-fill-color: #FFFFFF;\n",
              "      --disabled-bg-color: #3B4455;\n",
              "      --disabled-fill-color: #666;\n",
              "  }\n",
              "\n",
              "  .colab-df-quickchart {\n",
              "    background-color: var(--bg-color);\n",
              "    border: none;\n",
              "    border-radius: 50%;\n",
              "    cursor: pointer;\n",
              "    display: none;\n",
              "    fill: var(--fill-color);\n",
              "    height: 32px;\n",
              "    padding: 0;\n",
              "    width: 32px;\n",
              "  }\n",
              "\n",
              "  .colab-df-quickchart:hover {\n",
              "    background-color: var(--hover-bg-color);\n",
              "    box-shadow: 0 1px 2px rgba(60, 64, 67, 0.3), 0 1px 3px 1px rgba(60, 64, 67, 0.15);\n",
              "    fill: var(--button-hover-fill-color);\n",
              "  }\n",
              "\n",
              "  .colab-df-quickchart-complete:disabled,\n",
              "  .colab-df-quickchart-complete:disabled:hover {\n",
              "    background-color: var(--disabled-bg-color);\n",
              "    fill: var(--disabled-fill-color);\n",
              "    box-shadow: none;\n",
              "  }\n",
              "\n",
              "  .colab-df-spinner {\n",
              "    border: 2px solid var(--fill-color);\n",
              "    border-color: transparent;\n",
              "    border-bottom-color: var(--fill-color);\n",
              "    animation:\n",
              "      spin 1s steps(1) infinite;\n",
              "  }\n",
              "\n",
              "  @keyframes spin {\n",
              "    0% {\n",
              "      border-color: transparent;\n",
              "      border-bottom-color: var(--fill-color);\n",
              "      border-left-color: var(--fill-color);\n",
              "    }\n",
              "    20% {\n",
              "      border-color: transparent;\n",
              "      border-left-color: var(--fill-color);\n",
              "      border-top-color: var(--fill-color);\n",
              "    }\n",
              "    30% {\n",
              "      border-color: transparent;\n",
              "      border-left-color: var(--fill-color);\n",
              "      border-top-color: var(--fill-color);\n",
              "      border-right-color: var(--fill-color);\n",
              "    }\n",
              "    40% {\n",
              "      border-color: transparent;\n",
              "      border-right-color: var(--fill-color);\n",
              "      border-top-color: var(--fill-color);\n",
              "    }\n",
              "    60% {\n",
              "      border-color: transparent;\n",
              "      border-right-color: var(--fill-color);\n",
              "    }\n",
              "    80% {\n",
              "      border-color: transparent;\n",
              "      border-right-color: var(--fill-color);\n",
              "      border-bottom-color: var(--fill-color);\n",
              "    }\n",
              "    90% {\n",
              "      border-color: transparent;\n",
              "      border-bottom-color: var(--fill-color);\n",
              "    }\n",
              "  }\n",
              "</style>\n",
              "\n",
              "  <script>\n",
              "    async function quickchart(key) {\n",
              "      const quickchartButtonEl =\n",
              "        document.querySelector('#' + key + ' button');\n",
              "      quickchartButtonEl.disabled = true;  // To prevent multiple clicks.\n",
              "      quickchartButtonEl.classList.add('colab-df-spinner');\n",
              "      try {\n",
              "        const charts = await google.colab.kernel.invokeFunction(\n",
              "            'suggestCharts', [key], {});\n",
              "      } catch (error) {\n",
              "        console.error('Error during call to suggestCharts:', error);\n",
              "      }\n",
              "      quickchartButtonEl.classList.remove('colab-df-spinner');\n",
              "      quickchartButtonEl.classList.add('colab-df-quickchart-complete');\n",
              "    }\n",
              "    (() => {\n",
              "      let quickchartButtonEl =\n",
              "        document.querySelector('#df-3e09aaf7-656e-4b17-a13b-61a664ef62db button');\n",
              "      quickchartButtonEl.style.display =\n",
              "        google.colab.kernel.accessAllowed ? 'block' : 'none';\n",
              "    })();\n",
              "  </script>\n",
              "</div>\n",
              "\n",
              "    </div>\n",
              "  </div>\n"
            ],
            "application/vnd.google.colaboratory.intrinsic+json": {
              "type": "dataframe",
              "variable_name": "sceneSplitDf",
              "summary": "{\n  \"name\": \"sceneSplitDf\",\n  \"rows\": 50,\n  \"fields\": [\n    {\n      \"column\": \"SCENE\",\n      \"properties\": {\n        \"dtype\": \"string\",\n        \"num_unique_values\": 50,\n        \"samples\": [\n          \"Lowlight_Scene_19\",\n          \"Lowlight_Scene_16\",\n          \"Outdoor_Scene_42\"\n        ],\n        \"semantic_type\": \"\",\n        \"description\": \"\"\n      }\n    },\n    {\n      \"column\": \"SPLIT\",\n      \"properties\": {\n        \"dtype\": \"category\",\n        \"num_unique_values\": 2,\n        \"samples\": [\n          \"Test\",\n          \"Train\"\n        ],\n        \"semantic_type\": \"\",\n        \"description\": \"\"\n      }\n    },\n    {\n      \"column\": \"NB IMAGES\",\n      \"properties\": {\n        \"dtype\": \"number\",\n        \"std\": 23,\n        \"min\": 45,\n        \"max\": 125,\n        \"num_unique_values\": 28,\n        \"samples\": [\n          70,\n          102\n        ],\n        \"semantic_type\": \"\",\n        \"description\": \"\"\n      }\n    }\n  ]\n}"
            }
          },
          "metadata": {},
          "execution_count": 7
        }
      ]
    },
    {
      "cell_type": "markdown",
      "source": [
        "**score_overall scene split**"
      ],
      "metadata": {
        "id": "JAHo7lhM6rv7"
      }
    },
    {
      "cell_type": "code",
      "source": [
        "train_SO = pd.merge(scores_overall, sceneSplitDf[sceneSplitDf['SPLIT']=='Train'].drop('NB IMAGES', axis=1), on='SCENE', how='inner')\n",
        "test_SO = pd.merge(scores_overall, sceneSplitDf[sceneSplitDf['SPLIT']=='Test'].drop('NB IMAGES', axis=1), on='SCENE', how='inner')\n",
        "\n",
        "train_SO.to_csv(\"/content/drive/MyDrive/Dataset/Scene_Split_train_SO.csv\", index=False)\n",
        "test_SO.to_csv(\"/content/drive/MyDrive/Dataset/Scene_Split_test_SO.csv\", index=False)"
      ],
      "metadata": {
        "id": "4S9uwa0p6KQZ"
      },
      "execution_count": null,
      "outputs": []
    },
    {
      "cell_type": "code",
      "source": [
        "train_SO.shape"
      ],
      "metadata": {
        "colab": {
          "base_uri": "https://localhost:8080/"
        },
        "id": "YaZBElZB6-uq",
        "outputId": "3782018c-dd5f-4cdd-f526-d2b3b9d20ec6"
      },
      "execution_count": null,
      "outputs": [
        {
          "output_type": "execute_result",
          "data": {
            "text/plain": [
              "(3630, 15)"
            ]
          },
          "metadata": {},
          "execution_count": 12
        }
      ]
    },
    {
      "cell_type": "code",
      "source": [
        "test_SO.shape"
      ],
      "metadata": {
        "colab": {
          "base_uri": "https://localhost:8080/"
        },
        "id": "xqBiLxHx7E8w",
        "outputId": "f3545c50-856e-4fd6-ca7a-a4a51f5dcf34"
      },
      "execution_count": null,
      "outputs": [
        {
          "output_type": "execute_result",
          "data": {
            "text/plain": [
              "(1486, 15)"
            ]
          },
          "metadata": {},
          "execution_count": 14
        }
      ]
    },
    {
      "cell_type": "markdown",
      "source": [
        "scores_exposure scene split"
      ],
      "metadata": {
        "id": "sYVliAny7HWY"
      }
    },
    {
      "cell_type": "code",
      "source": [
        "train = pd.merge(scores_exposure, sceneSplitDf[sceneSplitDf['SPLIT']=='Train'].drop('NB IMAGES', axis=1), on='SCENE', how='inner')\n",
        "test = pd.merge(scores_exposure, sceneSplitDf[sceneSplitDf['SPLIT']=='Test'].drop('NB IMAGES', axis=1), on='SCENE', how='inner')\n",
        "\n",
        "train.to_csv(\"/content/drive/MyDrive/Dataset/Scene_Split_train.csv\", index=False)\n",
        "test.to_csv(\"/content/drive/MyDrive/Dataset/Scene_Split_test.csv\", index=False)"
      ],
      "metadata": {
        "id": "cNhkk5X_6_6y"
      },
      "execution_count": null,
      "outputs": []
    },
    {
      "cell_type": "markdown",
      "source": [
        "Scores_details scene split"
      ],
      "metadata": {
        "id": "W-hrEWS97Rck"
      }
    },
    {
      "cell_type": "code",
      "source": [
        "train_SD_S = pd.merge(Scores_Details, sceneSplitDf[sceneSplitDf['SPLIT']=='Train'].drop('NB IMAGES', axis=1), on='SCENE', how='inner')\n",
        "test_SD_S = pd.merge(Scores_Details, sceneSplitDf[sceneSplitDf['SPLIT']=='Test'].drop('NB IMAGES', axis=1), on='SCENE', how='inner')\n",
        "\n",
        "train_SD_S.to_csv(\"/content/drive/MyDrive/Dataset/Scene_Split_trai_SD_S.csv\", index=False)\n",
        "test_SD_S.to_csv(\"/content/drive/MyDrive/Dataset/Scene_Split_test_SD_S.csv\", index=False)"
      ],
      "metadata": {
        "id": "c1YL9-XR7ADe"
      },
      "execution_count": null,
      "outputs": []
    },
    {
      "cell_type": "code",
      "source": [
        "deviceSplitPath = \"/content/PIQ2023/Test split/Device Split.csv\"\n",
        "deviceSplitDf = pd.read_csv(deviceSplitPath)\n",
        "deviceSplitDf.head()"
      ],
      "metadata": {
        "colab": {
          "base_uri": "https://localhost:8080/",
          "height": 206
        },
        "id": "JH4rqbyo7l-q",
        "outputId": "805a2813-cd1d-459d-85a4-9c634fa8c684"
      },
      "execution_count": null,
      "outputs": [
        {
          "output_type": "execute_result",
          "data": {
            "text/plain": [
              "                  IMAGE  SPLIT\n",
              "0  0_Indoor_Scene_0.jpg  Train\n",
              "1  1_Indoor_Scene_0.jpg   Test\n",
              "2  2_Indoor_Scene_0.JPG  Train\n",
              "3  3_Indoor_Scene_0.JPG  Train\n",
              "4  4_Indoor_Scene_0.JPG  Train"
            ],
            "text/html": [
              "\n",
              "  <div id=\"df-45eaa7fc-cf8c-410f-bab0-2791dfc12174\" class=\"colab-df-container\">\n",
              "    <div>\n",
              "<style scoped>\n",
              "    .dataframe tbody tr th:only-of-type {\n",
              "        vertical-align: middle;\n",
              "    }\n",
              "\n",
              "    .dataframe tbody tr th {\n",
              "        vertical-align: top;\n",
              "    }\n",
              "\n",
              "    .dataframe thead th {\n",
              "        text-align: right;\n",
              "    }\n",
              "</style>\n",
              "<table border=\"1\" class=\"dataframe\">\n",
              "  <thead>\n",
              "    <tr style=\"text-align: right;\">\n",
              "      <th></th>\n",
              "      <th>IMAGE</th>\n",
              "      <th>SPLIT</th>\n",
              "    </tr>\n",
              "  </thead>\n",
              "  <tbody>\n",
              "    <tr>\n",
              "      <th>0</th>\n",
              "      <td>0_Indoor_Scene_0.jpg</td>\n",
              "      <td>Train</td>\n",
              "    </tr>\n",
              "    <tr>\n",
              "      <th>1</th>\n",
              "      <td>1_Indoor_Scene_0.jpg</td>\n",
              "      <td>Test</td>\n",
              "    </tr>\n",
              "    <tr>\n",
              "      <th>2</th>\n",
              "      <td>2_Indoor_Scene_0.JPG</td>\n",
              "      <td>Train</td>\n",
              "    </tr>\n",
              "    <tr>\n",
              "      <th>3</th>\n",
              "      <td>3_Indoor_Scene_0.JPG</td>\n",
              "      <td>Train</td>\n",
              "    </tr>\n",
              "    <tr>\n",
              "      <th>4</th>\n",
              "      <td>4_Indoor_Scene_0.JPG</td>\n",
              "      <td>Train</td>\n",
              "    </tr>\n",
              "  </tbody>\n",
              "</table>\n",
              "</div>\n",
              "    <div class=\"colab-df-buttons\">\n",
              "\n",
              "  <div class=\"colab-df-container\">\n",
              "    <button class=\"colab-df-convert\" onclick=\"convertToInteractive('df-45eaa7fc-cf8c-410f-bab0-2791dfc12174')\"\n",
              "            title=\"Convert this dataframe to an interactive table.\"\n",
              "            style=\"display:none;\">\n",
              "\n",
              "  <svg xmlns=\"http://www.w3.org/2000/svg\" height=\"24px\" viewBox=\"0 -960 960 960\">\n",
              "    <path d=\"M120-120v-720h720v720H120Zm60-500h600v-160H180v160Zm220 220h160v-160H400v160Zm0 220h160v-160H400v160ZM180-400h160v-160H180v160Zm440 0h160v-160H620v160ZM180-180h160v-160H180v160Zm440 0h160v-160H620v160Z\"/>\n",
              "  </svg>\n",
              "    </button>\n",
              "\n",
              "  <style>\n",
              "    .colab-df-container {\n",
              "      display:flex;\n",
              "      gap: 12px;\n",
              "    }\n",
              "\n",
              "    .colab-df-convert {\n",
              "      background-color: #E8F0FE;\n",
              "      border: none;\n",
              "      border-radius: 50%;\n",
              "      cursor: pointer;\n",
              "      display: none;\n",
              "      fill: #1967D2;\n",
              "      height: 32px;\n",
              "      padding: 0 0 0 0;\n",
              "      width: 32px;\n",
              "    }\n",
              "\n",
              "    .colab-df-convert:hover {\n",
              "      background-color: #E2EBFA;\n",
              "      box-shadow: 0px 1px 2px rgba(60, 64, 67, 0.3), 0px 1px 3px 1px rgba(60, 64, 67, 0.15);\n",
              "      fill: #174EA6;\n",
              "    }\n",
              "\n",
              "    .colab-df-buttons div {\n",
              "      margin-bottom: 4px;\n",
              "    }\n",
              "\n",
              "    [theme=dark] .colab-df-convert {\n",
              "      background-color: #3B4455;\n",
              "      fill: #D2E3FC;\n",
              "    }\n",
              "\n",
              "    [theme=dark] .colab-df-convert:hover {\n",
              "      background-color: #434B5C;\n",
              "      box-shadow: 0px 1px 3px 1px rgba(0, 0, 0, 0.15);\n",
              "      filter: drop-shadow(0px 1px 2px rgba(0, 0, 0, 0.3));\n",
              "      fill: #FFFFFF;\n",
              "    }\n",
              "  </style>\n",
              "\n",
              "    <script>\n",
              "      const buttonEl =\n",
              "        document.querySelector('#df-45eaa7fc-cf8c-410f-bab0-2791dfc12174 button.colab-df-convert');\n",
              "      buttonEl.style.display =\n",
              "        google.colab.kernel.accessAllowed ? 'block' : 'none';\n",
              "\n",
              "      async function convertToInteractive(key) {\n",
              "        const element = document.querySelector('#df-45eaa7fc-cf8c-410f-bab0-2791dfc12174');\n",
              "        const dataTable =\n",
              "          await google.colab.kernel.invokeFunction('convertToInteractive',\n",
              "                                                    [key], {});\n",
              "        if (!dataTable) return;\n",
              "\n",
              "        const docLinkHtml = 'Like what you see? Visit the ' +\n",
              "          '<a target=\"_blank\" href=https://colab.research.google.com/notebooks/data_table.ipynb>data table notebook</a>'\n",
              "          + ' to learn more about interactive tables.';\n",
              "        element.innerHTML = '';\n",
              "        dataTable['output_type'] = 'display_data';\n",
              "        await google.colab.output.renderOutput(dataTable, element);\n",
              "        const docLink = document.createElement('div');\n",
              "        docLink.innerHTML = docLinkHtml;\n",
              "        element.appendChild(docLink);\n",
              "      }\n",
              "    </script>\n",
              "  </div>\n",
              "\n",
              "\n",
              "<div id=\"df-537fdc93-2944-44d7-9852-b2db3ee113da\">\n",
              "  <button class=\"colab-df-quickchart\" onclick=\"quickchart('df-537fdc93-2944-44d7-9852-b2db3ee113da')\"\n",
              "            title=\"Suggest charts\"\n",
              "            style=\"display:none;\">\n",
              "\n",
              "<svg xmlns=\"http://www.w3.org/2000/svg\" height=\"24px\"viewBox=\"0 0 24 24\"\n",
              "     width=\"24px\">\n",
              "    <g>\n",
              "        <path d=\"M19 3H5c-1.1 0-2 .9-2 2v14c0 1.1.9 2 2 2h14c1.1 0 2-.9 2-2V5c0-1.1-.9-2-2-2zM9 17H7v-7h2v7zm4 0h-2V7h2v10zm4 0h-2v-4h2v4z\"/>\n",
              "    </g>\n",
              "</svg>\n",
              "  </button>\n",
              "\n",
              "<style>\n",
              "  .colab-df-quickchart {\n",
              "      --bg-color: #E8F0FE;\n",
              "      --fill-color: #1967D2;\n",
              "      --hover-bg-color: #E2EBFA;\n",
              "      --hover-fill-color: #174EA6;\n",
              "      --disabled-fill-color: #AAA;\n",
              "      --disabled-bg-color: #DDD;\n",
              "  }\n",
              "\n",
              "  [theme=dark] .colab-df-quickchart {\n",
              "      --bg-color: #3B4455;\n",
              "      --fill-color: #D2E3FC;\n",
              "      --hover-bg-color: #434B5C;\n",
              "      --hover-fill-color: #FFFFFF;\n",
              "      --disabled-bg-color: #3B4455;\n",
              "      --disabled-fill-color: #666;\n",
              "  }\n",
              "\n",
              "  .colab-df-quickchart {\n",
              "    background-color: var(--bg-color);\n",
              "    border: none;\n",
              "    border-radius: 50%;\n",
              "    cursor: pointer;\n",
              "    display: none;\n",
              "    fill: var(--fill-color);\n",
              "    height: 32px;\n",
              "    padding: 0;\n",
              "    width: 32px;\n",
              "  }\n",
              "\n",
              "  .colab-df-quickchart:hover {\n",
              "    background-color: var(--hover-bg-color);\n",
              "    box-shadow: 0 1px 2px rgba(60, 64, 67, 0.3), 0 1px 3px 1px rgba(60, 64, 67, 0.15);\n",
              "    fill: var(--button-hover-fill-color);\n",
              "  }\n",
              "\n",
              "  .colab-df-quickchart-complete:disabled,\n",
              "  .colab-df-quickchart-complete:disabled:hover {\n",
              "    background-color: var(--disabled-bg-color);\n",
              "    fill: var(--disabled-fill-color);\n",
              "    box-shadow: none;\n",
              "  }\n",
              "\n",
              "  .colab-df-spinner {\n",
              "    border: 2px solid var(--fill-color);\n",
              "    border-color: transparent;\n",
              "    border-bottom-color: var(--fill-color);\n",
              "    animation:\n",
              "      spin 1s steps(1) infinite;\n",
              "  }\n",
              "\n",
              "  @keyframes spin {\n",
              "    0% {\n",
              "      border-color: transparent;\n",
              "      border-bottom-color: var(--fill-color);\n",
              "      border-left-color: var(--fill-color);\n",
              "    }\n",
              "    20% {\n",
              "      border-color: transparent;\n",
              "      border-left-color: var(--fill-color);\n",
              "      border-top-color: var(--fill-color);\n",
              "    }\n",
              "    30% {\n",
              "      border-color: transparent;\n",
              "      border-left-color: var(--fill-color);\n",
              "      border-top-color: var(--fill-color);\n",
              "      border-right-color: var(--fill-color);\n",
              "    }\n",
              "    40% {\n",
              "      border-color: transparent;\n",
              "      border-right-color: var(--fill-color);\n",
              "      border-top-color: var(--fill-color);\n",
              "    }\n",
              "    60% {\n",
              "      border-color: transparent;\n",
              "      border-right-color: var(--fill-color);\n",
              "    }\n",
              "    80% {\n",
              "      border-color: transparent;\n",
              "      border-right-color: var(--fill-color);\n",
              "      border-bottom-color: var(--fill-color);\n",
              "    }\n",
              "    90% {\n",
              "      border-color: transparent;\n",
              "      border-bottom-color: var(--fill-color);\n",
              "    }\n",
              "  }\n",
              "</style>\n",
              "\n",
              "  <script>\n",
              "    async function quickchart(key) {\n",
              "      const quickchartButtonEl =\n",
              "        document.querySelector('#' + key + ' button');\n",
              "      quickchartButtonEl.disabled = true;  // To prevent multiple clicks.\n",
              "      quickchartButtonEl.classList.add('colab-df-spinner');\n",
              "      try {\n",
              "        const charts = await google.colab.kernel.invokeFunction(\n",
              "            'suggestCharts', [key], {});\n",
              "      } catch (error) {\n",
              "        console.error('Error during call to suggestCharts:', error);\n",
              "      }\n",
              "      quickchartButtonEl.classList.remove('colab-df-spinner');\n",
              "      quickchartButtonEl.classList.add('colab-df-quickchart-complete');\n",
              "    }\n",
              "    (() => {\n",
              "      let quickchartButtonEl =\n",
              "        document.querySelector('#df-537fdc93-2944-44d7-9852-b2db3ee113da button');\n",
              "      quickchartButtonEl.style.display =\n",
              "        google.colab.kernel.accessAllowed ? 'block' : 'none';\n",
              "    })();\n",
              "  </script>\n",
              "</div>\n",
              "\n",
              "    </div>\n",
              "  </div>\n"
            ],
            "application/vnd.google.colaboratory.intrinsic+json": {
              "type": "dataframe",
              "variable_name": "deviceSplitDf",
              "summary": "{\n  \"name\": \"deviceSplitDf\",\n  \"rows\": 5116,\n  \"fields\": [\n    {\n      \"column\": \"IMAGE\",\n      \"properties\": {\n        \"dtype\": \"string\",\n        \"num_unique_values\": 5116,\n        \"samples\": [\n          \"530_Indoor_Scene_6.jpg\",\n          \"5002_Outdoor_Scene_49.jpg\",\n          \"4885_Outdoor_Scene_47.jpg\"\n        ],\n        \"semantic_type\": \"\",\n        \"description\": \"\"\n      }\n    },\n    {\n      \"column\": \"SPLIT\",\n      \"properties\": {\n        \"dtype\": \"category\",\n        \"num_unique_values\": 2,\n        \"samples\": [\n          \"Test\",\n          \"Train\"\n        ],\n        \"semantic_type\": \"\",\n        \"description\": \"\"\n      }\n    }\n  ]\n}"
            }
          },
          "metadata": {},
          "execution_count": 12
        }
      ]
    },
    {
      "cell_type": "code",
      "source": [
        "train_SO_D = pd.merge(scores_overall, deviceSplitDf[deviceSplitDf['SPLIT']=='Train'], on='IMAGE', how='inner')\n",
        "testDf_SO_D = pd.merge(scores_overall, deviceSplitDf[deviceSplitDf['SPLIT']=='Test'], on='IMAGE', how='inner')\n",
        "\n",
        "train_SO_D.to_csv(\"/content/drive/MyDrive/Dataset/device_split_train_SO.csv\", index=False)\n",
        "testDf_SO_D.to_csv(\"/content/drive/MyDrive/Dataset/device_split_test_SO.csv\", index=False)"
      ],
      "metadata": {
        "id": "vt2V2ZRb8fp3"
      },
      "execution_count": null,
      "outputs": []
    },
    {
      "cell_type": "code",
      "source": [
        "train_SO_D.shape"
      ],
      "metadata": {
        "colab": {
          "base_uri": "https://localhost:8080/"
        },
        "id": "Q0euo_eP8uek",
        "outputId": "58dbfc6c-d041-4d48-9c01-ba2438df74c7"
      },
      "execution_count": null,
      "outputs": [
        {
          "output_type": "execute_result",
          "data": {
            "text/plain": [
              "(3604, 15)"
            ]
          },
          "metadata": {},
          "execution_count": 19
        }
      ]
    },
    {
      "cell_type": "code",
      "source": [
        "testDf_SO_D.shape"
      ],
      "metadata": {
        "colab": {
          "base_uri": "https://localhost:8080/"
        },
        "id": "6f_bwDB08uhN",
        "outputId": "bad7e14c-6e8f-434c-d895-d0baecfd9c7b"
      },
      "execution_count": null,
      "outputs": [
        {
          "output_type": "execute_result",
          "data": {
            "text/plain": [
              "(1512, 15)"
            ]
          },
          "metadata": {},
          "execution_count": 20
        }
      ]
    },
    {
      "cell_type": "code",
      "source": [
        "trainDf = pd.merge(scores_exposure, deviceSplitDf[deviceSplitDf['SPLIT']=='Train'], on='IMAGE', how='inner')\n",
        "testDf = pd.merge(scores_exposure, deviceSplitDf[deviceSplitDf['SPLIT']=='Test'], on='IMAGE', how='inner')\n",
        "\n",
        "trainDf.to_csv(\"/content/drive/MyDrive/Dataset/device_split_train.csv\", index=False)\n",
        "testDf.to_csv(\"/content/drive/MyDrive/Dataset/device_split_test.csv\", index=False)"
      ],
      "metadata": {
        "id": "SFLLrJGQ8Tg7"
      },
      "execution_count": null,
      "outputs": []
    },
    {
      "cell_type": "code",
      "source": [
        "train_SD_D = pd.merge(Scores_Details, deviceSplitDf[deviceSplitDf['SPLIT']=='Train'], on='IMAGE', how='inner')\n",
        "testDf_SD_D = pd.merge(Scores_Details, deviceSplitDf[deviceSplitDf['SPLIT']=='Test'], on='IMAGE', how='inner')\n",
        "\n",
        "train_SD_D.to_csv(\"/content/drive/MyDrive/Dataset/device_split_train_SD_D.csv\", index=False)\n",
        "testDf_SD_D.to_csv(\"/content/drive/MyDrive/Dataset/device_split_testDf_SD_D.csv\", index=False)"
      ],
      "metadata": {
        "id": "LUS7lUUZ8Tni"
      },
      "execution_count": null,
      "outputs": []
    },
    {
      "cell_type": "code",
      "source": [
        "# Score exposure scene split\n",
        "trainPath = \"/content/drive/MyDrive/Dataset/Scene_Split_train.csv\"\n",
        "train_SE_S = pd.read_csv(trainPath)\n",
        "\n",
        "testPath = \"/content/drive/MyDrive/Dataset/Scene_Split_test.csv\"\n",
        "test_SE_S = pd.read_csv(testPath)\n",
        "\n",
        "#Score exposure device split\n",
        "traindf_path = \"/content/drive/MyDrive/Dataset/device_split_train.csv\"\n",
        "train_SE_D = pd.read_csv(traindf_path)\n",
        "\n",
        "testdf_path = \"/content/drive/MyDrive/Dataset/device_split_test.csv\"\n",
        "testSE_D = pd.read_csv(testdf_path)\n",
        "\n",
        "# SCORE DETAIL SCENE SPLİT\n",
        "train_SD_S_path = \"/content/drive/MyDrive/Dataset/Scene_Split_trai_SD_S.csv\"\n",
        "train_SD_S = pd.read_csv(train_SD_S_path)\n",
        "\n",
        "test_SD_S_path = \"/content/drive/MyDrive/Dataset/Scene_Split_test_SD_S.csv\"\n",
        "test_SD_S = pd.read_csv(test_SD_S_path)\n",
        "\n",
        "# SCORE DETAIL DEVICE SPLİT\n",
        "train_SD_D_path = \"/content/drive/MyDrive/Dataset/device_split_train_SD_D.csv\"\n",
        "train_SD_S = pd.read_csv(train_SD_D_path)\n",
        "\n",
        "test_SD_D_path = \"/content/drive/MyDrive/Dataset/device_split_testDf_SD_D.csv\"\n",
        "test_SD_D = pd.read_csv(test_SD_D_path)\n",
        "\n",
        "#SCORE OVERALL SCENE SPLIT\n",
        "train_SO_path = \"/content/drive/MyDrive/Dataset/Scene_Split_train_SO.csv\"\n",
        "train_SO_S = pd.read_csv(train_SO_path)\n",
        "\n",
        "test_SO_path = \"/content/drive/MyDrive/Dataset/Scene_Split_test_SO.csv\"\n",
        "test_SO_S = pd.read_csv(test_SO_path)\n",
        "\n",
        "#SCORE OVERALL DEVICE SPLIT\n",
        "train_SO_D_path = \"/content/drive/MyDrive/Dataset/device_split_train_SO.csv\"\n",
        "train_SO_D = pd.read_csv(train_SO_D_path)\n",
        "\n",
        "test_SO_D_path = \"/content/drive/MyDrive/Dataset/device_split_test_SO.csv\"\n",
        "test_SO_D = pd.read_csv(test_SO_D_path)\n",
        "\n"
      ],
      "metadata": {
        "id": "hGRLZtzX8Trp"
      },
      "execution_count": null,
      "outputs": []
    },
    {
      "cell_type": "code",
      "source": [],
      "metadata": {
        "id": "0rDJnopE8xAq"
      },
      "execution_count": null,
      "outputs": []
    },
    {
      "cell_type": "code",
      "source": [],
      "metadata": {
        "id": "4kUURWFc8xFC"
      },
      "execution_count": null,
      "outputs": []
    },
    {
      "cell_type": "code",
      "source": [
        "from PIL import Image\n",
        "def convert_to_jpeg(image_path):\n",
        "  try:\n",
        "    if image_path.endswith(\".tiff\") or image_path.endswith(\".jpg\") or image_path.endswith(\".JPG\"):\n",
        "      new_path = image_path.rsplit(\".\", 1)[0] + \".jpeg\"\n",
        "      image = Image.open(image_path)\n",
        "      image = image.convert(\"RGB\")\n",
        "      image.save(new_path, \"JPEG\")\n",
        "      return new_path\n",
        "    return image_path\n",
        "  except Exception as e:\n",
        "    print(f\"Error converting {image_path}: {e}\")\n",
        "    return image_path"
      ],
      "metadata": {
        "id": "4qKeajor8xR5"
      },
      "execution_count": null,
      "outputs": []
    },
    {
      "cell_type": "code",
      "source": [
        "train[\"IMAGE PATH\"] = train['IMAGE PATH'].apply(convert_to_jpeg)\n",
        "test[\"IMAGE PATH\"] = test['IMAGE PATH'].apply(convert_to_jpeg)\n",
        "\n",
        "traindf[\"IMAGE PATH\"] = traindf['IMAGE PATH'].apply(convert_to_jpeg)\n",
        "testdf[\"IMAGE PATH\"] = testdf['IMAGE PATH'].apply(convert_to_jpeg)\n",
        "\n",
        "train_SD_D[\"IMAGE PATH\"] = train_SD_D['IMAGE PATH'].apply(convert_to_jpeg)\n",
        "test_SD_D[\"IMAGE PATH\"] = test_SD_D['IMAGE PATH'].apply(convert_to_jpeg)\n",
        "\n",
        "train_SD_S[\"IMAGE PATH\"] = train_SD_S['IMAGE PATH'].apply(convert_to_jpeg)\n",
        "test_SD_S[\"IMAGE PATH\"] = test_SD_S['IMAGE PATH'].apply(convert_to_jpeg)"
      ],
      "metadata": {
        "id": "LXOXsHueAM57"
      },
      "execution_count": null,
      "outputs": []
    },
    {
      "cell_type": "code",
      "source": [
        "train_SO[\"IMAGE PATH\"] = train_SO['IMAGE PATH'].apply(convert_to_jpeg)\n",
        "test_SO[\"IMAGE PATH\"] = test_SO['IMAGE PATH'].apply(convert_to_jpeg)\n",
        "\n",
        "train_SO_D[\"IMAGE PATH\"] = train_SO_D['IMAGE PATH'].apply(convert_to_jpeg)\n",
        "test_SO_D[\"IMAGE PATH\"] = test_SO_D['IMAGE PATH'].apply(convert_to_jpeg)"
      ],
      "metadata": {
        "id": "qxo7htv4-d33"
      },
      "execution_count": null,
      "outputs": []
    },
    {
      "cell_type": "code",
      "source": [
        "\n",
        "train.to_csv(\"/content/drive/MyDrive/Dataset/Scene_Split_train.csv\", index=False)\n",
        "test.to_csv(\"/content/drive/MyDrive/Dataset/Scene_Split_test.csv\", index=False)\n",
        "traindf.to_csv(\"/content/drive/MyDrive/Dataset/device_split_train.csv\", index=False)\n",
        "testdf.to_csv(\"/content/drive/MyDrive/Dataset/device_split_test.csv\", index=False)\n",
        "\n",
        "train_SD_D.to_csv(\"/content/drive/MyDrive/Dataset/device_split_train_SD_D.csv\", index=False)\n",
        "test_SD_D.to_csv(\"/content/drive/MyDrive/Dataset/device_split_testDf_SD_D.csv\", index=False)\n",
        "train_SD_S.to_csv(\"/content/drive/MyDrive/Dataset/Scene_Split_trai_SD_S.csv\", index=False)\n",
        "test_SD_S.to_csv(\"/content/drive/MyDrive/Dataset/Scene_Split_test_SD_S.csv\", index=False)"
      ],
      "metadata": {
        "id": "oEK5D7H1_cgJ"
      },
      "execution_count": null,
      "outputs": []
    }
  ]
}